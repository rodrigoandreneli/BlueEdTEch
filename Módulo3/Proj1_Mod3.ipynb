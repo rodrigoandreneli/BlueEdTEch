{
  "nbformat": 4,
  "nbformat_minor": 0,
  "metadata": {
    "colab": {
      "name": "Proj1 - Mod3.ipynb",
      "provenance": [],
      "collapsed_sections": []
    },
    "kernelspec": {
      "name": "python3",
      "display_name": "Python 3"
    },
    "language_info": {
      "name": "python"
    }
  },
  "cells": [
    {
      "cell_type": "markdown",
      "source": [
        "---\n",
        "# **PROJETO 1** - IBM - RH - Análise de desempenho e atritos de funcionários\n",
        "---"
      ],
      "metadata": {
        "id": "vCBBo43ZHZ5I"
      }
    },
    {
      "cell_type": "markdown",
      "source": [
        "# **IBM HR Analytics Employee Attrition & Performance - Kaggle**\n",
        "Este conjunto de dados foi criado pela equipe de cientistas de dados da IBM com o objetivo de ser usado de maneira educacional. Iremos criar uma variável chamada de turnover (rotatividade) para ser usada como variável dependente. Esta variável demonstra que o funcionário poderá sair da empresa."
      ],
      "metadata": {
        "id": "sFUnMYz8H2lx"
      }
    },
    {
      "cell_type": "markdown",
      "source": [
        "# **Sobre este projeto:**\n",
        "Os principais pontos que serão avaliados:\n",
        "Levantamento de hipóteses\n",
        "Manipulação de dados e criação de gráficos simples com o Pandas\n",
        "Criar um modelo de classificação"
      ],
      "metadata": {
        "id": "8KdYCFnxILi3"
      }
    },
    {
      "cell_type": "markdown",
      "source": [
        "# **Preparação do Ambiente:**\n",
        "Para este projeto, acessem o link - https://www.kaggle.com/datasets/pavansubhasht/ibm-hr-analytics-attrition-dataset e logo abaixo cliquem em \"Download\". Caso voce não tenha uma conta no Kaggle, crie uma e retorne para esse ponto para realizar o download. Descompacte o arquivo.\\\n",
        "Crie a variável *turnover* seguindo a orientação abaixo:\n",
        "\n",
        "*   dados['turnover'] = dados.replace({'Attrition': {'Yes':1, 'No': 0}})\n",
        "\n"
      ],
      "metadata": {
        "id": "uKKeJl2d6wxf"
      }
    },
    {
      "cell_type": "code",
      "source": [
        "# Importando Bibliotecas\n",
        "import matplotlib.pyplot as plt\n",
        "import numpy as np\n",
        "import pandas as pd\n",
        "import seaborn as sns\n",
        "from sklearn.feature_selection import RFE\n",
        "from sklearn.linear_model import LinearRegression\n",
        "from sklearn.preprocessing import StandardScaler\n",
        "from sklearn.tree import DecisionTreeClassifier\n",
        "from sklearn.tree import plot_tree\n",
        "from sklearn.model_selection import train_test_split\n",
        "from sklearn.model_selection import cross_validate\n",
        "from sklearn.metrics import accuracy_score, precision_score, recall_score"
      ],
      "metadata": {
        "id": "QWEJNucN8THN"
      },
      "execution_count": 1,
      "outputs": []
    },
    {
      "cell_type": "code",
      "execution_count": 2,
      "metadata": {
        "colab": {
          "base_uri": "https://localhost:8080/",
          "height": 627
        },
        "id": "lmu13TEt6sNl",
        "outputId": "70c2f6de-843f-4d85-b11e-9e18b9d4e1af"
      },
      "outputs": [
        {
          "output_type": "execute_result",
          "data": {
            "text/plain": [
              "      Age Attrition     BusinessTravel  DailyRate              Department  \\\n",
              "0      41       Yes      Travel_Rarely       1102                   Sales   \n",
              "1      49        No  Travel_Frequently        279  Research & Development   \n",
              "2      37       Yes      Travel_Rarely       1373  Research & Development   \n",
              "3      33        No  Travel_Frequently       1392  Research & Development   \n",
              "4      27        No      Travel_Rarely        591  Research & Development   \n",
              "...   ...       ...                ...        ...                     ...   \n",
              "1465   36        No  Travel_Frequently        884  Research & Development   \n",
              "1466   39        No      Travel_Rarely        613  Research & Development   \n",
              "1467   27        No      Travel_Rarely        155  Research & Development   \n",
              "1468   49        No  Travel_Frequently       1023                   Sales   \n",
              "1469   34        No      Travel_Rarely        628  Research & Development   \n",
              "\n",
              "      DistanceFromHome  Education EducationField  EmployeeCount  \\\n",
              "0                    1          2  Life Sciences              1   \n",
              "1                    8          1  Life Sciences              1   \n",
              "2                    2          2          Other              1   \n",
              "3                    3          4  Life Sciences              1   \n",
              "4                    2          1        Medical              1   \n",
              "...                ...        ...            ...            ...   \n",
              "1465                23          2        Medical              1   \n",
              "1466                 6          1        Medical              1   \n",
              "1467                 4          3  Life Sciences              1   \n",
              "1468                 2          3        Medical              1   \n",
              "1469                 8          3        Medical              1   \n",
              "\n",
              "      EmployeeNumber  ...  RelationshipSatisfaction StandardHours  \\\n",
              "0                  1  ...                         1            80   \n",
              "1                  2  ...                         4            80   \n",
              "2                  4  ...                         2            80   \n",
              "3                  5  ...                         3            80   \n",
              "4                  7  ...                         4            80   \n",
              "...              ...  ...                       ...           ...   \n",
              "1465            2061  ...                         3            80   \n",
              "1466            2062  ...                         1            80   \n",
              "1467            2064  ...                         2            80   \n",
              "1468            2065  ...                         4            80   \n",
              "1469            2068  ...                         1            80   \n",
              "\n",
              "      StockOptionLevel  TotalWorkingYears  TrainingTimesLastYear  \\\n",
              "0                    0                  8                      0   \n",
              "1                    1                 10                      3   \n",
              "2                    0                  7                      3   \n",
              "3                    0                  8                      3   \n",
              "4                    1                  6                      3   \n",
              "...                ...                ...                    ...   \n",
              "1465                 1                 17                      3   \n",
              "1466                 1                  9                      5   \n",
              "1467                 1                  6                      0   \n",
              "1468                 0                 17                      3   \n",
              "1469                 0                  6                      3   \n",
              "\n",
              "     WorkLifeBalance  YearsAtCompany YearsInCurrentRole  \\\n",
              "0                  1               6                  4   \n",
              "1                  3              10                  7   \n",
              "2                  3               0                  0   \n",
              "3                  3               8                  7   \n",
              "4                  3               2                  2   \n",
              "...              ...             ...                ...   \n",
              "1465               3               5                  2   \n",
              "1466               3               7                  7   \n",
              "1467               3               6                  2   \n",
              "1468               2               9                  6   \n",
              "1469               4               4                  3   \n",
              "\n",
              "      YearsSinceLastPromotion  YearsWithCurrManager  \n",
              "0                           0                     5  \n",
              "1                           1                     7  \n",
              "2                           0                     0  \n",
              "3                           3                     0  \n",
              "4                           2                     2  \n",
              "...                       ...                   ...  \n",
              "1465                        0                     3  \n",
              "1466                        1                     7  \n",
              "1467                        0                     3  \n",
              "1468                        0                     8  \n",
              "1469                        1                     2  \n",
              "\n",
              "[1470 rows x 35 columns]"
            ],
            "text/html": [
              "\n",
              "  <div id=\"df-c78c61d8-ae10-4e30-ae88-2f1a7d8bb2db\">\n",
              "    <div class=\"colab-df-container\">\n",
              "      <div>\n",
              "<style scoped>\n",
              "    .dataframe tbody tr th:only-of-type {\n",
              "        vertical-align: middle;\n",
              "    }\n",
              "\n",
              "    .dataframe tbody tr th {\n",
              "        vertical-align: top;\n",
              "    }\n",
              "\n",
              "    .dataframe thead th {\n",
              "        text-align: right;\n",
              "    }\n",
              "</style>\n",
              "<table border=\"1\" class=\"dataframe\">\n",
              "  <thead>\n",
              "    <tr style=\"text-align: right;\">\n",
              "      <th></th>\n",
              "      <th>Age</th>\n",
              "      <th>Attrition</th>\n",
              "      <th>BusinessTravel</th>\n",
              "      <th>DailyRate</th>\n",
              "      <th>Department</th>\n",
              "      <th>DistanceFromHome</th>\n",
              "      <th>Education</th>\n",
              "      <th>EducationField</th>\n",
              "      <th>EmployeeCount</th>\n",
              "      <th>EmployeeNumber</th>\n",
              "      <th>...</th>\n",
              "      <th>RelationshipSatisfaction</th>\n",
              "      <th>StandardHours</th>\n",
              "      <th>StockOptionLevel</th>\n",
              "      <th>TotalWorkingYears</th>\n",
              "      <th>TrainingTimesLastYear</th>\n",
              "      <th>WorkLifeBalance</th>\n",
              "      <th>YearsAtCompany</th>\n",
              "      <th>YearsInCurrentRole</th>\n",
              "      <th>YearsSinceLastPromotion</th>\n",
              "      <th>YearsWithCurrManager</th>\n",
              "    </tr>\n",
              "  </thead>\n",
              "  <tbody>\n",
              "    <tr>\n",
              "      <th>0</th>\n",
              "      <td>41</td>\n",
              "      <td>Yes</td>\n",
              "      <td>Travel_Rarely</td>\n",
              "      <td>1102</td>\n",
              "      <td>Sales</td>\n",
              "      <td>1</td>\n",
              "      <td>2</td>\n",
              "      <td>Life Sciences</td>\n",
              "      <td>1</td>\n",
              "      <td>1</td>\n",
              "      <td>...</td>\n",
              "      <td>1</td>\n",
              "      <td>80</td>\n",
              "      <td>0</td>\n",
              "      <td>8</td>\n",
              "      <td>0</td>\n",
              "      <td>1</td>\n",
              "      <td>6</td>\n",
              "      <td>4</td>\n",
              "      <td>0</td>\n",
              "      <td>5</td>\n",
              "    </tr>\n",
              "    <tr>\n",
              "      <th>1</th>\n",
              "      <td>49</td>\n",
              "      <td>No</td>\n",
              "      <td>Travel_Frequently</td>\n",
              "      <td>279</td>\n",
              "      <td>Research &amp; Development</td>\n",
              "      <td>8</td>\n",
              "      <td>1</td>\n",
              "      <td>Life Sciences</td>\n",
              "      <td>1</td>\n",
              "      <td>2</td>\n",
              "      <td>...</td>\n",
              "      <td>4</td>\n",
              "      <td>80</td>\n",
              "      <td>1</td>\n",
              "      <td>10</td>\n",
              "      <td>3</td>\n",
              "      <td>3</td>\n",
              "      <td>10</td>\n",
              "      <td>7</td>\n",
              "      <td>1</td>\n",
              "      <td>7</td>\n",
              "    </tr>\n",
              "    <tr>\n",
              "      <th>2</th>\n",
              "      <td>37</td>\n",
              "      <td>Yes</td>\n",
              "      <td>Travel_Rarely</td>\n",
              "      <td>1373</td>\n",
              "      <td>Research &amp; Development</td>\n",
              "      <td>2</td>\n",
              "      <td>2</td>\n",
              "      <td>Other</td>\n",
              "      <td>1</td>\n",
              "      <td>4</td>\n",
              "      <td>...</td>\n",
              "      <td>2</td>\n",
              "      <td>80</td>\n",
              "      <td>0</td>\n",
              "      <td>7</td>\n",
              "      <td>3</td>\n",
              "      <td>3</td>\n",
              "      <td>0</td>\n",
              "      <td>0</td>\n",
              "      <td>0</td>\n",
              "      <td>0</td>\n",
              "    </tr>\n",
              "    <tr>\n",
              "      <th>3</th>\n",
              "      <td>33</td>\n",
              "      <td>No</td>\n",
              "      <td>Travel_Frequently</td>\n",
              "      <td>1392</td>\n",
              "      <td>Research &amp; Development</td>\n",
              "      <td>3</td>\n",
              "      <td>4</td>\n",
              "      <td>Life Sciences</td>\n",
              "      <td>1</td>\n",
              "      <td>5</td>\n",
              "      <td>...</td>\n",
              "      <td>3</td>\n",
              "      <td>80</td>\n",
              "      <td>0</td>\n",
              "      <td>8</td>\n",
              "      <td>3</td>\n",
              "      <td>3</td>\n",
              "      <td>8</td>\n",
              "      <td>7</td>\n",
              "      <td>3</td>\n",
              "      <td>0</td>\n",
              "    </tr>\n",
              "    <tr>\n",
              "      <th>4</th>\n",
              "      <td>27</td>\n",
              "      <td>No</td>\n",
              "      <td>Travel_Rarely</td>\n",
              "      <td>591</td>\n",
              "      <td>Research &amp; Development</td>\n",
              "      <td>2</td>\n",
              "      <td>1</td>\n",
              "      <td>Medical</td>\n",
              "      <td>1</td>\n",
              "      <td>7</td>\n",
              "      <td>...</td>\n",
              "      <td>4</td>\n",
              "      <td>80</td>\n",
              "      <td>1</td>\n",
              "      <td>6</td>\n",
              "      <td>3</td>\n",
              "      <td>3</td>\n",
              "      <td>2</td>\n",
              "      <td>2</td>\n",
              "      <td>2</td>\n",
              "      <td>2</td>\n",
              "    </tr>\n",
              "    <tr>\n",
              "      <th>...</th>\n",
              "      <td>...</td>\n",
              "      <td>...</td>\n",
              "      <td>...</td>\n",
              "      <td>...</td>\n",
              "      <td>...</td>\n",
              "      <td>...</td>\n",
              "      <td>...</td>\n",
              "      <td>...</td>\n",
              "      <td>...</td>\n",
              "      <td>...</td>\n",
              "      <td>...</td>\n",
              "      <td>...</td>\n",
              "      <td>...</td>\n",
              "      <td>...</td>\n",
              "      <td>...</td>\n",
              "      <td>...</td>\n",
              "      <td>...</td>\n",
              "      <td>...</td>\n",
              "      <td>...</td>\n",
              "      <td>...</td>\n",
              "      <td>...</td>\n",
              "    </tr>\n",
              "    <tr>\n",
              "      <th>1465</th>\n",
              "      <td>36</td>\n",
              "      <td>No</td>\n",
              "      <td>Travel_Frequently</td>\n",
              "      <td>884</td>\n",
              "      <td>Research &amp; Development</td>\n",
              "      <td>23</td>\n",
              "      <td>2</td>\n",
              "      <td>Medical</td>\n",
              "      <td>1</td>\n",
              "      <td>2061</td>\n",
              "      <td>...</td>\n",
              "      <td>3</td>\n",
              "      <td>80</td>\n",
              "      <td>1</td>\n",
              "      <td>17</td>\n",
              "      <td>3</td>\n",
              "      <td>3</td>\n",
              "      <td>5</td>\n",
              "      <td>2</td>\n",
              "      <td>0</td>\n",
              "      <td>3</td>\n",
              "    </tr>\n",
              "    <tr>\n",
              "      <th>1466</th>\n",
              "      <td>39</td>\n",
              "      <td>No</td>\n",
              "      <td>Travel_Rarely</td>\n",
              "      <td>613</td>\n",
              "      <td>Research &amp; Development</td>\n",
              "      <td>6</td>\n",
              "      <td>1</td>\n",
              "      <td>Medical</td>\n",
              "      <td>1</td>\n",
              "      <td>2062</td>\n",
              "      <td>...</td>\n",
              "      <td>1</td>\n",
              "      <td>80</td>\n",
              "      <td>1</td>\n",
              "      <td>9</td>\n",
              "      <td>5</td>\n",
              "      <td>3</td>\n",
              "      <td>7</td>\n",
              "      <td>7</td>\n",
              "      <td>1</td>\n",
              "      <td>7</td>\n",
              "    </tr>\n",
              "    <tr>\n",
              "      <th>1467</th>\n",
              "      <td>27</td>\n",
              "      <td>No</td>\n",
              "      <td>Travel_Rarely</td>\n",
              "      <td>155</td>\n",
              "      <td>Research &amp; Development</td>\n",
              "      <td>4</td>\n",
              "      <td>3</td>\n",
              "      <td>Life Sciences</td>\n",
              "      <td>1</td>\n",
              "      <td>2064</td>\n",
              "      <td>...</td>\n",
              "      <td>2</td>\n",
              "      <td>80</td>\n",
              "      <td>1</td>\n",
              "      <td>6</td>\n",
              "      <td>0</td>\n",
              "      <td>3</td>\n",
              "      <td>6</td>\n",
              "      <td>2</td>\n",
              "      <td>0</td>\n",
              "      <td>3</td>\n",
              "    </tr>\n",
              "    <tr>\n",
              "      <th>1468</th>\n",
              "      <td>49</td>\n",
              "      <td>No</td>\n",
              "      <td>Travel_Frequently</td>\n",
              "      <td>1023</td>\n",
              "      <td>Sales</td>\n",
              "      <td>2</td>\n",
              "      <td>3</td>\n",
              "      <td>Medical</td>\n",
              "      <td>1</td>\n",
              "      <td>2065</td>\n",
              "      <td>...</td>\n",
              "      <td>4</td>\n",
              "      <td>80</td>\n",
              "      <td>0</td>\n",
              "      <td>17</td>\n",
              "      <td>3</td>\n",
              "      <td>2</td>\n",
              "      <td>9</td>\n",
              "      <td>6</td>\n",
              "      <td>0</td>\n",
              "      <td>8</td>\n",
              "    </tr>\n",
              "    <tr>\n",
              "      <th>1469</th>\n",
              "      <td>34</td>\n",
              "      <td>No</td>\n",
              "      <td>Travel_Rarely</td>\n",
              "      <td>628</td>\n",
              "      <td>Research &amp; Development</td>\n",
              "      <td>8</td>\n",
              "      <td>3</td>\n",
              "      <td>Medical</td>\n",
              "      <td>1</td>\n",
              "      <td>2068</td>\n",
              "      <td>...</td>\n",
              "      <td>1</td>\n",
              "      <td>80</td>\n",
              "      <td>0</td>\n",
              "      <td>6</td>\n",
              "      <td>3</td>\n",
              "      <td>4</td>\n",
              "      <td>4</td>\n",
              "      <td>3</td>\n",
              "      <td>1</td>\n",
              "      <td>2</td>\n",
              "    </tr>\n",
              "  </tbody>\n",
              "</table>\n",
              "<p>1470 rows × 35 columns</p>\n",
              "</div>\n",
              "      <button class=\"colab-df-convert\" onclick=\"convertToInteractive('df-c78c61d8-ae10-4e30-ae88-2f1a7d8bb2db')\"\n",
              "              title=\"Convert this dataframe to an interactive table.\"\n",
              "              style=\"display:none;\">\n",
              "        \n",
              "  <svg xmlns=\"http://www.w3.org/2000/svg\" height=\"24px\"viewBox=\"0 0 24 24\"\n",
              "       width=\"24px\">\n",
              "    <path d=\"M0 0h24v24H0V0z\" fill=\"none\"/>\n",
              "    <path d=\"M18.56 5.44l.94 2.06.94-2.06 2.06-.94-2.06-.94-.94-2.06-.94 2.06-2.06.94zm-11 1L8.5 8.5l.94-2.06 2.06-.94-2.06-.94L8.5 2.5l-.94 2.06-2.06.94zm10 10l.94 2.06.94-2.06 2.06-.94-2.06-.94-.94-2.06-.94 2.06-2.06.94z\"/><path d=\"M17.41 7.96l-1.37-1.37c-.4-.4-.92-.59-1.43-.59-.52 0-1.04.2-1.43.59L10.3 9.45l-7.72 7.72c-.78.78-.78 2.05 0 2.83L4 21.41c.39.39.9.59 1.41.59.51 0 1.02-.2 1.41-.59l7.78-7.78 2.81-2.81c.8-.78.8-2.07 0-2.86zM5.41 20L4 18.59l7.72-7.72 1.47 1.35L5.41 20z\"/>\n",
              "  </svg>\n",
              "      </button>\n",
              "      \n",
              "  <style>\n",
              "    .colab-df-container {\n",
              "      display:flex;\n",
              "      flex-wrap:wrap;\n",
              "      gap: 12px;\n",
              "    }\n",
              "\n",
              "    .colab-df-convert {\n",
              "      background-color: #E8F0FE;\n",
              "      border: none;\n",
              "      border-radius: 50%;\n",
              "      cursor: pointer;\n",
              "      display: none;\n",
              "      fill: #1967D2;\n",
              "      height: 32px;\n",
              "      padding: 0 0 0 0;\n",
              "      width: 32px;\n",
              "    }\n",
              "\n",
              "    .colab-df-convert:hover {\n",
              "      background-color: #E2EBFA;\n",
              "      box-shadow: 0px 1px 2px rgba(60, 64, 67, 0.3), 0px 1px 3px 1px rgba(60, 64, 67, 0.15);\n",
              "      fill: #174EA6;\n",
              "    }\n",
              "\n",
              "    [theme=dark] .colab-df-convert {\n",
              "      background-color: #3B4455;\n",
              "      fill: #D2E3FC;\n",
              "    }\n",
              "\n",
              "    [theme=dark] .colab-df-convert:hover {\n",
              "      background-color: #434B5C;\n",
              "      box-shadow: 0px 1px 3px 1px rgba(0, 0, 0, 0.15);\n",
              "      filter: drop-shadow(0px 1px 2px rgba(0, 0, 0, 0.3));\n",
              "      fill: #FFFFFF;\n",
              "    }\n",
              "  </style>\n",
              "\n",
              "      <script>\n",
              "        const buttonEl =\n",
              "          document.querySelector('#df-c78c61d8-ae10-4e30-ae88-2f1a7d8bb2db button.colab-df-convert');\n",
              "        buttonEl.style.display =\n",
              "          google.colab.kernel.accessAllowed ? 'block' : 'none';\n",
              "\n",
              "        async function convertToInteractive(key) {\n",
              "          const element = document.querySelector('#df-c78c61d8-ae10-4e30-ae88-2f1a7d8bb2db');\n",
              "          const dataTable =\n",
              "            await google.colab.kernel.invokeFunction('convertToInteractive',\n",
              "                                                     [key], {});\n",
              "          if (!dataTable) return;\n",
              "\n",
              "          const docLinkHtml = 'Like what you see? Visit the ' +\n",
              "            '<a target=\"_blank\" href=https://colab.research.google.com/notebooks/data_table.ipynb>data table notebook</a>'\n",
              "            + ' to learn more about interactive tables.';\n",
              "          element.innerHTML = '';\n",
              "          dataTable['output_type'] = 'display_data';\n",
              "          await google.colab.output.renderOutput(dataTable, element);\n",
              "          const docLink = document.createElement('div');\n",
              "          docLink.innerHTML = docLinkHtml;\n",
              "          element.appendChild(docLink);\n",
              "        }\n",
              "      </script>\n",
              "    </div>\n",
              "  </div>\n",
              "  "
            ]
          },
          "metadata": {},
          "execution_count": 2
        }
      ],
      "source": [
        "# Implememtando os dados:\n",
        "dados = pd.read_csv('/content/WA_Fn-UseC_-HR-Employee-Attrition.csv')\n",
        "dados"
      ]
    },
    {
      "cell_type": "code",
      "source": [
        "dados['turnover'] = dados[{'Attrition': {'Yes':1, 'No':0}}]\n",
        "dados['turnover'][dados['turnover'] == 'Yes' ] = 1\n",
        "dados['turnover'][dados['turnover'] == 'No' ] = 0\n",
        "dados['turnover'] = np.array(dados['turnover'], dtype='int')\n",
        "dados"
      ],
      "metadata": {
        "colab": {
          "base_uri": "https://localhost:8080/",
          "height": 800
        },
        "id": "qubsJqzf8gLq",
        "outputId": "a14935e3-aa7d-493f-b2aa-55ee28b18c68"
      },
      "execution_count": 3,
      "outputs": [
        {
          "output_type": "stream",
          "name": "stderr",
          "text": [
            "/usr/local/lib/python3.7/dist-packages/ipykernel_launcher.py:2: SettingWithCopyWarning: \n",
            "A value is trying to be set on a copy of a slice from a DataFrame\n",
            "\n",
            "See the caveats in the documentation: https://pandas.pydata.org/pandas-docs/stable/user_guide/indexing.html#returning-a-view-versus-a-copy\n",
            "  \n",
            "/usr/local/lib/python3.7/dist-packages/ipykernel_launcher.py:3: SettingWithCopyWarning: \n",
            "A value is trying to be set on a copy of a slice from a DataFrame\n",
            "\n",
            "See the caveats in the documentation: https://pandas.pydata.org/pandas-docs/stable/user_guide/indexing.html#returning-a-view-versus-a-copy\n",
            "  This is separate from the ipykernel package so we can avoid doing imports until\n"
          ]
        },
        {
          "output_type": "execute_result",
          "data": {
            "text/plain": [
              "      Age Attrition     BusinessTravel  DailyRate              Department  \\\n",
              "0      41       Yes      Travel_Rarely       1102                   Sales   \n",
              "1      49        No  Travel_Frequently        279  Research & Development   \n",
              "2      37       Yes      Travel_Rarely       1373  Research & Development   \n",
              "3      33        No  Travel_Frequently       1392  Research & Development   \n",
              "4      27        No      Travel_Rarely        591  Research & Development   \n",
              "...   ...       ...                ...        ...                     ...   \n",
              "1465   36        No  Travel_Frequently        884  Research & Development   \n",
              "1466   39        No      Travel_Rarely        613  Research & Development   \n",
              "1467   27        No      Travel_Rarely        155  Research & Development   \n",
              "1468   49        No  Travel_Frequently       1023                   Sales   \n",
              "1469   34        No      Travel_Rarely        628  Research & Development   \n",
              "\n",
              "      DistanceFromHome  Education EducationField  EmployeeCount  \\\n",
              "0                    1          2  Life Sciences              1   \n",
              "1                    8          1  Life Sciences              1   \n",
              "2                    2          2          Other              1   \n",
              "3                    3          4  Life Sciences              1   \n",
              "4                    2          1        Medical              1   \n",
              "...                ...        ...            ...            ...   \n",
              "1465                23          2        Medical              1   \n",
              "1466                 6          1        Medical              1   \n",
              "1467                 4          3  Life Sciences              1   \n",
              "1468                 2          3        Medical              1   \n",
              "1469                 8          3        Medical              1   \n",
              "\n",
              "      EmployeeNumber  ...  StandardHours StockOptionLevel  TotalWorkingYears  \\\n",
              "0                  1  ...             80                0                  8   \n",
              "1                  2  ...             80                1                 10   \n",
              "2                  4  ...             80                0                  7   \n",
              "3                  5  ...             80                0                  8   \n",
              "4                  7  ...             80                1                  6   \n",
              "...              ...  ...            ...              ...                ...   \n",
              "1465            2061  ...             80                1                 17   \n",
              "1466            2062  ...             80                1                  9   \n",
              "1467            2064  ...             80                1                  6   \n",
              "1468            2065  ...             80                0                 17   \n",
              "1469            2068  ...             80                0                  6   \n",
              "\n",
              "      TrainingTimesLastYear  WorkLifeBalance YearsAtCompany  \\\n",
              "0                         0                1              6   \n",
              "1                         3                3             10   \n",
              "2                         3                3              0   \n",
              "3                         3                3              8   \n",
              "4                         3                3              2   \n",
              "...                     ...              ...            ...   \n",
              "1465                      3                3              5   \n",
              "1466                      5                3              7   \n",
              "1467                      0                3              6   \n",
              "1468                      3                2              9   \n",
              "1469                      3                4              4   \n",
              "\n",
              "      YearsInCurrentRole YearsSinceLastPromotion  YearsWithCurrManager  \\\n",
              "0                      4                       0                     5   \n",
              "1                      7                       1                     7   \n",
              "2                      0                       0                     0   \n",
              "3                      7                       3                     0   \n",
              "4                      2                       2                     2   \n",
              "...                  ...                     ...                   ...   \n",
              "1465                   2                       0                     3   \n",
              "1466                   7                       1                     7   \n",
              "1467                   2                       0                     3   \n",
              "1468                   6                       0                     8   \n",
              "1469                   3                       1                     2   \n",
              "\n",
              "      turnover  \n",
              "0            1  \n",
              "1            0  \n",
              "2            1  \n",
              "3            0  \n",
              "4            0  \n",
              "...        ...  \n",
              "1465         0  \n",
              "1466         0  \n",
              "1467         0  \n",
              "1468         0  \n",
              "1469         0  \n",
              "\n",
              "[1470 rows x 36 columns]"
            ],
            "text/html": [
              "\n",
              "  <div id=\"df-d8ab1c06-91a6-40f1-9c7d-c67efb3e2906\">\n",
              "    <div class=\"colab-df-container\">\n",
              "      <div>\n",
              "<style scoped>\n",
              "    .dataframe tbody tr th:only-of-type {\n",
              "        vertical-align: middle;\n",
              "    }\n",
              "\n",
              "    .dataframe tbody tr th {\n",
              "        vertical-align: top;\n",
              "    }\n",
              "\n",
              "    .dataframe thead th {\n",
              "        text-align: right;\n",
              "    }\n",
              "</style>\n",
              "<table border=\"1\" class=\"dataframe\">\n",
              "  <thead>\n",
              "    <tr style=\"text-align: right;\">\n",
              "      <th></th>\n",
              "      <th>Age</th>\n",
              "      <th>Attrition</th>\n",
              "      <th>BusinessTravel</th>\n",
              "      <th>DailyRate</th>\n",
              "      <th>Department</th>\n",
              "      <th>DistanceFromHome</th>\n",
              "      <th>Education</th>\n",
              "      <th>EducationField</th>\n",
              "      <th>EmployeeCount</th>\n",
              "      <th>EmployeeNumber</th>\n",
              "      <th>...</th>\n",
              "      <th>StandardHours</th>\n",
              "      <th>StockOptionLevel</th>\n",
              "      <th>TotalWorkingYears</th>\n",
              "      <th>TrainingTimesLastYear</th>\n",
              "      <th>WorkLifeBalance</th>\n",
              "      <th>YearsAtCompany</th>\n",
              "      <th>YearsInCurrentRole</th>\n",
              "      <th>YearsSinceLastPromotion</th>\n",
              "      <th>YearsWithCurrManager</th>\n",
              "      <th>turnover</th>\n",
              "    </tr>\n",
              "  </thead>\n",
              "  <tbody>\n",
              "    <tr>\n",
              "      <th>0</th>\n",
              "      <td>41</td>\n",
              "      <td>Yes</td>\n",
              "      <td>Travel_Rarely</td>\n",
              "      <td>1102</td>\n",
              "      <td>Sales</td>\n",
              "      <td>1</td>\n",
              "      <td>2</td>\n",
              "      <td>Life Sciences</td>\n",
              "      <td>1</td>\n",
              "      <td>1</td>\n",
              "      <td>...</td>\n",
              "      <td>80</td>\n",
              "      <td>0</td>\n",
              "      <td>8</td>\n",
              "      <td>0</td>\n",
              "      <td>1</td>\n",
              "      <td>6</td>\n",
              "      <td>4</td>\n",
              "      <td>0</td>\n",
              "      <td>5</td>\n",
              "      <td>1</td>\n",
              "    </tr>\n",
              "    <tr>\n",
              "      <th>1</th>\n",
              "      <td>49</td>\n",
              "      <td>No</td>\n",
              "      <td>Travel_Frequently</td>\n",
              "      <td>279</td>\n",
              "      <td>Research &amp; Development</td>\n",
              "      <td>8</td>\n",
              "      <td>1</td>\n",
              "      <td>Life Sciences</td>\n",
              "      <td>1</td>\n",
              "      <td>2</td>\n",
              "      <td>...</td>\n",
              "      <td>80</td>\n",
              "      <td>1</td>\n",
              "      <td>10</td>\n",
              "      <td>3</td>\n",
              "      <td>3</td>\n",
              "      <td>10</td>\n",
              "      <td>7</td>\n",
              "      <td>1</td>\n",
              "      <td>7</td>\n",
              "      <td>0</td>\n",
              "    </tr>\n",
              "    <tr>\n",
              "      <th>2</th>\n",
              "      <td>37</td>\n",
              "      <td>Yes</td>\n",
              "      <td>Travel_Rarely</td>\n",
              "      <td>1373</td>\n",
              "      <td>Research &amp; Development</td>\n",
              "      <td>2</td>\n",
              "      <td>2</td>\n",
              "      <td>Other</td>\n",
              "      <td>1</td>\n",
              "      <td>4</td>\n",
              "      <td>...</td>\n",
              "      <td>80</td>\n",
              "      <td>0</td>\n",
              "      <td>7</td>\n",
              "      <td>3</td>\n",
              "      <td>3</td>\n",
              "      <td>0</td>\n",
              "      <td>0</td>\n",
              "      <td>0</td>\n",
              "      <td>0</td>\n",
              "      <td>1</td>\n",
              "    </tr>\n",
              "    <tr>\n",
              "      <th>3</th>\n",
              "      <td>33</td>\n",
              "      <td>No</td>\n",
              "      <td>Travel_Frequently</td>\n",
              "      <td>1392</td>\n",
              "      <td>Research &amp; Development</td>\n",
              "      <td>3</td>\n",
              "      <td>4</td>\n",
              "      <td>Life Sciences</td>\n",
              "      <td>1</td>\n",
              "      <td>5</td>\n",
              "      <td>...</td>\n",
              "      <td>80</td>\n",
              "      <td>0</td>\n",
              "      <td>8</td>\n",
              "      <td>3</td>\n",
              "      <td>3</td>\n",
              "      <td>8</td>\n",
              "      <td>7</td>\n",
              "      <td>3</td>\n",
              "      <td>0</td>\n",
              "      <td>0</td>\n",
              "    </tr>\n",
              "    <tr>\n",
              "      <th>4</th>\n",
              "      <td>27</td>\n",
              "      <td>No</td>\n",
              "      <td>Travel_Rarely</td>\n",
              "      <td>591</td>\n",
              "      <td>Research &amp; Development</td>\n",
              "      <td>2</td>\n",
              "      <td>1</td>\n",
              "      <td>Medical</td>\n",
              "      <td>1</td>\n",
              "      <td>7</td>\n",
              "      <td>...</td>\n",
              "      <td>80</td>\n",
              "      <td>1</td>\n",
              "      <td>6</td>\n",
              "      <td>3</td>\n",
              "      <td>3</td>\n",
              "      <td>2</td>\n",
              "      <td>2</td>\n",
              "      <td>2</td>\n",
              "      <td>2</td>\n",
              "      <td>0</td>\n",
              "    </tr>\n",
              "    <tr>\n",
              "      <th>...</th>\n",
              "      <td>...</td>\n",
              "      <td>...</td>\n",
              "      <td>...</td>\n",
              "      <td>...</td>\n",
              "      <td>...</td>\n",
              "      <td>...</td>\n",
              "      <td>...</td>\n",
              "      <td>...</td>\n",
              "      <td>...</td>\n",
              "      <td>...</td>\n",
              "      <td>...</td>\n",
              "      <td>...</td>\n",
              "      <td>...</td>\n",
              "      <td>...</td>\n",
              "      <td>...</td>\n",
              "      <td>...</td>\n",
              "      <td>...</td>\n",
              "      <td>...</td>\n",
              "      <td>...</td>\n",
              "      <td>...</td>\n",
              "      <td>...</td>\n",
              "    </tr>\n",
              "    <tr>\n",
              "      <th>1465</th>\n",
              "      <td>36</td>\n",
              "      <td>No</td>\n",
              "      <td>Travel_Frequently</td>\n",
              "      <td>884</td>\n",
              "      <td>Research &amp; Development</td>\n",
              "      <td>23</td>\n",
              "      <td>2</td>\n",
              "      <td>Medical</td>\n",
              "      <td>1</td>\n",
              "      <td>2061</td>\n",
              "      <td>...</td>\n",
              "      <td>80</td>\n",
              "      <td>1</td>\n",
              "      <td>17</td>\n",
              "      <td>3</td>\n",
              "      <td>3</td>\n",
              "      <td>5</td>\n",
              "      <td>2</td>\n",
              "      <td>0</td>\n",
              "      <td>3</td>\n",
              "      <td>0</td>\n",
              "    </tr>\n",
              "    <tr>\n",
              "      <th>1466</th>\n",
              "      <td>39</td>\n",
              "      <td>No</td>\n",
              "      <td>Travel_Rarely</td>\n",
              "      <td>613</td>\n",
              "      <td>Research &amp; Development</td>\n",
              "      <td>6</td>\n",
              "      <td>1</td>\n",
              "      <td>Medical</td>\n",
              "      <td>1</td>\n",
              "      <td>2062</td>\n",
              "      <td>...</td>\n",
              "      <td>80</td>\n",
              "      <td>1</td>\n",
              "      <td>9</td>\n",
              "      <td>5</td>\n",
              "      <td>3</td>\n",
              "      <td>7</td>\n",
              "      <td>7</td>\n",
              "      <td>1</td>\n",
              "      <td>7</td>\n",
              "      <td>0</td>\n",
              "    </tr>\n",
              "    <tr>\n",
              "      <th>1467</th>\n",
              "      <td>27</td>\n",
              "      <td>No</td>\n",
              "      <td>Travel_Rarely</td>\n",
              "      <td>155</td>\n",
              "      <td>Research &amp; Development</td>\n",
              "      <td>4</td>\n",
              "      <td>3</td>\n",
              "      <td>Life Sciences</td>\n",
              "      <td>1</td>\n",
              "      <td>2064</td>\n",
              "      <td>...</td>\n",
              "      <td>80</td>\n",
              "      <td>1</td>\n",
              "      <td>6</td>\n",
              "      <td>0</td>\n",
              "      <td>3</td>\n",
              "      <td>6</td>\n",
              "      <td>2</td>\n",
              "      <td>0</td>\n",
              "      <td>3</td>\n",
              "      <td>0</td>\n",
              "    </tr>\n",
              "    <tr>\n",
              "      <th>1468</th>\n",
              "      <td>49</td>\n",
              "      <td>No</td>\n",
              "      <td>Travel_Frequently</td>\n",
              "      <td>1023</td>\n",
              "      <td>Sales</td>\n",
              "      <td>2</td>\n",
              "      <td>3</td>\n",
              "      <td>Medical</td>\n",
              "      <td>1</td>\n",
              "      <td>2065</td>\n",
              "      <td>...</td>\n",
              "      <td>80</td>\n",
              "      <td>0</td>\n",
              "      <td>17</td>\n",
              "      <td>3</td>\n",
              "      <td>2</td>\n",
              "      <td>9</td>\n",
              "      <td>6</td>\n",
              "      <td>0</td>\n",
              "      <td>8</td>\n",
              "      <td>0</td>\n",
              "    </tr>\n",
              "    <tr>\n",
              "      <th>1469</th>\n",
              "      <td>34</td>\n",
              "      <td>No</td>\n",
              "      <td>Travel_Rarely</td>\n",
              "      <td>628</td>\n",
              "      <td>Research &amp; Development</td>\n",
              "      <td>8</td>\n",
              "      <td>3</td>\n",
              "      <td>Medical</td>\n",
              "      <td>1</td>\n",
              "      <td>2068</td>\n",
              "      <td>...</td>\n",
              "      <td>80</td>\n",
              "      <td>0</td>\n",
              "      <td>6</td>\n",
              "      <td>3</td>\n",
              "      <td>4</td>\n",
              "      <td>4</td>\n",
              "      <td>3</td>\n",
              "      <td>1</td>\n",
              "      <td>2</td>\n",
              "      <td>0</td>\n",
              "    </tr>\n",
              "  </tbody>\n",
              "</table>\n",
              "<p>1470 rows × 36 columns</p>\n",
              "</div>\n",
              "      <button class=\"colab-df-convert\" onclick=\"convertToInteractive('df-d8ab1c06-91a6-40f1-9c7d-c67efb3e2906')\"\n",
              "              title=\"Convert this dataframe to an interactive table.\"\n",
              "              style=\"display:none;\">\n",
              "        \n",
              "  <svg xmlns=\"http://www.w3.org/2000/svg\" height=\"24px\"viewBox=\"0 0 24 24\"\n",
              "       width=\"24px\">\n",
              "    <path d=\"M0 0h24v24H0V0z\" fill=\"none\"/>\n",
              "    <path d=\"M18.56 5.44l.94 2.06.94-2.06 2.06-.94-2.06-.94-.94-2.06-.94 2.06-2.06.94zm-11 1L8.5 8.5l.94-2.06 2.06-.94-2.06-.94L8.5 2.5l-.94 2.06-2.06.94zm10 10l.94 2.06.94-2.06 2.06-.94-2.06-.94-.94-2.06-.94 2.06-2.06.94z\"/><path d=\"M17.41 7.96l-1.37-1.37c-.4-.4-.92-.59-1.43-.59-.52 0-1.04.2-1.43.59L10.3 9.45l-7.72 7.72c-.78.78-.78 2.05 0 2.83L4 21.41c.39.39.9.59 1.41.59.51 0 1.02-.2 1.41-.59l7.78-7.78 2.81-2.81c.8-.78.8-2.07 0-2.86zM5.41 20L4 18.59l7.72-7.72 1.47 1.35L5.41 20z\"/>\n",
              "  </svg>\n",
              "      </button>\n",
              "      \n",
              "  <style>\n",
              "    .colab-df-container {\n",
              "      display:flex;\n",
              "      flex-wrap:wrap;\n",
              "      gap: 12px;\n",
              "    }\n",
              "\n",
              "    .colab-df-convert {\n",
              "      background-color: #E8F0FE;\n",
              "      border: none;\n",
              "      border-radius: 50%;\n",
              "      cursor: pointer;\n",
              "      display: none;\n",
              "      fill: #1967D2;\n",
              "      height: 32px;\n",
              "      padding: 0 0 0 0;\n",
              "      width: 32px;\n",
              "    }\n",
              "\n",
              "    .colab-df-convert:hover {\n",
              "      background-color: #E2EBFA;\n",
              "      box-shadow: 0px 1px 2px rgba(60, 64, 67, 0.3), 0px 1px 3px 1px rgba(60, 64, 67, 0.15);\n",
              "      fill: #174EA6;\n",
              "    }\n",
              "\n",
              "    [theme=dark] .colab-df-convert {\n",
              "      background-color: #3B4455;\n",
              "      fill: #D2E3FC;\n",
              "    }\n",
              "\n",
              "    [theme=dark] .colab-df-convert:hover {\n",
              "      background-color: #434B5C;\n",
              "      box-shadow: 0px 1px 3px 1px rgba(0, 0, 0, 0.15);\n",
              "      filter: drop-shadow(0px 1px 2px rgba(0, 0, 0, 0.3));\n",
              "      fill: #FFFFFF;\n",
              "    }\n",
              "  </style>\n",
              "\n",
              "      <script>\n",
              "        const buttonEl =\n",
              "          document.querySelector('#df-d8ab1c06-91a6-40f1-9c7d-c67efb3e2906 button.colab-df-convert');\n",
              "        buttonEl.style.display =\n",
              "          google.colab.kernel.accessAllowed ? 'block' : 'none';\n",
              "\n",
              "        async function convertToInteractive(key) {\n",
              "          const element = document.querySelector('#df-d8ab1c06-91a6-40f1-9c7d-c67efb3e2906');\n",
              "          const dataTable =\n",
              "            await google.colab.kernel.invokeFunction('convertToInteractive',\n",
              "                                                     [key], {});\n",
              "          if (!dataTable) return;\n",
              "\n",
              "          const docLinkHtml = 'Like what you see? Visit the ' +\n",
              "            '<a target=\"_blank\" href=https://colab.research.google.com/notebooks/data_table.ipynb>data table notebook</a>'\n",
              "            + ' to learn more about interactive tables.';\n",
              "          element.innerHTML = '';\n",
              "          dataTable['output_type'] = 'display_data';\n",
              "          await google.colab.output.renderOutput(dataTable, element);\n",
              "          const docLink = document.createElement('div');\n",
              "          docLink.innerHTML = docLinkHtml;\n",
              "          element.appendChild(docLink);\n",
              "        }\n",
              "      </script>\n",
              "    </div>\n",
              "  </div>\n",
              "  "
            ]
          },
          "metadata": {},
          "execution_count": 3
        }
      ]
    },
    {
      "cell_type": "code",
      "source": [
        "dados['Over18'].value_counts()"
      ],
      "metadata": {
        "colab": {
          "base_uri": "https://localhost:8080/"
        },
        "id": "e10wu3tJlBOR",
        "outputId": "673cef07-6d0c-4e22-8d2e-5d6e0b8a8671"
      },
      "execution_count": 4,
      "outputs": [
        {
          "output_type": "execute_result",
          "data": {
            "text/plain": [
              "Y    1470\n",
              "Name: Over18, dtype: int64"
            ]
          },
          "metadata": {},
          "execution_count": 4
        }
      ]
    },
    {
      "cell_type": "code",
      "source": [
        "dados['EmployeeCount'].value_counts()"
      ],
      "metadata": {
        "colab": {
          "base_uri": "https://localhost:8080/"
        },
        "id": "GfC-eNLqlVYB",
        "outputId": "45a3af2a-92eb-4445-8723-2b015a3c61fd"
      },
      "execution_count": 5,
      "outputs": [
        {
          "output_type": "execute_result",
          "data": {
            "text/plain": [
              "1    1470\n",
              "Name: EmployeeCount, dtype: int64"
            ]
          },
          "metadata": {},
          "execution_count": 5
        }
      ]
    },
    {
      "cell_type": "code",
      "source": [
        "dados['EmployeeNumber'].value_counts()"
      ],
      "metadata": {
        "colab": {
          "base_uri": "https://localhost:8080/"
        },
        "id": "hXVssQANldQP",
        "outputId": "0e4489df-c95b-41ae-cef9-2abd2709ea7f"
      },
      "execution_count": 6,
      "outputs": [
        {
          "output_type": "execute_result",
          "data": {
            "text/plain": [
              "1       1\n",
              "1391    1\n",
              "1389    1\n",
              "1387    1\n",
              "1383    1\n",
              "       ..\n",
              "659     1\n",
              "657     1\n",
              "656     1\n",
              "655     1\n",
              "2068    1\n",
              "Name: EmployeeNumber, Length: 1470, dtype: int64"
            ]
          },
          "metadata": {},
          "execution_count": 6
        }
      ]
    },
    {
      "cell_type": "code",
      "source": [
        "dados['StandardHours'].value_counts()"
      ],
      "metadata": {
        "colab": {
          "base_uri": "https://localhost:8080/"
        },
        "id": "ANGy3Sgvlhb4",
        "outputId": "47406625-9fa2-44b4-c19c-1f7c0590f422"
      },
      "execution_count": 7,
      "outputs": [
        {
          "output_type": "execute_result",
          "data": {
            "text/plain": [
              "80    1470\n",
              "Name: StandardHours, dtype: int64"
            ]
          },
          "metadata": {},
          "execution_count": 7
        }
      ]
    },
    {
      "cell_type": "markdown",
      "source": [
        "Os atributos Over18, EmployeeCount, EmployeeNumber e StandardHours apresentam informações as quais julgo não serem importantes para a análise de correlação com o rótulo *turnover*. Desta forma, estes atributros serão retirados da tabela, para que não causem ruídos na análise."
      ],
      "metadata": {
        "id": "nzVYHeW-lqIA"
      }
    },
    {
      "cell_type": "code",
      "source": [
        "df = dados.drop(['StandardHours', 'EmployeeNumber', 'EmployeeCount', 'Over18'], axis=1)\n",
        "df.info()"
      ],
      "metadata": {
        "colab": {
          "base_uri": "https://localhost:8080/"
        },
        "id": "osCtgXDHnPcq",
        "outputId": "cc88b304-4f70-4b81-e56f-f67d806f2812"
      },
      "execution_count": 8,
      "outputs": [
        {
          "output_type": "stream",
          "name": "stdout",
          "text": [
            "<class 'pandas.core.frame.DataFrame'>\n",
            "RangeIndex: 1470 entries, 0 to 1469\n",
            "Data columns (total 32 columns):\n",
            " #   Column                    Non-Null Count  Dtype \n",
            "---  ------                    --------------  ----- \n",
            " 0   Age                       1470 non-null   int64 \n",
            " 1   Attrition                 1470 non-null   object\n",
            " 2   BusinessTravel            1470 non-null   object\n",
            " 3   DailyRate                 1470 non-null   int64 \n",
            " 4   Department                1470 non-null   object\n",
            " 5   DistanceFromHome          1470 non-null   int64 \n",
            " 6   Education                 1470 non-null   int64 \n",
            " 7   EducationField            1470 non-null   object\n",
            " 8   EnvironmentSatisfaction   1470 non-null   int64 \n",
            " 9   Gender                    1470 non-null   object\n",
            " 10  HourlyRate                1470 non-null   int64 \n",
            " 11  JobInvolvement            1470 non-null   int64 \n",
            " 12  JobLevel                  1470 non-null   int64 \n",
            " 13  JobRole                   1470 non-null   object\n",
            " 14  JobSatisfaction           1470 non-null   int64 \n",
            " 15  MaritalStatus             1470 non-null   object\n",
            " 16  MonthlyIncome             1470 non-null   int64 \n",
            " 17  MonthlyRate               1470 non-null   int64 \n",
            " 18  NumCompaniesWorked        1470 non-null   int64 \n",
            " 19  OverTime                  1470 non-null   object\n",
            " 20  PercentSalaryHike         1470 non-null   int64 \n",
            " 21  PerformanceRating         1470 non-null   int64 \n",
            " 22  RelationshipSatisfaction  1470 non-null   int64 \n",
            " 23  StockOptionLevel          1470 non-null   int64 \n",
            " 24  TotalWorkingYears         1470 non-null   int64 \n",
            " 25  TrainingTimesLastYear     1470 non-null   int64 \n",
            " 26  WorkLifeBalance           1470 non-null   int64 \n",
            " 27  YearsAtCompany            1470 non-null   int64 \n",
            " 28  YearsInCurrentRole        1470 non-null   int64 \n",
            " 29  YearsSinceLastPromotion   1470 non-null   int64 \n",
            " 30  YearsWithCurrManager      1470 non-null   int64 \n",
            " 31  turnover                  1470 non-null   int64 \n",
            "dtypes: int64(24), object(8)\n",
            "memory usage: 367.6+ KB\n"
          ]
        }
      ]
    },
    {
      "cell_type": "markdown",
      "source": [
        "**Exercicio 1. (2 pontos)**\\\n",
        "Realize uma análise sobre as variáveis independentes em relação a variável turnover. Quais ideias você obteve? Faça uma pequena apresentação de três a quatro gráficos e escreva suas percepções abaixo de cada um."
      ],
      "metadata": {
        "id": "XE_vsT5b9z7U"
      }
    },
    {
      "cell_type": "code",
      "source": [
        "sns.countplot(x ='turnover', palette = \"husl\", data = df)"
      ],
      "metadata": {
        "colab": {
          "base_uri": "https://localhost:8080/",
          "height": 296
        },
        "id": "cZTDZfD00_cN",
        "outputId": "5f52742c-d718-406a-a9af-bf0704f1e0ab"
      },
      "execution_count": 9,
      "outputs": [
        {
          "output_type": "execute_result",
          "data": {
            "text/plain": [
              "<matplotlib.axes._subplots.AxesSubplot at 0x7f5b94635810>"
            ]
          },
          "metadata": {},
          "execution_count": 9
        },
        {
          "output_type": "display_data",
          "data": {
            "text/plain": [
              "<Figure size 432x288 with 1 Axes>"
            ],
            "image/png": "[encoded data removed]"
          },
          "metadata": {
            "needs_background": "light"
          }
        }
      ]
    },
    {
      "cell_type": "code",
      "source": [
        "len(df[df['turnover']==0])/len(df['turnover'])"
      ],
      "metadata": {
        "colab": {
          "base_uri": "https://localhost:8080/"
        },
        "id": "DBN8rLW89Jpw",
        "outputId": "b62951cd-afbc-43d8-c6c9-666164e62b23"
      },
      "execution_count": 10,
      "outputs": [
        {
          "output_type": "execute_result",
          "data": {
            "text/plain": [
              "0.8387755102040816"
            ]
          },
          "metadata": {},
          "execution_count": 10
        }
      ]
    },
    {
      "cell_type": "code",
      "source": [
        "len(df[df['turnover']==1])/len(df['turnover'])"
      ],
      "metadata": {
        "colab": {
          "base_uri": "https://localhost:8080/"
        },
        "id": "Z87I3vsW9ip2",
        "outputId": "dabbc24d-bbf8-4492-b4b0-71c5538772a4"
      },
      "execution_count": 11,
      "outputs": [
        {
          "output_type": "execute_result",
          "data": {
            "text/plain": [
              "0.16122448979591836"
            ]
          },
          "metadata": {},
          "execution_count": 11
        }
      ]
    },
    {
      "cell_type": "markdown",
      "source": [
        "Neste gráfico pode-se avaliar o total de casos de atritos com funcionários. Os dados apresentados nos retornam que os casos de atritos ocorreram com 16,12% dos funcionários.  "
      ],
      "metadata": {
        "id": "xyC5A0rz802M"
      }
    },
    {
      "cell_type": "code",
      "source": [
        "sns.countplot(x='BusinessTravel',palette = \"husl\", hue='turnover', data=df)"
      ],
      "metadata": {
        "colab": {
          "base_uri": "https://localhost:8080/",
          "height": 297
        },
        "id": "Xde3c9-x3vyt",
        "outputId": "40a7a74f-1bee-4acc-afc1-4d9096b0fcb8"
      },
      "execution_count": 12,
      "outputs": [
        {
          "output_type": "execute_result",
          "data": {
            "text/plain": [
              "<matplotlib.axes._subplots.AxesSubplot at 0x7f5b9408d150>"
            ]
          },
          "metadata": {},
          "execution_count": 12
        },
        {
          "output_type": "display_data",
          "data": {
            "text/plain": [
              "<Figure size 432x288 with 1 Axes>"
            ],
            "image/png": "[encoded data removed]"
          },
          "metadata": {
            "needs_background": "light"
          }
        }
      ]
    },
    {
      "cell_type": "code",
      "source": [
        "df1 = df[df['turnover']==1]\n",
        "df1['BusinessTravel'].value_counts()"
      ],
      "metadata": {
        "colab": {
          "base_uri": "https://localhost:8080/"
        },
        "id": "yPOuUs3v-HFb",
        "outputId": "61efa2a8-d34a-48ea-e23d-9028eabd79fb"
      },
      "execution_count": 13,
      "outputs": [
        {
          "output_type": "execute_result",
          "data": {
            "text/plain": [
              "Travel_Rarely        156\n",
              "Travel_Frequently     69\n",
              "Non-Travel            12\n",
              "Name: BusinessTravel, dtype: int64"
            ]
          },
          "metadata": {},
          "execution_count": 13
        }
      ]
    },
    {
      "cell_type": "code",
      "source": [
        "tr = len(df1[df1['BusinessTravel']=='Travel_Rarely'])/len(df[df['BusinessTravel']=='Travel_Rarely'])\n",
        "tf = len(df1[df1['BusinessTravel']=='Travel_Frequently'])/len(df[df['BusinessTravel']=='Travel_Frequently'])\n",
        "nt = len(df1[df1['BusinessTravel']=='Non-Travel'])/len(df[df['BusinessTravel']=='Non-Travel'])\n",
        "print('tr = {:.4f} / tf = {:.4f} / nt = {:.4f}'.format(tr, tf, nt))"
      ],
      "metadata": {
        "colab": {
          "base_uri": "https://localhost:8080/"
        },
        "id": "S71uzXe9K6SY",
        "outputId": "46a63dc2-9818-489b-ea15-25d89e3989b4"
      },
      "execution_count": 14,
      "outputs": [
        {
          "output_type": "stream",
          "name": "stdout",
          "text": [
            "tr = 0.1496 / tf = 0.2491 / nt = 0.0800\n"
          ]
        }
      ]
    },
    {
      "cell_type": "markdown",
      "source": [
        "Neste gráfico vemos a relação da variável BusinessTravel com o turnover. Podemos observar que proporcionalmente, os funcionários que viajam frequentemente obtiveram um índice de atrito maior."
      ],
      "metadata": {
        "id": "gj5In4rrMfpM"
      }
    },
    {
      "cell_type": "code",
      "source": [
        "plt.figure(figsize=(10,5))\n",
        "sns.countplot(x='EducationField', hue='turnover', palette = \"husl\", data=df)"
      ],
      "metadata": {
        "colab": {
          "base_uri": "https://localhost:8080/",
          "height": 351
        },
        "id": "w3MMlBNVK9h2",
        "outputId": "acd79836-7495-46d1-fe3a-bf40563fe636"
      },
      "execution_count": 15,
      "outputs": [
        {
          "output_type": "execute_result",
          "data": {
            "text/plain": [
              "<matplotlib.axes._subplots.AxesSubplot at 0x7f5b940862d0>"
            ]
          },
          "metadata": {},
          "execution_count": 15
        },
        {
          "output_type": "display_data",
          "data": {
            "text/plain": [
              "<Figure size 720x360 with 1 Axes>"
            ],
            "image/png": "[encoded data removed]"
          },
          "metadata": {
            "needs_background": "light"
          }
        }
      ]
    },
    {
      "cell_type": "code",
      "source": [
        "df2 = df[df['turnover']==1]\n",
        "df2['EducationField'].value_counts()"
      ],
      "metadata": {
        "colab": {
          "base_uri": "https://localhost:8080/"
        },
        "id": "QX1-FNxWMNWV",
        "outputId": "4d8d0372-bf03-4530-ea8f-d49eb80511bd"
      },
      "execution_count": 16,
      "outputs": [
        {
          "output_type": "execute_result",
          "data": {
            "text/plain": [
              "Life Sciences       89\n",
              "Medical             63\n",
              "Marketing           35\n",
              "Technical Degree    32\n",
              "Other               11\n",
              "Human Resources      7\n",
              "Name: EducationField, dtype: int64"
            ]
          },
          "metadata": {},
          "execution_count": 16
        }
      ]
    },
    {
      "cell_type": "code",
      "source": [
        "ls = len(df1[df1['EducationField']=='Life Sciences'])/len(df[df['EducationField']=='Life Sciences'])\n",
        "md = len(df1[df1['EducationField']=='Medical'])/len(df[df['EducationField']=='Medical'])\n",
        "mk = len(df1[df1['EducationField']=='Marketing'])/len(df[df['EducationField']=='Marketing'])\n",
        "td = len(df1[df1['EducationField']=='Technical Degree'])/len(df[df['EducationField']=='Technical Degree'])\n",
        "ot = len(df1[df1['EducationField']=='Other'])/len(df[df['EducationField']=='Other'])\n",
        "hr = len(df1[df1['EducationField']=='Human Resources'])/len(df[df['EducationField']=='Human Resources'])\n",
        "print('ls = {:.4f} / md = {:.4f} / mk = {:.4f} / td = {:.4f} / ot = {:.4f} / hr = {:.4f}'.format(ls, md, mk, td, ot, hr))"
      ],
      "metadata": {
        "colab": {
          "base_uri": "https://localhost:8080/"
        },
        "id": "FVkEUZ_jMt_H",
        "outputId": "6659bfee-3243-40e6-a999-3cef370e1510"
      },
      "execution_count": 17,
      "outputs": [
        {
          "output_type": "stream",
          "name": "stdout",
          "text": [
            "ls = 0.1469 / md = 0.1358 / mk = 0.2201 / td = 0.2424 / ot = 0.1341 / hr = 0.2593\n"
          ]
        }
      ]
    },
    {
      "cell_type": "markdown",
      "source": [
        "Neste gráfico vemos a relação da variável EducationField com o turnover. Podemos observar que proporcionalmente, os funcionários que têm formação na área de Recurso Humanos, apresentaram um índice de atrito maior, com uma pequena diferença dos profissionais com formação em Áreas Técnicas."
      ],
      "metadata": {
        "id": "58dMi5IgOEPi"
      }
    },
    {
      "cell_type": "code",
      "source": [
        "sns.countplot(x='Department', hue='turnover', palette = \"husl\", data=df)"
      ],
      "metadata": {
        "colab": {
          "base_uri": "https://localhost:8080/",
          "height": 296
        },
        "id": "cHqsKpXb6oMn",
        "outputId": "19e06b70-55fe-4d69-8925-127492fa2b69"
      },
      "execution_count": 18,
      "outputs": [
        {
          "output_type": "execute_result",
          "data": {
            "text/plain": [
              "<matplotlib.axes._subplots.AxesSubplot at 0x7f5b93fa40d0>"
            ]
          },
          "metadata": {},
          "execution_count": 18
        },
        {
          "output_type": "display_data",
          "data": {
            "text/plain": [
              "<Figure size 432x288 with 1 Axes>"
            ],
            "image/png": "[encoded data removed]"
          },
          "metadata": {
            "needs_background": "light"
          }
        }
      ]
    },
    {
      "cell_type": "code",
      "source": [
        "df3 = df[df['turnover']==1]\n",
        "df3['Department'].value_counts()"
      ],
      "metadata": {
        "colab": {
          "base_uri": "https://localhost:8080/"
        },
        "id": "pC4PM59KNb2n",
        "outputId": "91fa6570-9582-4381-b809-bc2df5995cb7"
      },
      "execution_count": 19,
      "outputs": [
        {
          "output_type": "execute_result",
          "data": {
            "text/plain": [
              "Research & Development    133\n",
              "Sales                      92\n",
              "Human Resources            12\n",
              "Name: Department, dtype: int64"
            ]
          },
          "metadata": {},
          "execution_count": 19
        }
      ]
    },
    {
      "cell_type": "code",
      "source": [
        "rd = len(df1[df1['Department']=='Research & Development'])/len(df[df['Department']=='Research & Development'])\n",
        "sl = len(df1[df1['Department']=='Sales'])/len(df[df['Department']=='Sales'])\n",
        "hr = len(df1[df1['Department']=='Human Resources'])/len(df[df['Department']=='Human Resources'])\n",
        "print('rd = {:.4f} / sl = {:.4f} / hr = {:.4f}'.format(rd, sl, hr))"
      ],
      "metadata": {
        "colab": {
          "base_uri": "https://localhost:8080/"
        },
        "id": "tTkRqbehNkcY",
        "outputId": "b3c8e678-0794-43cd-a53f-553ad1dbf52b"
      },
      "execution_count": 20,
      "outputs": [
        {
          "output_type": "stream",
          "name": "stdout",
          "text": [
            "rd = 0.1384 / sl = 0.2063 / hr = 0.1905\n"
          ]
        }
      ]
    },
    {
      "cell_type": "markdown",
      "source": [
        "Neste gráfico vemos a relação da variável Department com o turnover. Podemos observar que proporcionalmente, os funcionários que trabalham no departamento de vendas obtiveram um índice de atrito maior, com uma pequena diferença do departamento de RH."
      ],
      "metadata": {
        "id": "MduYwzn7OB7W"
      }
    },
    {
      "cell_type": "code",
      "source": [
        "sns.countplot(x='MaritalStatus', hue='turnover', palette = \"husl\", data=df)"
      ],
      "metadata": {
        "colab": {
          "base_uri": "https://localhost:8080/",
          "height": 296
        },
        "id": "SBnj8Y5_7QMJ",
        "outputId": "5d58bac5-e0c3-4851-8562-ae1f038e86e4"
      },
      "execution_count": 21,
      "outputs": [
        {
          "output_type": "execute_result",
          "data": {
            "text/plain": [
              "<matplotlib.axes._subplots.AxesSubplot at 0x7f5b93f38750>"
            ]
          },
          "metadata": {},
          "execution_count": 21
        },
        {
          "output_type": "display_data",
          "data": {
            "text/plain": [
              "<Figure size 432x288 with 1 Axes>"
            ],
            "image/png": "[encoded data removed]"
          },
          "metadata": {
            "needs_background": "light"
          }
        }
      ]
    },
    {
      "cell_type": "code",
      "source": [
        "df4 = df[df['turnover']==1]\n",
        "df4['MaritalStatus'].value_counts()"
      ],
      "metadata": {
        "colab": {
          "base_uri": "https://localhost:8080/"
        },
        "id": "QtYDUJRcOc1f",
        "outputId": "06a21f4f-1bc1-4247-cacd-c861211ab330"
      },
      "execution_count": 22,
      "outputs": [
        {
          "output_type": "execute_result",
          "data": {
            "text/plain": [
              "Single      120\n",
              "Married      84\n",
              "Divorced     33\n",
              "Name: MaritalStatus, dtype: int64"
            ]
          },
          "metadata": {},
          "execution_count": 22
        }
      ]
    },
    {
      "cell_type": "code",
      "source": [
        "sg = len(df1[df1['MaritalStatus']=='Single'])/len(df[df['MaritalStatus']=='Single'])\n",
        "mr = len(df1[df1['MaritalStatus']=='Married'])/len(df[df['MaritalStatus']=='Married'])\n",
        "dv = len(df1[df1['MaritalStatus']=='Divorced'])/len(df[df['MaritalStatus']=='Divorced'])\n",
        "print('sg = {:.4f} / mr = {:.4f} / dv = {:.4f}'.format(sg, mr, dv))"
      ],
      "metadata": {
        "colab": {
          "base_uri": "https://localhost:8080/"
        },
        "id": "gyj5flKrOdMm",
        "outputId": "96ff37f2-e228-451a-8aaa-bbb852e5b9a6"
      },
      "execution_count": 23,
      "outputs": [
        {
          "output_type": "stream",
          "name": "stdout",
          "text": [
            "sg = 0.2553 / mr = 0.1248 / dv = 0.1009\n"
          ]
        }
      ]
    },
    {
      "cell_type": "markdown",
      "source": [
        "Neste gráfico vemos a relação da variável MaritalStatus com o turnover. Podemos observar que proporcionalmente, os funcionários que são solteiros obtiveram um índice de atrito maior."
      ],
      "metadata": {
        "id": "pCDUSx9GO6F-"
      }
    },
    {
      "cell_type": "markdown",
      "source": [
        "**Exercicio 2. (1 ponto)**\\\n",
        "Faça seleção de características e selecione as 8 variáveis mais importantes. Escreva quais são elas e destaque as variáveis que estão presentes nas ideias apresentadas no exercício 1."
      ],
      "metadata": {
        "id": "XKrAHRb01ANS"
      }
    },
    {
      "cell_type": "code",
      "source": [
        "df.info()"
      ],
      "metadata": {
        "colab": {
          "base_uri": "https://localhost:8080/"
        },
        "id": "usRVVyYKaZt5",
        "outputId": "862c7811-1bdb-4829-fc74-d9cd510d7a5c"
      },
      "execution_count": 24,
      "outputs": [
        {
          "output_type": "stream",
          "name": "stdout",
          "text": [
            "<class 'pandas.core.frame.DataFrame'>\n",
            "RangeIndex: 1470 entries, 0 to 1469\n",
            "Data columns (total 32 columns):\n",
            " #   Column                    Non-Null Count  Dtype \n",
            "---  ------                    --------------  ----- \n",
            " 0   Age                       1470 non-null   int64 \n",
            " 1   Attrition                 1470 non-null   object\n",
            " 2   BusinessTravel            1470 non-null   object\n",
            " 3   DailyRate                 1470 non-null   int64 \n",
            " 4   Department                1470 non-null   object\n",
            " 5   DistanceFromHome          1470 non-null   int64 \n",
            " 6   Education                 1470 non-null   int64 \n",
            " 7   EducationField            1470 non-null   object\n",
            " 8   EnvironmentSatisfaction   1470 non-null   int64 \n",
            " 9   Gender                    1470 non-null   object\n",
            " 10  HourlyRate                1470 non-null   int64 \n",
            " 11  JobInvolvement            1470 non-null   int64 \n",
            " 12  JobLevel                  1470 non-null   int64 \n",
            " 13  JobRole                   1470 non-null   object\n",
            " 14  JobSatisfaction           1470 non-null   int64 \n",
            " 15  MaritalStatus             1470 non-null   object\n",
            " 16  MonthlyIncome             1470 non-null   int64 \n",
            " 17  MonthlyRate               1470 non-null   int64 \n",
            " 18  NumCompaniesWorked        1470 non-null   int64 \n",
            " 19  OverTime                  1470 non-null   object\n",
            " 20  PercentSalaryHike         1470 non-null   int64 \n",
            " 21  PerformanceRating         1470 non-null   int64 \n",
            " 22  RelationshipSatisfaction  1470 non-null   int64 \n",
            " 23  StockOptionLevel          1470 non-null   int64 \n",
            " 24  TotalWorkingYears         1470 non-null   int64 \n",
            " 25  TrainingTimesLastYear     1470 non-null   int64 \n",
            " 26  WorkLifeBalance           1470 non-null   int64 \n",
            " 27  YearsAtCompany            1470 non-null   int64 \n",
            " 28  YearsInCurrentRole        1470 non-null   int64 \n",
            " 29  YearsSinceLastPromotion   1470 non-null   int64 \n",
            " 30  YearsWithCurrManager      1470 non-null   int64 \n",
            " 31  turnover                  1470 non-null   int64 \n",
            "dtypes: int64(24), object(8)\n",
            "memory usage: 367.6+ KB\n"
          ]
        }
      ]
    },
    {
      "cell_type": "code",
      "source": [
        "# Transformando Variáveis Categóricas em Numéricas (binárias). Em alguns casos será utilizado a função get_dummies. \n",
        "\n",
        "# Variável Attrition:\n",
        "df['Attrition'][df['Attrition'] == 'Yes' ] = 1\n",
        "df['Attrition'][df['Attrition'] == 'No' ] = 0\n",
        "df['Attrition'] = np.array(df['Attrition'], dtype='int')\n",
        "\n",
        "# Variável BusinessTravel:\n",
        "df_BusinessTravel = pd.get_dummies(df['BusinessTravel'])\n",
        "df_BusinessTravel = df_BusinessTravel.rename(columns={1:'Non-Travel', 2:'Travel_Rarely', 3:'Travel_Frequently'})\n",
        "# Retornando os dados de BusinessTravel ao dataframe original\n",
        "df['Non_Travel'] = df_BusinessTravel['Non-Travel']\n",
        "df['Travel_Rarely'] = df_BusinessTravel['Travel_Rarely']\n",
        "df['Travel_Frequently'] = df_BusinessTravel['Travel_Frequently']\n",
        "# Transformando os dados em inteiros\n",
        "df['Non_Travel'] = np.array(df['Non_Travel'], dtype='int')\n",
        "df['Travel_Rarely'] = np.array(df['Travel_Rarely'], dtype='int')\n",
        "df['Travel_Frequently'] = np.array(df['Travel_Frequently'], dtype='int')\n",
        "# Retirando a coluna original BusinessTravel do dataframe\n",
        "df = df.drop(['BusinessTravel'], axis=1)\n",
        "\n",
        "# Variável Department:\n",
        "df_Department = pd.get_dummies(df['Department'])\n",
        "df_Department = df_Department.rename(columns={1:'Research & Development', 2:'Sales', 3:'Human Resources'})\n",
        "# Retornando os dados de Department ao dataframe original\n",
        "df['Research_&_Development'] = df_Department['Research & Development']\n",
        "df['Sales'] = df_Department['Sales']\n",
        "df['Human_Resources_Dp'] = df_Department['Human Resources']\n",
        "# Transformando os dados em inteiros\n",
        "df['Research_&_Development'] = np.array(df['Research_&_Development'], dtype='int')\n",
        "df['Sales'] = np.array(df['Sales'], dtype='int')\n",
        "df['Human_Resources_Dp'] = np.array(df['Human_Resources_Dp'], dtype='int')\n",
        "# Retirando a coluna original Department do dataframe\n",
        "df = df.drop(['Department'], axis=1)\n",
        "\n",
        "# Variável EducationField:\n",
        "df_EducationField = pd.get_dummies(df['EducationField'])\n",
        "df_EducationField = df_EducationField.rename(columns={1:'Life Sciences', 2:'Medical', 3:'Marketing', 4:'Technical Degree', 5:'Other', 6:'Human Resources'})\n",
        "# Retornando os dados de EducationField ao dataframe original\n",
        "df['Life_Sciences'] = df_EducationField['Life Sciences']\n",
        "df['Medical'] = df_EducationField['Medical']\n",
        "df['Marketing'] = df_EducationField['Marketing']\n",
        "df['Technical_Degree'] = df_EducationField['Technical Degree']\n",
        "df['Other'] = df_EducationField['Other']\n",
        "df['Human_Resources_Ef'] = df_EducationField['Human Resources']\n",
        "# Transformando os dados em inteiros\n",
        "df['Life_Sciences'] = np.array(df['Life_Sciences'], dtype='int')\n",
        "df['Medical'] = np.array(df['Medical'], dtype='int')\n",
        "df['Marketing'] = np.array(df['Marketing'], dtype='int')\n",
        "df['Technical_Degree'] = np.array(df['Technical_Degree'], dtype='int')\n",
        "df['Other'] = np.array(df['Other'], dtype='int')\n",
        "df['Human_Resources_Ef'] = np.array(df['Human_Resources_Ef'], dtype='int')\n",
        "# Retirando a coluna original EducationField do dataframe\n",
        "df = df.drop(['EducationField'], axis=1)\n",
        "\n",
        "# Variável Gender:\n",
        "df_Gender = pd.get_dummies(df['Gender'])\n",
        "df_Gender = df_Gender.rename(columns={1:'Male', 2:'Female'})\n",
        "# Retornando os dados de Gender ao dataframe original\n",
        "df['Male'] = df_Gender['Male']\n",
        "df['Female'] = df_Gender['Female']\n",
        "# Transformando os dados em inteiros\n",
        "df['Male'] = np.array(df['Male'], dtype='int')\n",
        "df['Female'] = np.array(df['Female'], dtype='int')\n",
        "# Retirando a coluna original Gender do dataframe\n",
        "df = df.drop(['Gender'], axis=1)\n",
        "\n",
        "# Variável JobRole:\n",
        "df_JobRole = pd.get_dummies(df['JobRole'])\n",
        "df_JobRole = df_JobRole.rename(columns={1:'Sales Executive', 2:'Research Scientist', 3:'Laboratory Technician', 4:'Manufacturing Director', 5:'Healthcare Representative', 6:'Manager', 7:'Sales Representative', 8:'Research Director', 9:'Human Resources'})\n",
        "# Retornando os dados de JobRole ao dataframe original\n",
        "df['Sales_Executive'] = df_JobRole['Sales Executive']\n",
        "df['Research_Scientist'] = df_JobRole['Research Scientist']\n",
        "df['Laboratory_Technician'] = df_JobRole['Laboratory Technician']\n",
        "df['Manufacturing_Director'] = df_JobRole['Manufacturing Director']\n",
        "df['Healthcare_Representative'] = df_JobRole['Healthcare Representative']\n",
        "df['Manager'] = df_JobRole['Manager']\n",
        "df['Sales_Representative'] = df_JobRole['Sales Representative']\n",
        "df['Research_Director'] = df_JobRole['Research Director']\n",
        "df['Human_Resources_Jr'] = df_JobRole['Human Resources']\n",
        "# Transformando os dados em inteiros\n",
        "df['Sales_Executive'] = np.array(df['Sales_Executive'], dtype='int')\n",
        "df['Research_Scientist'] = np.array(df['Research_Scientist'], dtype='int')\n",
        "df['Laboratory_Technician'] = np.array(df['Laboratory_Technician'], dtype='int')\n",
        "df['Manufacturing_Director'] = np.array(df['Manufacturing_Director'], dtype='int')\n",
        "df['Healthcare_Representative'] = np.array(df['Healthcare_Representative'], dtype='int')\n",
        "df['Manager'] = np.array(df['Manager'], dtype='int')\n",
        "df['Sales_Representative'] = np.array(df['Sales_Representative'], dtype='int')\n",
        "df['Research_Director'] = np.array(df['Research_Director'], dtype='int')\n",
        "df['Human_Resources_Jr'] = np.array(df['Human_Resources_Jr'], dtype='int')\n",
        "# Retirando a coluna original JobRole do dataframe\n",
        "df = df.drop(['JobRole'], axis=1)\n",
        "\n",
        "# Variável MaritalStatus:\n",
        "df_MaritalStatus = pd.get_dummies(df['MaritalStatus'])\n",
        "df_MaritalStatus = df_MaritalStatus.rename(columns={1:'Married', 2:'Single', 3:'Divorced'})\n",
        "# Retornando os dados de MaritalStatus ao dataframe original\n",
        "df['Married'] = df_MaritalStatus['Married']\n",
        "df['Single'] = df_MaritalStatus['Single']\n",
        "df['Divorced'] = df_MaritalStatus['Divorced']\n",
        "# Transformando os dados em inteiros\n",
        "df['Married'] = np.array(df['Married'], dtype='int')\n",
        "df['Single'] = np.array(df['Single'], dtype='int')\n",
        "df['Divorced'] = np.array(df['Divorced'], dtype='int')\n",
        "# Retirando a coluna original MaritalStatus do dataframe\n",
        "df = df.drop(['MaritalStatus'], axis=1)\n",
        "\n",
        "# Variável OverTime:\n",
        "df['OverTime'][df['OverTime'] == 'No' ] = 0\n",
        "df['OverTime'][df['OverTime'] == 'Yes' ] = 1\n",
        "df['OverTime'] = np.array(df['OverTime'], dtype='int')\n",
        "\n",
        "df.info()"
      ],
      "metadata": {
        "colab": {
          "base_uri": "https://localhost:8080/"
        },
        "id": "anXagMhvfSuQ",
        "outputId": "5b9b4c8b-7aa5-41be-da68-92ac3cdb237b"
      },
      "execution_count": 25,
      "outputs": [
        {
          "output_type": "stream",
          "name": "stdout",
          "text": [
            "<class 'pandas.core.frame.DataFrame'>\n",
            "RangeIndex: 1470 entries, 0 to 1469\n",
            "Data columns (total 52 columns):\n",
            " #   Column                     Non-Null Count  Dtype\n",
            "---  ------                     --------------  -----\n",
            " 0   Age                        1470 non-null   int64\n",
            " 1   Attrition                  1470 non-null   int64\n",
            " 2   DailyRate                  1470 non-null   int64\n",
            " 3   DistanceFromHome           1470 non-null   int64\n",
            " 4   Education                  1470 non-null   int64\n",
            " 5   EnvironmentSatisfaction    1470 non-null   int64\n",
            " 6   HourlyRate                 1470 non-null   int64\n",
            " 7   JobInvolvement             1470 non-null   int64\n",
            " 8   JobLevel                   1470 non-null   int64\n",
            " 9   JobSatisfaction            1470 non-null   int64\n",
            " 10  MonthlyIncome              1470 non-null   int64\n",
            " 11  MonthlyRate                1470 non-null   int64\n",
            " 12  NumCompaniesWorked         1470 non-null   int64\n",
            " 13  OverTime                   1470 non-null   int64\n",
            " 14  PercentSalaryHike          1470 non-null   int64\n",
            " 15  PerformanceRating          1470 non-null   int64\n",
            " 16  RelationshipSatisfaction   1470 non-null   int64\n",
            " 17  StockOptionLevel           1470 non-null   int64\n",
            " 18  TotalWorkingYears          1470 non-null   int64\n",
            " 19  TrainingTimesLastYear      1470 non-null   int64\n",
            " 20  WorkLifeBalance            1470 non-null   int64\n",
            " 21  YearsAtCompany             1470 non-null   int64\n",
            " 22  YearsInCurrentRole         1470 non-null   int64\n",
            " 23  YearsSinceLastPromotion    1470 non-null   int64\n",
            " 24  YearsWithCurrManager       1470 non-null   int64\n",
            " 25  turnover                   1470 non-null   int64\n",
            " 26  Non_Travel                 1470 non-null   int64\n",
            " 27  Travel_Rarely              1470 non-null   int64\n",
            " 28  Travel_Frequently          1470 non-null   int64\n",
            " 29  Research_&_Development     1470 non-null   int64\n",
            " 30  Sales                      1470 non-null   int64\n",
            " 31  Human_Resources_Dp         1470 non-null   int64\n",
            " 32  Life_Sciences              1470 non-null   int64\n",
            " 33  Medical                    1470 non-null   int64\n",
            " 34  Marketing                  1470 non-null   int64\n",
            " 35  Technical_Degree           1470 non-null   int64\n",
            " 36  Other                      1470 non-null   int64\n",
            " 37  Human_Resources_Ef         1470 non-null   int64\n",
            " 38  Male                       1470 non-null   int64\n",
            " 39  Female                     1470 non-null   int64\n",
            " 40  Sales_Executive            1470 non-null   int64\n",
            " 41  Research_Scientist         1470 non-null   int64\n",
            " 42  Laboratory_Technician      1470 non-null   int64\n",
            " 43  Manufacturing_Director     1470 non-null   int64\n",
            " 44  Healthcare_Representative  1470 non-null   int64\n",
            " 45  Manager                    1470 non-null   int64\n",
            " 46  Sales_Representative       1470 non-null   int64\n",
            " 47  Research_Director          1470 non-null   int64\n",
            " 48  Human_Resources_Jr         1470 non-null   int64\n",
            " 49  Married                    1470 non-null   int64\n",
            " 50  Single                     1470 non-null   int64\n",
            " 51  Divorced                   1470 non-null   int64\n",
            "dtypes: int64(52)\n",
            "memory usage: 597.3 KB\n"
          ]
        },
        {
          "output_type": "stream",
          "name": "stderr",
          "text": [
            "/usr/local/lib/python3.7/dist-packages/ipykernel_launcher.py:4: SettingWithCopyWarning: \n",
            "A value is trying to be set on a copy of a slice from a DataFrame\n",
            "\n",
            "See the caveats in the documentation: https://pandas.pydata.org/pandas-docs/stable/user_guide/indexing.html#returning-a-view-versus-a-copy\n",
            "  after removing the cwd from sys.path.\n",
            "/usr/local/lib/python3.7/dist-packages/ipykernel_launcher.py:5: SettingWithCopyWarning: \n",
            "A value is trying to be set on a copy of a slice from a DataFrame\n",
            "\n",
            "See the caveats in the documentation: https://pandas.pydata.org/pandas-docs/stable/user_guide/indexing.html#returning-a-view-versus-a-copy\n",
            "  \"\"\"\n",
            "/usr/local/lib/python3.7/dist-packages/ipykernel_launcher.py:109: SettingWithCopyWarning: \n",
            "A value is trying to be set on a copy of a slice from a DataFrame\n",
            "\n",
            "See the caveats in the documentation: https://pandas.pydata.org/pandas-docs/stable/user_guide/indexing.html#returning-a-view-versus-a-copy\n",
            "/usr/local/lib/python3.7/dist-packages/ipykernel_launcher.py:110: SettingWithCopyWarning: \n",
            "A value is trying to be set on a copy of a slice from a DataFrame\n",
            "\n",
            "See the caveats in the documentation: https://pandas.pydata.org/pandas-docs/stable/user_guide/indexing.html#returning-a-view-versus-a-copy\n"
          ]
        }
      ]
    },
    {
      "cell_type": "code",
      "source": [
        "# Analisando a correlação entre os atributos e o rótulo utilizando a RFE\n",
        "X = df.drop(['turnover', 'Attrition'], axis=1)\n",
        "y = df.turnover\n",
        "X_std = StandardScaler().fit_transform(X)\n",
        "\n",
        "estimator = LinearRegression()\n",
        "\n",
        "selector = RFE(estimator, n_features_to_select=8, step=1)\n",
        "selector = selector.fit(X_std, y)\n",
        "\n",
        "df5 = selector.get_feature_names_out()\n",
        "\n",
        "df6 = pd.DataFrame(X.columns)\n",
        "df6 = df6.rename(columns = {0:'Nome_Colunas'})\n",
        "var = []\n",
        "for i in range(8):\n",
        "  num = str(df5[i])\n",
        "  div = int(num[1]+num[2])\n",
        "  nome = df6['Nome_Colunas'][div]\n",
        "  var.append(nome)\n",
        "print('As 8 variáveis mais importantes segundo o método RFE, parametrizado por Regressão Linear, são\\n{}, {}, {}, {}, {}, {}, {}, {}.'.format(var[0], var[1], var[2], var[3], var[4], var[5], var[6], var[7]))"
      ],
      "metadata": {
        "colab": {
          "base_uri": "https://localhost:8080/"
        },
        "id": "nbkcs9IX91N-",
        "outputId": "89dadfc4-6fc3-4a60-8cda-b2fe73cbefcc"
      },
      "execution_count": 26,
      "outputs": [
        {
          "output_type": "stream",
          "name": "stdout",
          "text": [
            "As 8 variáveis mais importantes segundo o método RFE, parametrizado por Regressão Linear, são\n",
            "Non_Travel, Travel_Rarely, Travel_Frequently, Life_Sciences, Medical, Married, Single, Divorced.\n"
          ]
        }
      ]
    },
    {
      "cell_type": "markdown",
      "source": [
        "A variável BusinessTravel foi abordada inicialmente e foi constatado que os atritos ocorreram com maior proporção com os funcionários que viajam frequentemente. A análise RFE ainda retorna que as demais situações de viagem também têm importância quando se trata do rótulo *turnover*.\\\n",
        "A variável EducationField também foi abordada. Na análise inicial do gráfico, observou-se que as áreas de formação em Recursos Humanos e Áreas Técnicas representavam os maiores índices de atritos, porém o modelo RFE apresenta como importantes as formações em áreas Médicas e Ciências da Vida.\\\n",
        "Outro ponto a ser dicutido é a situação do estado civil do funcionário. Na análise feita pelo gráfico observou-se que os funcionários solteiros apresentaram maior índice de atritos, e o modelo RFE nos apresenta que os demais estados civis também têm relevância comparado ao rótulo."
      ],
      "metadata": {
        "id": "hOMJlbVuRkgt"
      }
    },
    {
      "cell_type": "markdown",
      "source": [
        "**Exercicio 3. (2 pontos)**\\\n",
        "Construa um modelo de árvore de decisão. Obtenha os valores das métricas: acurácia, precisão e sensitividade."
      ],
      "metadata": {
        "id": "I3qAJ0qNfHTu"
      }
    },
    {
      "cell_type": "code",
      "source": [
        "# Separando X e y\n",
        "X = df.drop(['turnover', 'Attrition'], axis=1)\n",
        "y = df.turnover\n",
        "\n",
        "# Separar o dado em conjunto em conjuntos de treinamento e teste\n",
        "X_train, X_test, y_train, y_test = train_test_split(X, y, test_size = 0.2, random_state=10)\n",
        "\n",
        "#Implementando a Ávore de Decisão com poda em 4 níveis\n",
        "arvore = DecisionTreeClassifier(max_depth= 4)\n",
        "arvore.fit( X_train, y_train )\n",
        "predicao = arvore.predict( X_test )"
      ],
      "metadata": {
        "id": "BLAPtR6HwZrI"
      },
      "execution_count": 27,
      "outputs": []
    },
    {
      "cell_type": "code",
      "source": [
        "print(f'ACURÁCIA {accuracy_score(y_test, predicao)*100:.2f}%')\n",
        "print(f'PRECISÃO {precision_score(y_test, predicao)*100:.2f}%')\n",
        "print(f'SENSITIVIDADE {recall_score(y_test, predicao)*100:.2f}%')"
      ],
      "metadata": {
        "colab": {
          "base_uri": "https://localhost:8080/"
        },
        "id": "KwC8ixfcNtOH",
        "outputId": "61f690ab-3ad4-4654-ffdd-95cd89fe4c7b"
      },
      "execution_count": 28,
      "outputs": [
        {
          "output_type": "stream",
          "name": "stdout",
          "text": [
            "ACURÁCIA 86.73%\n",
            "PRECISÃO 80.77%\n",
            "SENSITIVIDADE 38.18%\n"
          ]
        }
      ]
    },
    {
      "cell_type": "markdown",
      "source": [
        "Para o modelo de Árvore de Decisão, foi utilizado poda com 4 níveis, pois desta maneira obteve-se melhores valores das métricas."
      ],
      "metadata": {
        "id": "lXvXyVQnh_TZ"
      }
    },
    {
      "cell_type": "markdown",
      "source": [
        "**Exercicio 4. (1 ponto)**\\\n",
        "Faça a representação da árvore e observe como foi realizado cada ramificação. Explique o que é GINI e quais seriam as desvantagens?"
      ],
      "metadata": {
        "id": "Z79BgJQO39Jm"
      }
    },
    {
      "cell_type": "code",
      "source": [
        "plt.figure( figsize=(40, 20) )\n",
        "feature_names = X.columns\n",
        "target_names = ('turnover')\n",
        "plot_tree( arvore, filled=True, fontsize=10, class_names= target_names, feature_names= feature_names )"
      ],
      "metadata": {
        "colab": {
          "base_uri": "https://localhost:8080/",
          "height": 1000
        },
        "id": "Lg1gQ9si4OOJ",
        "outputId": "96e2d832-f011-4c9d-9858-78c401ef866c"
      },
      "execution_count": 29,
      "outputs": [
        {
          "output_type": "execute_result",
          "data": {
            "text/plain": [
              "[Text(0.5, 0.9, 'OverTime <= 0.5\\ngini = 0.262\\nsamples = 1176\\nvalue = [994, 182]\\nclass = t'),\n",
              " Text(0.25, 0.7, 'TotalWorkingYears <= 2.5\\ngini = 0.187\\nsamples = 843\\nvalue = [755, 88]\\nclass = t'),\n",
              " Text(0.125, 0.5, 'Research_Scientist <= 0.5\\ngini = 0.432\\nsamples = 73\\nvalue = [50, 23]\\nclass = t'),\n",
              " Text(0.0625, 0.3, 'DailyRate <= 343.5\\ngini = 0.494\\nsamples = 47\\nvalue = [26, 21]\\nclass = t'),\n",
              " Text(0.03125, 0.1, 'gini = 0.0\\nsamples = 6\\nvalue = [0, 6]\\nclass = u'),\n",
              " Text(0.09375, 0.1, 'gini = 0.464\\nsamples = 41\\nvalue = [26, 15]\\nclass = t'),\n",
              " Text(0.1875, 0.3, 'Other <= 0.5\\ngini = 0.142\\nsamples = 26\\nvalue = [24, 2]\\nclass = t'),\n",
              " Text(0.15625, 0.1, 'gini = 0.077\\nsamples = 25\\nvalue = [24, 1]\\nclass = t'),\n",
              " Text(0.21875, 0.1, 'gini = 0.0\\nsamples = 1\\nvalue = [0, 1]\\nclass = u'),\n",
              " Text(0.375, 0.5, 'WorkLifeBalance <= 1.5\\ngini = 0.155\\nsamples = 770\\nvalue = [705, 65]\\nclass = t'),\n",
              " Text(0.3125, 0.3, 'DailyRate <= 936.0\\ngini = 0.375\\nsamples = 44\\nvalue = [33, 11]\\nclass = t'),\n",
              " Text(0.28125, 0.1, 'gini = 0.486\\nsamples = 24\\nvalue = [14, 10]\\nclass = t'),\n",
              " Text(0.34375, 0.1, 'gini = 0.095\\nsamples = 20\\nvalue = [19, 1]\\nclass = t'),\n",
              " Text(0.4375, 0.3, 'JobSatisfaction <= 1.5\\ngini = 0.138\\nsamples = 726\\nvalue = [672, 54]\\nclass = t'),\n",
              " Text(0.40625, 0.1, 'gini = 0.248\\nsamples = 138\\nvalue = [118, 20]\\nclass = t'),\n",
              " Text(0.46875, 0.1, 'gini = 0.109\\nsamples = 588\\nvalue = [554, 34]\\nclass = t'),\n",
              " Text(0.75, 0.7, 'MonthlyIncome <= 2537.0\\ngini = 0.405\\nsamples = 333\\nvalue = [239, 94]\\nclass = t'),\n",
              " Text(0.625, 0.5, 'DailyRate <= 931.0\\ngini = 0.46\\nsamples = 53\\nvalue = [19, 34]\\nclass = u'),\n",
              " Text(0.5625, 0.3, 'Medical <= 0.5\\ngini = 0.302\\nsamples = 27\\nvalue = [5, 22]\\nclass = u'),\n",
              " Text(0.53125, 0.1, 'gini = 0.0\\nsamples = 14\\nvalue = [0, 14]\\nclass = u'),\n",
              " Text(0.59375, 0.1, 'gini = 0.473\\nsamples = 13\\nvalue = [5, 8]\\nclass = u'),\n",
              " Text(0.6875, 0.3, 'YearsInCurrentRole <= 2.5\\ngini = 0.497\\nsamples = 26\\nvalue = [14, 12]\\nclass = t'),\n",
              " Text(0.65625, 0.1, 'gini = 0.465\\nsamples = 19\\nvalue = [7, 12]\\nclass = u'),\n",
              " Text(0.71875, 0.1, 'gini = 0.0\\nsamples = 7\\nvalue = [7, 0]\\nclass = t'),\n",
              " Text(0.875, 0.5, 'Single <= 0.5\\ngini = 0.337\\nsamples = 280\\nvalue = [220, 60]\\nclass = t'),\n",
              " Text(0.8125, 0.3, 'EnvironmentSatisfaction <= 2.5\\ngini = 0.245\\nsamples = 203\\nvalue = [174, 29]\\nclass = t'),\n",
              " Text(0.78125, 0.1, 'gini = 0.402\\nsamples = 61\\nvalue = [44, 17]\\nclass = t'),\n",
              " Text(0.84375, 0.1, 'gini = 0.155\\nsamples = 142\\nvalue = [130, 12]\\nclass = t'),\n",
              " Text(0.9375, 0.3, 'Sales <= 0.5\\ngini = 0.481\\nsamples = 77\\nvalue = [46, 31]\\nclass = t'),\n",
              " Text(0.90625, 0.1, 'gini = 0.375\\nsamples = 44\\nvalue = [33, 11]\\nclass = t'),\n",
              " Text(0.96875, 0.1, 'gini = 0.478\\nsamples = 33\\nvalue = [13, 20]\\nclass = u')]"
            ]
          },
          "metadata": {},
          "execution_count": 29
        },
        {
          "output_type": "display_data",
          "data": {
            "text/plain": [
              "<Figure size 2880x1440 with 1 Axes>"
            ],
            "image/png": "[encoded data removed]"
          },
          "metadata": {
            "needs_background": "light"
          }
        }
      ]
    },
    {
      "cell_type": "markdown",
      "source": [
        "### **Índice Gini:**\n",
        "O índice Gini foi criado pelo estatístico italiano Conrado Gini em 1912. Inicialmente foi desenvolvido para medir desigualdade de distribuição de renda.\\\n",
        "No caso de análise de dados, utiliza-se o índice Gini para medir o grau de heterogeneidade dos dados. No caso da utilização do modelo de classificação de Árvore de Decisão, mede-se o grau de impureza de um nó.\\\n",
        "Quando o Gini é igual a zero, diz-se que o nó é puro, ou seja, obtem-se a folha a qual representa uma classificação específica. Quando o Gini é maior que zero, diz-se que o nó possui um determinado grau de impureza, o que implica a necessidade de uma nova divisão para se obter um grau de impureza menor. Já quando o Gini é igual a um, temos um nó impuro.\n",
        "### **Desvantagem:**\n",
        "Quando utiliza-se o modelo de Árvore de Decisão, que é um modelo recursivo, estende-se a profundidade da classificação até o modelo classificar perfeitamente os dados de treinamento. Em um conjunto de treinamento sem ruídos, o número de erros pode ser zero, já quando existe ruído ou o conjunto de treinamento não é representativo, o algoritmo pode produzir árvores com *overfitting*.\n",
        "\n",
        "Fonte: https://www.maxwell.vrac.puc-rio.br/7587/7587_4.PDF\n"
      ],
      "metadata": {
        "id": "-R4uiKdW4SBh"
      }
    },
    {
      "cell_type": "markdown",
      "source": [
        "**Exercicio 5. (3 pontos)**\\\n",
        "Chamamos de overfitting (superajuste) a situação onde um modelo \"decora\" como predizer o conjunto de treino, mas tende a errar muito ao predizer o conjunto de teste. Dizemos que este modelo não generaliza, não consegue lidar com dados novos. Vimos dois modelos de diferentes estrategias de aprendizado por agrupamento durante as aulas. Qual destes modelos tem maior chance de sofrer um overfitting e por quê?"
      ],
      "metadata": {
        "id": "vftxezUYql2H"
      }
    },
    {
      "cell_type": "markdown",
      "source": [
        "O principal objetivo de usar um modelo ensemble é agrupar um conjunto de modelos fracos e formar um modelo forte. A forma como isso é feito é definida pelas técnicas de Bagging e Boosting que funcionam de forma diferente e têm como objetivo obter melhores resultados com alta precisão e exatidão e menos erros. Com métodos de conjunto, vários modelos são reunidos para produzir um modelo poderoso.\n",
        "\n",
        "*   Bagging é um modelo homogêneo de modelos fracos que aprende uns com os outros independentemente em paralelo e os combina para determinar a média do modelo.\n",
        "*   Boosting também é um modelo homogêneo de modelos fracos, mas funciona de forma diferente do Bagging. Neste modelo, os modelos aprendem sequencialmente e de forma adaptativa para melhorar as previsões do modelo de aprendizagem.\n",
        "\n",
        "Alguns dos fatores que causam erros no aprendizado são ruído, viés e variância. O método ensemble é aplicado para reduzir esses fatores resultando na estabilidade e precisão do resultado.\\\n",
        "O Bagging é usado para diminuir a variância no modelo de previsão, não o viés, e resolve problemas de *overfitting* em um modelo. Já o Boosting diminui o viés, não a variância, e cria modelos preditivos fortes.\\\n",
        "Desta forma, conclui-se que o modelo de Boosting é mais suscetível a sofre com *overfitting*.\n",
        "\n",
        "Fonte: https://www.upgrad.com/blog/bagging-vs-boosting/#:~:text=Bagging%20is%20a%20technique%20for,based%20on%20the%20previous%20classification."
      ],
      "metadata": {
        "id": "_uTwUbpiqlo-"
      }
    },
    {
      "cell_type": "markdown",
      "source": [
        "**Exercicio 6. (1 ponto)**\\\n",
        "Você recomendaria o seu modelo para uma empresa utilizar em seu setor de Recursos Humanos? Como você explicaria para um setor que não possui conhecimento algum sobre Ciência de Dados que um modelo com 100% de acurácia é impossível de se obter?"
      ],
      "metadata": {
        "id": "xF3GI-2NqlWO"
      }
    },
    {
      "cell_type": "markdown",
      "source": [
        "###Recomendação do modelo:\n",
        "Para se analisar se um modelo de predição é bom ou não, devemos realizar a avaliação de suas métricas. Neste caso, as métricas calculadas foram a Acurácia, Precisão e Sensibilidade.\\\n",
        "A Acurária de um modelo avalia o percentual de acertos que o modelo obteve. Neste nosso caso, atingiu-se o valor de 86,73% de acertos.\\\n",
        "Se fossemos apenas avaliar esta métrica, poderíamos dizer que obtivemos um bom modelo, porém, é necessário a avaliação de mais métricas para chegarmos em alguma conclusão.\\\n",
        "Além da Acurácia, foi calculado também a métrica de Precisão a qual avalia os resultados verdadeiros positivos sobre a soma de todos os valores positivos (inclusive os falsos positivos). Para este modelo, a precisão obtida foi de 80,77%, indicando assim a existência de resultados preditos como positivos, porém na verdade eram negativos.\\\n",
        "Finalizamos a análise avaliando a métrica de Sensibilidade. Esta métrica avalia a capacidade do modelo de detectar com sucesso resultados classificados como positivos, ou seja, Sensibilidade alta significa altos valores de verdadeiros positivos, mesmo comparando com os posíveis falsos positivos.\\\n",
        "Desta maneira, como obtivemos um valor de 38,18% de Sensibilidade, o que significa que o modelo não detecta com sucesso satisfatório os resultados classificados como positivos, não se recomenda o uso deste modelo.\n",
        "\n",
        "###Explicação 100% de Acurácia:\n",
        "Como explicado acima, a Acurácia avalia a relação entre o total de acertos e o total de itens avaliados pelo modelo. Um resultado de 100% de Acurácia, significa que o modelo acertou todos os itens avaliados.\\\n",
        "Partindo do princípio de que os modelos de classificação são construídos através da avaliação de ocorrências passadas com o objetivo de prever a classificação de novos dados, quando atingi-se uma Acurácia de 100%, estamos diante de um modelo com *overfitting*, ou seja, o modelo fica superajustado para a base de treino utilizada (ocorrências passadas), e quando realiza as predições com os novos dados, acaba gerando predições com erros.\\\n",
        "Modelos que possuem Acurácia em bons níveis, apresentam percentual de erros o que signifca que são modelos abrangentes e que conseguem ter bons resultados de predição com os novos dados avaliados. "
      ],
      "metadata": {
        "id": "HWECCfflq6Oo"
      }
    }
  ]
}