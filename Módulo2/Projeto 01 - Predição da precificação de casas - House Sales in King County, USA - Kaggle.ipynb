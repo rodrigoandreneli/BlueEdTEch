{
  "cells": [
    {
      "cell_type": "markdown",
      "metadata": {
        "id": "gvQ4aDvco3dN"
      },
      "source": [
        "# Projeto 1 - Predição da precificação de casas \n",
        "## House Sales in King County, USA - Kaggle"
      ]
    },
    {
      "cell_type": "markdown",
      "metadata": {
        "id": "rtVsSTsUo3dS"
      },
      "source": [
        "## Introdução"
      ]
    },
    {
      "cell_type": "markdown",
      "metadata": {
        "id": "cFiu3UkOo3dT"
      },
      "source": [
        "Este é um conjunto de dados armazenado no Kaggle, uma plataforma de estudo e competições de Ciência de Dados. Segue a tradução sobre o conjunto de dados.\n",
        "\n",
        "**\"Este conjunto de dados contém preços de venda de casas para King County, que inclui Seattle. Inclui casas vendidas entre maio de 2014 e maio de 2015.\"**\n",
        "\n",
        "Segue a descrição das variaveis:\n",
        "\n",
        "- id - identificação unica para cada venda\n",
        "- date - data da venda\n",
        "- price - preço da venda\n",
        "- bedrooms - número de quartos\n",
        "- bathrooms - número de banheiros\n",
        "- sqft_living - tamanho da casa em metros quadrados\n",
        "- sqft_lot - tamanho do lote em metros quadrados\n",
        "- floors - número de andares\n",
        "- waterfront - vista para praia\n",
        "- view - visitado\n",
        "- condition - condição da casa\n",
        "- grade - nota de qualidade (baseado no sistema de classificação do King County)\n",
        "- sqft_above - tamanho da área abaixo da casa em metros quadrados\n",
        "- sqft_basement - tamanho do porão em metros quadrados\n",
        "- yr_built - ano de construção\n",
        "- yr_renovated - ano da ultima reforma\n",
        "- zipcode - CEP\n",
        "- lat - latitude\n",
        "- long - longitude\n",
        "- sqft_living15 - área da casa em 2015 (implica a algumas reformas). Isso pode ou não ter afetado a área do lote\n",
        "- sqft_lot15 - área do lote em 2015 (implica a algumas reformas)"
      ]
    },
    {
      "cell_type": "markdown",
      "metadata": {
        "id": "zxibG_qho3dV"
      },
      "source": [
        "# Sobre este projeto\n",
        "\n",
        "Este é o seu primeiro projeto usando Ciência de Dados. Neste projeto treine os conhecimentos aprendidos até o momento e que entenda algumas das dificuldades que pode ter quando for aplicar os mesmos. \n",
        "\n",
        "Os principais pontos que serão avaliados:\n",
        "\n",
        "- Levantamento de hipoteses\n",
        "- Manipulação de dados e criação de gráficos simples com o `Pandas`\n",
        "- Criar um modelo usando regressão linear e justificar"
      ]
    },
    {
      "cell_type": "markdown",
      "metadata": {
        "id": "efzeCvuho3dW"
      },
      "source": [
        "# Preparação do ambiente\n",
        "\n",
        "- Acessem o link - https://www.kaggle.com/datasets/harlfoxem/housesalesprediction e logo abaixo cliquem em \"Download\". Caso voce não tenha uma conta no Kaggle, crie uma e retorne para esse ponto para realizar o download."
      ]
    },
    {
      "cell_type": "markdown",
      "metadata": {
        "id": "k2rgA5_Mo3dY"
      },
      "source": [
        "# Exercicio 1. (0.5 pontos)\n",
        "\n",
        "Formule ao menos duas perguntas que você acha que poderiam ser respondidas usando os dados"
      ]
    },
    {
      "cell_type": "markdown",
      "metadata": {
        "id": "dHfV4gq-o3dc"
      },
      "source": [
        "**RESPOSTA** (VALE 0.5 pontos):\n",
        "\n",
        "1 - As casas vendidas pelos maiores valores foram as de maior área construída?\n",
        "\n",
        "2 - Dentre as casas vendidas, as com vista para o mar estão entre os maiores valores?\n",
        "\n",
        "3 - A pontuação de avaliação é proporcional aos preços?"
      ]
    },
    {
      "cell_type": "code",
      "source": [
        "# Importação das bibliotecas padrões\n",
        "import pandas as pd\n",
        "import numpy as np"
      ],
      "metadata": {
        "id": "Lb0sIfhd3wu4"
      },
      "execution_count": 68,
      "outputs": []
    },
    {
      "cell_type": "code",
      "source": [
        "# Implementação do dataframe\n",
        "df = pd.read_csv('/content/kc_house_data.csv')\n",
        "df"
      ],
      "metadata": {
        "colab": {
          "base_uri": "https://localhost:8080/",
          "height": 487
        },
        "id": "4V3rlMc231a3",
        "outputId": "ffe151d1-ecc5-4fe4-b941-a755974ae068"
      },
      "execution_count": 69,
      "outputs": [
        {
          "output_type": "execute_result",
          "data": {
            "text/plain": [
              "               id             date     price  bedrooms  bathrooms  \\\n",
              "0      7129300520  20141013T000000  221900.0         3       1.00   \n",
              "1      6414100192  20141209T000000  538000.0         3       2.25   \n",
              "2      5631500400  20150225T000000  180000.0         2       1.00   \n",
              "3      2487200875  20141209T000000  604000.0         4       3.00   \n",
              "4      1954400510  20150218T000000  510000.0         3       2.00   \n",
              "...           ...              ...       ...       ...        ...   \n",
              "21608   263000018  20140521T000000  360000.0         3       2.50   \n",
              "21609  6600060120  20150223T000000  400000.0         4       2.50   \n",
              "21610  1523300141  20140623T000000  402101.0         2       0.75   \n",
              "21611   291310100  20150116T000000  400000.0         3       2.50   \n",
              "21612  1523300157  20141015T000000  325000.0         2       0.75   \n",
              "\n",
              "       sqft_living  sqft_lot  floors  waterfront  view  ...  grade  \\\n",
              "0             1180      5650     1.0           0     0  ...      7   \n",
              "1             2570      7242     2.0           0     0  ...      7   \n",
              "2              770     10000     1.0           0     0  ...      6   \n",
              "3             1960      5000     1.0           0     0  ...      7   \n",
              "4             1680      8080     1.0           0     0  ...      8   \n",
              "...            ...       ...     ...         ...   ...  ...    ...   \n",
              "21608         1530      1131     3.0           0     0  ...      8   \n",
              "21609         2310      5813     2.0           0     0  ...      8   \n",
              "21610         1020      1350     2.0           0     0  ...      7   \n",
              "21611         1600      2388     2.0           0     0  ...      8   \n",
              "21612         1020      1076     2.0           0     0  ...      7   \n",
              "\n",
              "       sqft_above  sqft_basement  yr_built  yr_renovated  zipcode      lat  \\\n",
              "0            1180              0      1955             0    98178  47.5112   \n",
              "1            2170            400      1951          1991    98125  47.7210   \n",
              "2             770              0      1933             0    98028  47.7379   \n",
              "3            1050            910      1965             0    98136  47.5208   \n",
              "4            1680              0      1987             0    98074  47.6168   \n",
              "...           ...            ...       ...           ...      ...      ...   \n",
              "21608        1530              0      2009             0    98103  47.6993   \n",
              "21609        2310              0      2014             0    98146  47.5107   \n",
              "21610        1020              0      2009             0    98144  47.5944   \n",
              "21611        1600              0      2004             0    98027  47.5345   \n",
              "21612        1020              0      2008             0    98144  47.5941   \n",
              "\n",
              "          long  sqft_living15  sqft_lot15  \n",
              "0     -122.257           1340        5650  \n",
              "1     -122.319           1690        7639  \n",
              "2     -122.233           2720        8062  \n",
              "3     -122.393           1360        5000  \n",
              "4     -122.045           1800        7503  \n",
              "...        ...            ...         ...  \n",
              "21608 -122.346           1530        1509  \n",
              "21609 -122.362           1830        7200  \n",
              "21610 -122.299           1020        2007  \n",
              "21611 -122.069           1410        1287  \n",
              "21612 -122.299           1020        1357  \n",
              "\n",
              "[21613 rows x 21 columns]"
            ],
            "text/html": [
              "\n",
              "  <div id=\"df-89ab6b5f-8dc2-45e9-8208-66ba3f9b31c2\">\n",
              "    <div class=\"colab-df-container\">\n",
              "      <div>\n",
              "<style scoped>\n",
              "    .dataframe tbody tr th:only-of-type {\n",
              "        vertical-align: middle;\n",
              "    }\n",
              "\n",
              "    .dataframe tbody tr th {\n",
              "        vertical-align: top;\n",
              "    }\n",
              "\n",
              "    .dataframe thead th {\n",
              "        text-align: right;\n",
              "    }\n",
              "</style>\n",
              "<table border=\"1\" class=\"dataframe\">\n",
              "  <thead>\n",
              "    <tr style=\"text-align: right;\">\n",
              "      <th></th>\n",
              "      <th>id</th>\n",
              "      <th>date</th>\n",
              "      <th>price</th>\n",
              "      <th>bedrooms</th>\n",
              "      <th>bathrooms</th>\n",
              "      <th>sqft_living</th>\n",
              "      <th>sqft_lot</th>\n",
              "      <th>floors</th>\n",
              "      <th>waterfront</th>\n",
              "      <th>view</th>\n",
              "      <th>...</th>\n",
              "      <th>grade</th>\n",
              "      <th>sqft_above</th>\n",
              "      <th>sqft_basement</th>\n",
              "      <th>yr_built</th>\n",
              "      <th>yr_renovated</th>\n",
              "      <th>zipcode</th>\n",
              "      <th>lat</th>\n",
              "      <th>long</th>\n",
              "      <th>sqft_living15</th>\n",
              "      <th>sqft_lot15</th>\n",
              "    </tr>\n",
              "  </thead>\n",
              "  <tbody>\n",
              "    <tr>\n",
              "      <th>0</th>\n",
              "      <td>7129300520</td>\n",
              "      <td>20141013T000000</td>\n",
              "      <td>221900.0</td>\n",
              "      <td>3</td>\n",
              "      <td>1.00</td>\n",
              "      <td>1180</td>\n",
              "      <td>5650</td>\n",
              "      <td>1.0</td>\n",
              "      <td>0</td>\n",
              "      <td>0</td>\n",
              "      <td>...</td>\n",
              "      <td>7</td>\n",
              "      <td>1180</td>\n",
              "      <td>0</td>\n",
              "      <td>1955</td>\n",
              "      <td>0</td>\n",
              "      <td>98178</td>\n",
              "      <td>47.5112</td>\n",
              "      <td>-122.257</td>\n",
              "      <td>1340</td>\n",
              "      <td>5650</td>\n",
              "    </tr>\n",
              "    <tr>\n",
              "      <th>1</th>\n",
              "      <td>6414100192</td>\n",
              "      <td>20141209T000000</td>\n",
              "      <td>538000.0</td>\n",
              "      <td>3</td>\n",
              "      <td>2.25</td>\n",
              "      <td>2570</td>\n",
              "      <td>7242</td>\n",
              "      <td>2.0</td>\n",
              "      <td>0</td>\n",
              "      <td>0</td>\n",
              "      <td>...</td>\n",
              "      <td>7</td>\n",
              "      <td>2170</td>\n",
              "      <td>400</td>\n",
              "      <td>1951</td>\n",
              "      <td>1991</td>\n",
              "      <td>98125</td>\n",
              "      <td>47.7210</td>\n",
              "      <td>-122.319</td>\n",
              "      <td>1690</td>\n",
              "      <td>7639</td>\n",
              "    </tr>\n",
              "    <tr>\n",
              "      <th>2</th>\n",
              "      <td>5631500400</td>\n",
              "      <td>20150225T000000</td>\n",
              "      <td>180000.0</td>\n",
              "      <td>2</td>\n",
              "      <td>1.00</td>\n",
              "      <td>770</td>\n",
              "      <td>10000</td>\n",
              "      <td>1.0</td>\n",
              "      <td>0</td>\n",
              "      <td>0</td>\n",
              "      <td>...</td>\n",
              "      <td>6</td>\n",
              "      <td>770</td>\n",
              "      <td>0</td>\n",
              "      <td>1933</td>\n",
              "      <td>0</td>\n",
              "      <td>98028</td>\n",
              "      <td>47.7379</td>\n",
              "      <td>-122.233</td>\n",
              "      <td>2720</td>\n",
              "      <td>8062</td>\n",
              "    </tr>\n",
              "    <tr>\n",
              "      <th>3</th>\n",
              "      <td>2487200875</td>\n",
              "      <td>20141209T000000</td>\n",
              "      <td>604000.0</td>\n",
              "      <td>4</td>\n",
              "      <td>3.00</td>\n",
              "      <td>1960</td>\n",
              "      <td>5000</td>\n",
              "      <td>1.0</td>\n",
              "      <td>0</td>\n",
              "      <td>0</td>\n",
              "      <td>...</td>\n",
              "      <td>7</td>\n",
              "      <td>1050</td>\n",
              "      <td>910</td>\n",
              "      <td>1965</td>\n",
              "      <td>0</td>\n",
              "      <td>98136</td>\n",
              "      <td>47.5208</td>\n",
              "      <td>-122.393</td>\n",
              "      <td>1360</td>\n",
              "      <td>5000</td>\n",
              "    </tr>\n",
              "    <tr>\n",
              "      <th>4</th>\n",
              "      <td>1954400510</td>\n",
              "      <td>20150218T000000</td>\n",
              "      <td>510000.0</td>\n",
              "      <td>3</td>\n",
              "      <td>2.00</td>\n",
              "      <td>1680</td>\n",
              "      <td>8080</td>\n",
              "      <td>1.0</td>\n",
              "      <td>0</td>\n",
              "      <td>0</td>\n",
              "      <td>...</td>\n",
              "      <td>8</td>\n",
              "      <td>1680</td>\n",
              "      <td>0</td>\n",
              "      <td>1987</td>\n",
              "      <td>0</td>\n",
              "      <td>98074</td>\n",
              "      <td>47.6168</td>\n",
              "      <td>-122.045</td>\n",
              "      <td>1800</td>\n",
              "      <td>7503</td>\n",
              "    </tr>\n",
              "    <tr>\n",
              "      <th>...</th>\n",
              "      <td>...</td>\n",
              "      <td>...</td>\n",
              "      <td>...</td>\n",
              "      <td>...</td>\n",
              "      <td>...</td>\n",
              "      <td>...</td>\n",
              "      <td>...</td>\n",
              "      <td>...</td>\n",
              "      <td>...</td>\n",
              "      <td>...</td>\n",
              "      <td>...</td>\n",
              "      <td>...</td>\n",
              "      <td>...</td>\n",
              "      <td>...</td>\n",
              "      <td>...</td>\n",
              "      <td>...</td>\n",
              "      <td>...</td>\n",
              "      <td>...</td>\n",
              "      <td>...</td>\n",
              "      <td>...</td>\n",
              "      <td>...</td>\n",
              "    </tr>\n",
              "    <tr>\n",
              "      <th>21608</th>\n",
              "      <td>263000018</td>\n",
              "      <td>20140521T000000</td>\n",
              "      <td>360000.0</td>\n",
              "      <td>3</td>\n",
              "      <td>2.50</td>\n",
              "      <td>1530</td>\n",
              "      <td>1131</td>\n",
              "      <td>3.0</td>\n",
              "      <td>0</td>\n",
              "      <td>0</td>\n",
              "      <td>...</td>\n",
              "      <td>8</td>\n",
              "      <td>1530</td>\n",
              "      <td>0</td>\n",
              "      <td>2009</td>\n",
              "      <td>0</td>\n",
              "      <td>98103</td>\n",
              "      <td>47.6993</td>\n",
              "      <td>-122.346</td>\n",
              "      <td>1530</td>\n",
              "      <td>1509</td>\n",
              "    </tr>\n",
              "    <tr>\n",
              "      <th>21609</th>\n",
              "      <td>6600060120</td>\n",
              "      <td>20150223T000000</td>\n",
              "      <td>400000.0</td>\n",
              "      <td>4</td>\n",
              "      <td>2.50</td>\n",
              "      <td>2310</td>\n",
              "      <td>5813</td>\n",
              "      <td>2.0</td>\n",
              "      <td>0</td>\n",
              "      <td>0</td>\n",
              "      <td>...</td>\n",
              "      <td>8</td>\n",
              "      <td>2310</td>\n",
              "      <td>0</td>\n",
              "      <td>2014</td>\n",
              "      <td>0</td>\n",
              "      <td>98146</td>\n",
              "      <td>47.5107</td>\n",
              "      <td>-122.362</td>\n",
              "      <td>1830</td>\n",
              "      <td>7200</td>\n",
              "    </tr>\n",
              "    <tr>\n",
              "      <th>21610</th>\n",
              "      <td>1523300141</td>\n",
              "      <td>20140623T000000</td>\n",
              "      <td>402101.0</td>\n",
              "      <td>2</td>\n",
              "      <td>0.75</td>\n",
              "      <td>1020</td>\n",
              "      <td>1350</td>\n",
              "      <td>2.0</td>\n",
              "      <td>0</td>\n",
              "      <td>0</td>\n",
              "      <td>...</td>\n",
              "      <td>7</td>\n",
              "      <td>1020</td>\n",
              "      <td>0</td>\n",
              "      <td>2009</td>\n",
              "      <td>0</td>\n",
              "      <td>98144</td>\n",
              "      <td>47.5944</td>\n",
              "      <td>-122.299</td>\n",
              "      <td>1020</td>\n",
              "      <td>2007</td>\n",
              "    </tr>\n",
              "    <tr>\n",
              "      <th>21611</th>\n",
              "      <td>291310100</td>\n",
              "      <td>20150116T000000</td>\n",
              "      <td>400000.0</td>\n",
              "      <td>3</td>\n",
              "      <td>2.50</td>\n",
              "      <td>1600</td>\n",
              "      <td>2388</td>\n",
              "      <td>2.0</td>\n",
              "      <td>0</td>\n",
              "      <td>0</td>\n",
              "      <td>...</td>\n",
              "      <td>8</td>\n",
              "      <td>1600</td>\n",
              "      <td>0</td>\n",
              "      <td>2004</td>\n",
              "      <td>0</td>\n",
              "      <td>98027</td>\n",
              "      <td>47.5345</td>\n",
              "      <td>-122.069</td>\n",
              "      <td>1410</td>\n",
              "      <td>1287</td>\n",
              "    </tr>\n",
              "    <tr>\n",
              "      <th>21612</th>\n",
              "      <td>1523300157</td>\n",
              "      <td>20141015T000000</td>\n",
              "      <td>325000.0</td>\n",
              "      <td>2</td>\n",
              "      <td>0.75</td>\n",
              "      <td>1020</td>\n",
              "      <td>1076</td>\n",
              "      <td>2.0</td>\n",
              "      <td>0</td>\n",
              "      <td>0</td>\n",
              "      <td>...</td>\n",
              "      <td>7</td>\n",
              "      <td>1020</td>\n",
              "      <td>0</td>\n",
              "      <td>2008</td>\n",
              "      <td>0</td>\n",
              "      <td>98144</td>\n",
              "      <td>47.5941</td>\n",
              "      <td>-122.299</td>\n",
              "      <td>1020</td>\n",
              "      <td>1357</td>\n",
              "    </tr>\n",
              "  </tbody>\n",
              "</table>\n",
              "<p>21613 rows × 21 columns</p>\n",
              "</div>\n",
              "      <button class=\"colab-df-convert\" onclick=\"convertToInteractive('df-89ab6b5f-8dc2-45e9-8208-66ba3f9b31c2')\"\n",
              "              title=\"Convert this dataframe to an interactive table.\"\n",
              "              style=\"display:none;\">\n",
              "        \n",
              "  <svg xmlns=\"http://www.w3.org/2000/svg\" height=\"24px\"viewBox=\"0 0 24 24\"\n",
              "       width=\"24px\">\n",
              "    <path d=\"M0 0h24v24H0V0z\" fill=\"none\"/>\n",
              "    <path d=\"M18.56 5.44l.94 2.06.94-2.06 2.06-.94-2.06-.94-.94-2.06-.94 2.06-2.06.94zm-11 1L8.5 8.5l.94-2.06 2.06-.94-2.06-.94L8.5 2.5l-.94 2.06-2.06.94zm10 10l.94 2.06.94-2.06 2.06-.94-2.06-.94-.94-2.06-.94 2.06-2.06.94z\"/><path d=\"M17.41 7.96l-1.37-1.37c-.4-.4-.92-.59-1.43-.59-.52 0-1.04.2-1.43.59L10.3 9.45l-7.72 7.72c-.78.78-.78 2.05 0 2.83L4 21.41c.39.39.9.59 1.41.59.51 0 1.02-.2 1.41-.59l7.78-7.78 2.81-2.81c.8-.78.8-2.07 0-2.86zM5.41 20L4 18.59l7.72-7.72 1.47 1.35L5.41 20z\"/>\n",
              "  </svg>\n",
              "      </button>\n",
              "      \n",
              "  <style>\n",
              "    .colab-df-container {\n",
              "      display:flex;\n",
              "      flex-wrap:wrap;\n",
              "      gap: 12px;\n",
              "    }\n",
              "\n",
              "    .colab-df-convert {\n",
              "      background-color: #E8F0FE;\n",
              "      border: none;\n",
              "      border-radius: 50%;\n",
              "      cursor: pointer;\n",
              "      display: none;\n",
              "      fill: #1967D2;\n",
              "      height: 32px;\n",
              "      padding: 0 0 0 0;\n",
              "      width: 32px;\n",
              "    }\n",
              "\n",
              "    .colab-df-convert:hover {\n",
              "      background-color: #E2EBFA;\n",
              "      box-shadow: 0px 1px 2px rgba(60, 64, 67, 0.3), 0px 1px 3px 1px rgba(60, 64, 67, 0.15);\n",
              "      fill: #174EA6;\n",
              "    }\n",
              "\n",
              "    [theme=dark] .colab-df-convert {\n",
              "      background-color: #3B4455;\n",
              "      fill: #D2E3FC;\n",
              "    }\n",
              "\n",
              "    [theme=dark] .colab-df-convert:hover {\n",
              "      background-color: #434B5C;\n",
              "      box-shadow: 0px 1px 3px 1px rgba(0, 0, 0, 0.15);\n",
              "      filter: drop-shadow(0px 1px 2px rgba(0, 0, 0, 0.3));\n",
              "      fill: #FFFFFF;\n",
              "    }\n",
              "  </style>\n",
              "\n",
              "      <script>\n",
              "        const buttonEl =\n",
              "          document.querySelector('#df-89ab6b5f-8dc2-45e9-8208-66ba3f9b31c2 button.colab-df-convert');\n",
              "        buttonEl.style.display =\n",
              "          google.colab.kernel.accessAllowed ? 'block' : 'none';\n",
              "\n",
              "        async function convertToInteractive(key) {\n",
              "          const element = document.querySelector('#df-89ab6b5f-8dc2-45e9-8208-66ba3f9b31c2');\n",
              "          const dataTable =\n",
              "            await google.colab.kernel.invokeFunction('convertToInteractive',\n",
              "                                                     [key], {});\n",
              "          if (!dataTable) return;\n",
              "\n",
              "          const docLinkHtml = 'Like what you see? Visit the ' +\n",
              "            '<a target=\"_blank\" href=https://colab.research.google.com/notebooks/data_table.ipynb>data table notebook</a>'\n",
              "            + ' to learn more about interactive tables.';\n",
              "          element.innerHTML = '';\n",
              "          dataTable['output_type'] = 'display_data';\n",
              "          await google.colab.output.renderOutput(dataTable, element);\n",
              "          const docLink = document.createElement('div');\n",
              "          docLink.innerHTML = docLinkHtml;\n",
              "          element.appendChild(docLink);\n",
              "        }\n",
              "      </script>\n",
              "    </div>\n",
              "  </div>\n",
              "  "
            ]
          },
          "metadata": {},
          "execution_count": 69
        }
      ]
    },
    {
      "cell_type": "markdown",
      "metadata": {
        "id": "nrQE7Lb8o3de"
      },
      "source": [
        "# Exercicio 2. (2.5 pontos)\n",
        "\n",
        "A capacidade de comunicação é um dos principais pontos na análise de dados, pois sua análise deve ser tão boa quanto a sua capacidade de comunicá-la. Para isso usamos tabelas resumo e gráficos para apresentar os principais achados do trabalho realizado. Podemos adicionar outros materias que possam aprofundar essa apresentação como artigos e outros estudos realizados.\n",
        "\n",
        "Assim, qual visualização você acha interessante destacar?"
      ]
    },
    {
      "cell_type": "markdown",
      "metadata": {
        "id": "Vj5i1UKUo3dh"
      },
      "source": [
        "**RESPOSTA** (VALE 0.75 pontos): A visualização gráfica é de extrema importância para a comunicação entre as partes envolvidas na análise de dados. É uma ótima opção para exemplificar tudo o que está sendo apresentado. Para este projeto, decidi implementar gráficos Scatterplot para poder visualizar os pontos individualizados, podendo assim ficar mais visível as correlações propostas."
      ]
    },
    {
      "cell_type": "code",
      "execution_count": 70,
      "metadata": {
        "id": "OiujcwR8o3dj"
      },
      "outputs": [],
      "source": [
        "# Importação das bibliotecas de visualização dos dados\n",
        "import seaborn as sns\n",
        "import matplotlib.pyplot as plt"
      ]
    },
    {
      "cell_type": "code",
      "source": [
        "# Gráfico de comportamento entre preço e tamanho da casa\n",
        "sns.scatterplot(data=df , x = 'sqft_living' , y = 'price')"
      ],
      "metadata": {
        "colab": {
          "base_uri": "https://localhost:8080/",
          "height": 309
        },
        "id": "zwA1RN1LjPDk",
        "outputId": "4cd8d6b3-f1b3-4961-c6be-a6c5f7125f98"
      },
      "execution_count": 71,
      "outputs": [
        {
          "output_type": "execute_result",
          "data": {
            "text/plain": [
              "<matplotlib.axes._subplots.AxesSubplot at 0x7f23426cf790>"
            ]
          },
          "metadata": {},
          "execution_count": 71
        },
        {
          "output_type": "display_data",
          "data": {
            "text/plain": [
              "<Figure size 432x288 with 1 Axes>"
            ],
            "image/png": "[encoded data removed]"
          },
          "metadata": {
            "needs_background": "light"
          }
        }
      ]
    },
    {
      "cell_type": "code",
      "source": [
        "# Gráfico de comportamento entre preço e tamanho da casa em 2015, podendo ter mudanças devido a reformas.\n",
        "sns.scatterplot(data=df , x = 'sqft_living15' , y = 'price')"
      ],
      "metadata": {
        "colab": {
          "base_uri": "https://localhost:8080/",
          "height": 309
        },
        "id": "nCHz2LkmjaKM",
        "outputId": "464152a7-08bf-4bd5-c928-8564877ace8c"
      },
      "execution_count": 72,
      "outputs": [
        {
          "output_type": "execute_result",
          "data": {
            "text/plain": [
              "<matplotlib.axes._subplots.AxesSubplot at 0x7f2342607e50>"
            ]
          },
          "metadata": {},
          "execution_count": 72
        },
        {
          "output_type": "display_data",
          "data": {
            "text/plain": [
              "<Figure size 432x288 with 1 Axes>"
            ],
            "image/png": "[encoded data removed]"
          },
          "metadata": {
            "needs_background": "light"
          }
        }
      ]
    },
    {
      "cell_type": "code",
      "source": [
        "# Gráfico de comportamento entre as áreas originais das casas e as áreas em 2015\n",
        "sns.scatterplot(data=df , x = 'sqft_living15' , y = 'sqft_living')"
      ],
      "metadata": {
        "colab": {
          "base_uri": "https://localhost:8080/",
          "height": 299
        },
        "id": "S1r6-tM7masr",
        "outputId": "6738b960-9a2e-45c1-8106-fe60b50d672d"
      },
      "execution_count": 73,
      "outputs": [
        {
          "output_type": "execute_result",
          "data": {
            "text/plain": [
              "<matplotlib.axes._subplots.AxesSubplot at 0x7f2342577090>"
            ]
          },
          "metadata": {},
          "execution_count": 73
        },
        {
          "output_type": "display_data",
          "data": {
            "text/plain": [
              "<Figure size 432x288 with 1 Axes>"
            ],
            "image/png": "[encoded data removed]"
          },
          "metadata": {
            "needs_background": "light"
          }
        }
      ]
    },
    {
      "cell_type": "code",
      "source": [
        "# Gráfico do comportamento do preço mediante a condição da casa ter (1) ou não ter (0) vista para o mar.\n",
        "sns.scatterplot(data=df , x = 'waterfront' , y = 'price')"
      ],
      "metadata": {
        "colab": {
          "base_uri": "https://localhost:8080/",
          "height": 308
        },
        "id": "prYcLHfXBshT",
        "outputId": "7e96ecad-587a-439d-c591-d49b352896da"
      },
      "execution_count": 74,
      "outputs": [
        {
          "output_type": "execute_result",
          "data": {
            "text/plain": [
              "<matplotlib.axes._subplots.AxesSubplot at 0x7f2342660210>"
            ]
          },
          "metadata": {},
          "execution_count": 74
        },
        {
          "output_type": "display_data",
          "data": {
            "text/plain": [
              "<Figure size 432x288 with 1 Axes>"
            ],
            "image/png": "[encoded data removed]"
          },
          "metadata": {
            "needs_background": "light"
          }
        }
      ]
    },
    {
      "cell_type": "code",
      "source": [
        "# Gráfico do comportamento entre o preço e a nota de avaliação do imóvel\n",
        "sns.scatterplot(data=df , x = 'grade' , y = 'price')"
      ],
      "metadata": {
        "colab": {
          "base_uri": "https://localhost:8080/",
          "height": 308
        },
        "id": "dw9wv7FMhqI-",
        "outputId": "26476bdd-81b9-442b-f8b9-29c96f012df8"
      },
      "execution_count": 75,
      "outputs": [
        {
          "output_type": "execute_result",
          "data": {
            "text/plain": [
              "<matplotlib.axes._subplots.AxesSubplot at 0x7f23424de7d0>"
            ]
          },
          "metadata": {},
          "execution_count": 75
        },
        {
          "output_type": "display_data",
          "data": {
            "text/plain": [
              "<Figure size 432x288 with 1 Axes>"
            ],
            "image/png": "[encoded data removed]"
          },
          "metadata": {
            "needs_background": "light"
          }
        }
      ]
    },
    {
      "cell_type": "markdown",
      "metadata": {
        "id": "ggpa6_E0o3dn"
      },
      "source": [
        "# Exercicio 3. (3 pontos)\n",
        "\n",
        "Faremos uma analise exploratoria sobre estes dados, preencha abaixo analises sobre o conjunto de dados. Para isso a biblioteca numpy para obter a contagem, média, mediana e os quartis."
      ]
    },
    {
      "cell_type": "code",
      "execution_count": 76,
      "metadata": {
        "id": "dV5st5tmo3do",
        "colab": {
          "base_uri": "https://localhost:8080/"
        },
        "outputId": "1ccb06c0-3cbe-4139-829b-1280d486f41b"
      },
      "outputs": [
        {
          "output_type": "execute_result",
          "data": {
            "text/plain": [
              "379086"
            ]
          },
          "metadata": {},
          "execution_count": 76
        }
      ],
      "source": [
        "#### (VALE 0.75 pontos)\n",
        "# Função para contar o total de observação do dataframe\n",
        "num = np.count_nonzero(df)\n",
        "num"
      ]
    },
    {
      "cell_type": "code",
      "source": [
        "# Contando quantas colunas tem o dataframe, de forma a sabermos o número total de variáveis\n",
        "var = len(df.columns)\n",
        "var"
      ],
      "metadata": {
        "colab": {
          "base_uri": "https://localhost:8080/"
        },
        "id": "_5Tu_cBGqKCJ",
        "outputId": "64780adc-4b4d-4826-e0d8-32d8b0e36110"
      },
      "execution_count": 77,
      "outputs": [
        {
          "output_type": "execute_result",
          "data": {
            "text/plain": [
              "21"
            ]
          },
          "metadata": {},
          "execution_count": 77
        }
      ]
    },
    {
      "cell_type": "code",
      "source": [
        "# Cálculo da média das áreas originais das casas\n",
        "tamanho_medio = np.mean(df['sqft_living'])\n",
        "tamanho_medio"
      ],
      "metadata": {
        "colab": {
          "base_uri": "https://localhost:8080/"
        },
        "id": "DCnJ6JTFrt7v",
        "outputId": "4b0f5acb-9386-4b60-b301-0bcd7e17eb11"
      },
      "execution_count": 78,
      "outputs": [
        {
          "output_type": "execute_result",
          "data": {
            "text/plain": [
              "2079.8997362698374"
            ]
          },
          "metadata": {},
          "execution_count": 78
        }
      ]
    },
    {
      "cell_type": "code",
      "source": [
        "# Cálculo da média das áreas das casas em 2015\n",
        "tamanho_medio15 = np.mean(df['sqft_living15'])\n",
        "tamanho_medio15"
      ],
      "metadata": {
        "colab": {
          "base_uri": "https://localhost:8080/"
        },
        "id": "0I2MSk0QYpr_",
        "outputId": "c1896d2d-8de5-45b0-9794-6be2e5eebb48"
      },
      "execution_count": 79,
      "outputs": [
        {
          "output_type": "execute_result",
          "data": {
            "text/plain": [
              "1986.552491556008"
            ]
          },
          "metadata": {},
          "execution_count": 79
        }
      ]
    },
    {
      "cell_type": "code",
      "source": [
        "# Cálculo da mediana do conjunto das áreas originais das casas\n",
        "mediana_tamanho = np.median(df['sqft_living'])\n",
        "mediana_tamanho"
      ],
      "metadata": {
        "colab": {
          "base_uri": "https://localhost:8080/"
        },
        "id": "gVRnOJsztmG0",
        "outputId": "7e49d79d-9a67-4f81-c859-e453a521e000"
      },
      "execution_count": 80,
      "outputs": [
        {
          "output_type": "execute_result",
          "data": {
            "text/plain": [
              "1910.0"
            ]
          },
          "metadata": {},
          "execution_count": 80
        }
      ]
    },
    {
      "cell_type": "code",
      "source": [
        "# Cálculo da mediana do conjunto das áreas das casas em 2015\n",
        "mediana_tamanho15 = np.median(df['sqft_living15'])\n",
        "mediana_tamanho15"
      ],
      "metadata": {
        "colab": {
          "base_uri": "https://localhost:8080/"
        },
        "id": "Z8ktbrVwYu1m",
        "outputId": "74572d0c-8b6b-4c3c-e515-5b9238b5aef2"
      },
      "execution_count": 81,
      "outputs": [
        {
          "output_type": "execute_result",
          "data": {
            "text/plain": [
              "1840.0"
            ]
          },
          "metadata": {},
          "execution_count": 81
        }
      ]
    },
    {
      "cell_type": "code",
      "source": [
        "# Cálculo do 1º quartil do conjunto das áreas originais das casas\n",
        "quartil_1 = np.quantile(df['sqft_living'], 0.25)\n",
        "quartil_1\t"
      ],
      "metadata": {
        "colab": {
          "base_uri": "https://localhost:8080/"
        },
        "id": "0xrQofXfuV_H",
        "outputId": "ac122cb7-ba86-4090-fefc-c65567b7bef2"
      },
      "execution_count": 82,
      "outputs": [
        {
          "output_type": "execute_result",
          "data": {
            "text/plain": [
              "1427.0"
            ]
          },
          "metadata": {},
          "execution_count": 82
        }
      ]
    },
    {
      "cell_type": "code",
      "source": [
        "# Cálculo do 1º quartil do conjunto das áreas das casas em 2015\n",
        "quartil_1_15 = np.quantile(df['sqft_living15'], 0.25)\n",
        "quartil_1_15"
      ],
      "metadata": {
        "colab": {
          "base_uri": "https://localhost:8080/"
        },
        "id": "AZTZf-MoYzn_",
        "outputId": "a72a73d5-3d75-4c53-f6c4-dcc2d690468f"
      },
      "execution_count": 83,
      "outputs": [
        {
          "output_type": "execute_result",
          "data": {
            "text/plain": [
              "1490.0"
            ]
          },
          "metadata": {},
          "execution_count": 83
        }
      ]
    },
    {
      "cell_type": "code",
      "source": [
        "# Cálculo do 3º quartil do conjunto das áreas originais das casas\n",
        "quartil_3 = np.quantile(df['sqft_living'], 0.75)\n",
        "quartil_3\t"
      ],
      "metadata": {
        "colab": {
          "base_uri": "https://localhost:8080/"
        },
        "id": "1g6Pza3kun39",
        "outputId": "94f526cc-d4a7-4ac6-cb59-49141d5751ee"
      },
      "execution_count": 84,
      "outputs": [
        {
          "output_type": "execute_result",
          "data": {
            "text/plain": [
              "2550.0"
            ]
          },
          "metadata": {},
          "execution_count": 84
        }
      ]
    },
    {
      "cell_type": "code",
      "source": [
        "# Cálculo do 3º quartil do conjunto das áreas das casas em 2015\n",
        "quartil_3_15 = np.quantile(df['sqft_living15'], 0.75)\n",
        "quartil_3_15\t"
      ],
      "metadata": {
        "colab": {
          "base_uri": "https://localhost:8080/"
        },
        "id": "0Z85F8ynY4Mh",
        "outputId": "e6bfd2af-775a-4e1e-fec3-6d4a5c2cf816"
      },
      "execution_count": 85,
      "outputs": [
        {
          "output_type": "execute_result",
          "data": {
            "text/plain": [
              "2360.0"
            ]
          },
          "metadata": {},
          "execution_count": 85
        }
      ]
    },
    {
      "cell_type": "code",
      "execution_count": 86,
      "metadata": {
        "id": "mjr9SpMzo3dp",
        "outputId": "f36f2267-2864-46d5-d3b8-a45d9d97b849",
        "colab": {
          "base_uri": "https://localhost:8080/"
        }
      },
      "outputs": [
        {
          "output_type": "stream",
          "name": "stdout",
          "text": [
            "Existem 379086 observações no conjunto de dados\n",
            "Existem 21 variaveis no conjunto de dados\n",
            "\n",
            "O tamanho médio das casas quando construídas é de 2079.90 metros quadrados\n",
            "O tamanho médio das casas após algumas serem reformadas é de 1986.55 metros quadrados\n",
            "\n",
            "A mediana do tamanho das casas quando construídas é de 1910.0 metros quadrados\n",
            "A mediana do tamanho das casas após algumas serem reformadas é de 1910.0 metros quadrados\n",
            "\n",
            "Primeiro quartil 1427.0 do tamanho das casas quando construídas\n",
            "Terceiro quartil 2550.0 do tamanho das casas quando construídas\n",
            "\n",
            "Primeiro quartil 1490.0 do tamanho das casas após algumas serem reformadas\n",
            "Terceiro quartil 2360.0 do tamanho das casas após algumas serem reformadas\n",
            "\n"
          ]
        }
      ],
      "source": [
        "# VALE 0.75 pontos\n",
        "# Substitua __ pelos valores solicitados\n",
        "print('Existem {} observações no conjunto de dados'.format(num))\n",
        "print('Existem {} variaveis no conjunto de dados\\n'.format(var))\n",
        "print('O tamanho médio das casas quando construídas é de {:.2f} metros quadrados'.format(tamanho_medio))\n",
        "print('O tamanho médio das casas após algumas serem reformadas é de {:.2f} metros quadrados\\n'.format(tamanho_medio15))\n",
        "print('A mediana do tamanho das casas quando construídas é de {} metros quadrados'.format(mediana_tamanho))\n",
        "print('A mediana do tamanho das casas após algumas serem reformadas é de {} metros quadrados\\n'.format(mediana_tamanho))\n",
        "\n",
        "# Quartis\n",
        "print('Primeiro quartil {} do tamanho das casas quando construídas'.format(quartil_1))\n",
        "print('Terceiro quartil {} do tamanho das casas quando construídas\\n'.format(quartil_3))\n",
        "print('Primeiro quartil {} do tamanho das casas após algumas serem reformadas'.format(quartil_1_15))\n",
        "print('Terceiro quartil {} do tamanho das casas após algumas serem reformadas\\n'.format(quartil_3_15))"
      ]
    },
    {
      "cell_type": "markdown",
      "metadata": {
        "id": "INvMfyYpo3ds"
      },
      "source": [
        "Neste conjunto de dados há casas com tamanho muito acima ou abaixo do esperado (outliers)? Faça um gráfico de caixa (boxplot) do tamanho das casas."
      ]
    },
    {
      "cell_type": "code",
      "execution_count": 87,
      "metadata": {
        "id": "TEcz6nrzo3dt",
        "colab": {
          "base_uri": "https://localhost:8080/",
          "height": 298
        },
        "outputId": "4bada27d-0555-4c80-d22f-9abfbeccdf74"
      },
      "outputs": [
        {
          "output_type": "execute_result",
          "data": {
            "text/plain": [
              "<matplotlib.axes._subplots.AxesSubplot at 0x7f234244e110>"
            ]
          },
          "metadata": {},
          "execution_count": 87
        },
        {
          "output_type": "display_data",
          "data": {
            "text/plain": [
              "<Figure size 432x288 with 1 Axes>"
            ],
            "image/png": "[encoded data removed]"
          },
          "metadata": {
            "needs_background": "light"
          }
        }
      ],
      "source": [
        "#### (VALE 0.75 pontos)\n",
        "#### CONSTRUA O SEU GRAFICO ABAIXO, USE MAIS CELULAS SE NECESSARIO\n",
        "\n",
        "# Gráfico boxplot das áreas originais das casas\n",
        "sns.boxplot(data=df , x = 'sqft_living')"
      ]
    },
    {
      "cell_type": "code",
      "source": [
        "# Gráfico boxplot das áreas das casas em 2015\n",
        "sns.boxplot(data=df , x = 'sqft_living15')"
      ],
      "metadata": {
        "colab": {
          "base_uri": "https://localhost:8080/",
          "height": 298
        },
        "id": "jOR2IonZUzIA",
        "outputId": "d0eac528-69cc-4a5b-9a8a-654896326709"
      },
      "execution_count": 88,
      "outputs": [
        {
          "output_type": "execute_result",
          "data": {
            "text/plain": [
              "<matplotlib.axes._subplots.AxesSubplot at 0x7f2342176450>"
            ]
          },
          "metadata": {},
          "execution_count": 88
        },
        {
          "output_type": "display_data",
          "data": {
            "text/plain": [
              "<Figure size 432x288 with 1 Axes>"
            ],
            "image/png": "[encoded data removed]"
          },
          "metadata": {
            "needs_background": "light"
          }
        }
      ]
    },
    {
      "cell_type": "markdown",
      "metadata": {
        "id": "O-Dwy6f_o3dv"
      },
      "source": [
        "Observando a sua visualização, há casas com tamanhos muito abaixo ou acima do esperado (outliers)? "
      ]
    },
    {
      "cell_type": "markdown",
      "metadata": {
        "id": "2GbJBTzfo3dv"
      },
      "source": [
        "**RESPOSTA** (VALE 0.75 pontos): Levando em consideração apenas os gráficos de boxplot das áreas dos imóveis, identifica-se que existem pontos que extrapolam o limite superior, podendo assim serem considerados como *outliers*."
      ]
    },
    {
      "cell_type": "markdown",
      "metadata": {
        "id": "PZuERAK1o3dw"
      },
      "source": [
        "# Exercicio 4. (4 pontos)\n",
        "\n",
        "Construa um modelo de regressão linear para predizer a variável **price** (preço) com **statsmodels.api**."
      ]
    },
    {
      "cell_type": "code",
      "source": [
        "import statsmodels.api as sm\n",
        "from patsy import dmatrices"
      ],
      "metadata": {
        "id": "x5wbeqRCdWNC"
      },
      "execution_count": 89,
      "outputs": []
    },
    {
      "cell_type": "code",
      "source": [
        "df.info()"
      ],
      "metadata": {
        "colab": {
          "base_uri": "https://localhost:8080/"
        },
        "id": "FQO96193fIeZ",
        "outputId": "48406fae-4072-42ff-c536-7506d9489c38"
      },
      "execution_count": 90,
      "outputs": [
        {
          "output_type": "stream",
          "name": "stdout",
          "text": [
            "<class 'pandas.core.frame.DataFrame'>\n",
            "RangeIndex: 21613 entries, 0 to 21612\n",
            "Data columns (total 21 columns):\n",
            " #   Column         Non-Null Count  Dtype  \n",
            "---  ------         --------------  -----  \n",
            " 0   id             21613 non-null  int64  \n",
            " 1   date           21613 non-null  object \n",
            " 2   price          21613 non-null  float64\n",
            " 3   bedrooms       21613 non-null  int64  \n",
            " 4   bathrooms      21613 non-null  float64\n",
            " 5   sqft_living    21613 non-null  int64  \n",
            " 6   sqft_lot       21613 non-null  int64  \n",
            " 7   floors         21613 non-null  float64\n",
            " 8   waterfront     21613 non-null  int64  \n",
            " 9   view           21613 non-null  int64  \n",
            " 10  condition      21613 non-null  int64  \n",
            " 11  grade          21613 non-null  int64  \n",
            " 12  sqft_above     21613 non-null  int64  \n",
            " 13  sqft_basement  21613 non-null  int64  \n",
            " 14  yr_built       21613 non-null  int64  \n",
            " 15  yr_renovated   21613 non-null  int64  \n",
            " 16  zipcode        21613 non-null  int64  \n",
            " 17  lat            21613 non-null  float64\n",
            " 18  long           21613 non-null  float64\n",
            " 19  sqft_living15  21613 non-null  int64  \n",
            " 20  sqft_lot15     21613 non-null  int64  \n",
            "dtypes: float64(5), int64(15), object(1)\n",
            "memory usage: 3.5+ MB\n"
          ]
        }
      ]
    },
    {
      "cell_type": "code",
      "execution_count": 91,
      "metadata": {
        "id": "yRE7UWHio3dx"
      },
      "outputs": [],
      "source": [
        "#### (VALE 0.625 pontos)\n",
        "#### EXECUTE OS COMANDOS ABAIXO, USE MAIS CELULAS SE NECESSARIO\n",
        "\n",
        "# Usamos a função patsy dmatrices para criar matrizes de design:\n",
        "\n",
        "# Apesar de as variáveis 'id' e 'date' serem numéricas, são variáveis de classificação, o que ao meu entendimento não devem ser consideradas\n",
        "# para os cálculos do modelo pois não influenciam na formação do preço de venda dos imóveis.\n",
        "\n",
        "y, X = dmatrices('price ~ bedrooms + bathrooms + sqft_living + sqft_lot + floors + waterfront + view + condition + grade + sqft_above + sqft_basement + yr_built + yr_renovated + zipcode + lat + long + sqft_living15 + sqft_lot15', data=df, return_type='dataframe')"
      ]
    },
    {
      "cell_type": "code",
      "source": [
        "# Criando o modelo\n",
        "mod = sm.OLS(y, X)"
      ],
      "metadata": {
        "id": "_0_fI_fIgGC4"
      },
      "execution_count": 92,
      "outputs": []
    },
    {
      "cell_type": "code",
      "source": [
        "# Usando o modelo para criar uma linha de melhor ajuste - Regressão Linear\n",
        "res = mod.fit()"
      ],
      "metadata": {
        "id": "Nixby9qQgJsB"
      },
      "execution_count": 93,
      "outputs": []
    },
    {
      "cell_type": "markdown",
      "metadata": {
        "id": "gaVLo5EAo3dy"
      },
      "source": [
        "Coloque abaixo a saida do seu modelo usando **seu_modelo.summary()**."
      ]
    },
    {
      "cell_type": "code",
      "execution_count": 94,
      "metadata": {
        "id": "wmEIdI_ao3dy",
        "colab": {
          "base_uri": "https://localhost:8080/"
        },
        "outputId": "4f1c0313-0583-432b-f343-813730e9ca92"
      },
      "outputs": [
        {
          "output_type": "stream",
          "name": "stdout",
          "text": [
            "                            OLS Regression Results                            \n",
            "==============================================================================\n",
            "Dep. Variable:                  price   R-squared:                       0.700\n",
            "Model:                            OLS   Adj. R-squared:                  0.700\n",
            "Method:                 Least Squares   F-statistic:                     2960.\n",
            "Date:                Sat, 23 Apr 2022   Prob (F-statistic):               0.00\n",
            "Time:                        12:58:42   Log-Likelihood:            -2.9460e+05\n",
            "No. Observations:               21613   AIC:                         5.892e+05\n",
            "Df Residuals:                   21595   BIC:                         5.894e+05\n",
            "Df Model:                          17                                         \n",
            "Covariance Type:            nonrobust                                         \n",
            "=================================================================================\n",
            "                    coef    std err          t      P>|t|      [0.025      0.975]\n",
            "---------------------------------------------------------------------------------\n",
            "Intercept       6.69e+06   2.93e+06      2.282      0.022    9.44e+05    1.24e+07\n",
            "bedrooms      -3.577e+04   1891.843    -18.906      0.000   -3.95e+04   -3.21e+04\n",
            "bathrooms      4.114e+04   3253.678     12.645      0.000    3.48e+04    4.75e+04\n",
            "sqft_living     110.4414      2.270     48.661      0.000     105.993     114.890\n",
            "sqft_lot          0.1286      0.048      2.683      0.007       0.035       0.223\n",
            "floors         6689.5501   3595.859      1.860      0.063    -358.599    1.37e+04\n",
            "waterfront      5.83e+05   1.74e+04     33.580      0.000    5.49e+05    6.17e+05\n",
            "view           5.287e+04   2140.055     24.705      0.000    4.87e+04    5.71e+04\n",
            "condition      2.639e+04   2351.461     11.221      0.000    2.18e+04     3.1e+04\n",
            "grade          9.589e+04   2152.789     44.542      0.000    9.17e+04       1e+05\n",
            "sqft_above       70.7867      2.253     31.414      0.000      66.370      75.203\n",
            "sqft_basement    39.6591      2.647     14.985      0.000      34.472      44.847\n",
            "yr_built      -2620.2232     72.659    -36.062      0.000   -2762.640   -2477.806\n",
            "yr_renovated     19.8126      3.656      5.420      0.000      12.647      26.978\n",
            "zipcode        -582.4199     32.986    -17.657      0.000    -647.074    -517.765\n",
            "lat            6.027e+05   1.07e+04     56.149      0.000    5.82e+05    6.24e+05\n",
            "long          -2.147e+05   1.31e+04    -16.349      0.000    -2.4e+05   -1.89e+05\n",
            "sqft_living15    21.6814      3.448      6.289      0.000      14.924      28.439\n",
            "sqft_lot15       -0.3826      0.073     -5.222      0.000      -0.526      -0.239\n",
            "==============================================================================\n",
            "Omnibus:                    18384.201   Durbin-Watson:                   1.990\n",
            "Prob(Omnibus):                  0.000   Jarque-Bera (JB):          1868224.491\n",
            "Skew:                           3.566   Prob(JB):                         0.00\n",
            "Kurtosis:                      47.985   Cond. No.                     4.98e+17\n",
            "==============================================================================\n",
            "\n",
            "Warnings:\n",
            "[1] Standard Errors assume that the covariance matrix of the errors is correctly specified.\n",
            "[2] The smallest eigenvalue is 8.84e-22. This might indicate that there are\n",
            "strong multicollinearity problems or that the design matrix is singular.\n"
          ]
        }
      ],
      "source": [
        "#### (VALE 0.625 pontos)\n",
        "print(res.summary())"
      ]
    },
    {
      "cell_type": "markdown",
      "metadata": {
        "id": "7dO_FRRno3dz"
      },
      "source": [
        "Faça outro modelo usando a biblioteca **sklearn**."
      ]
    },
    {
      "cell_type": "code",
      "source": [
        "# Biblioteca para separação dos nossos dados em treino/teste e modelo de regressão\n",
        "from sklearn.model_selection import train_test_split\n",
        "from sklearn.linear_model import LinearRegression"
      ],
      "metadata": {
        "id": "5KenX6uvgwQ3"
      },
      "execution_count": 95,
      "outputs": []
    },
    {
      "cell_type": "code",
      "execution_count": 96,
      "metadata": {
        "id": "In-TyPLVo3d0"
      },
      "outputs": [],
      "source": [
        "#### (VALE 0.625 pontos)\n",
        "#### EXECUTE OS COMANDOS ABAIXO, USE MAIS CELULAS SE NECESSARIO\n",
        "\n",
        "# Separamos o dado em X e y, onde X contem todas os atributos que explicam y, ou seja, todas os atributos que justificam a coluna Preço (price)\n",
        "X = df.drop(['price', 'id', 'date'], axis=1)\n",
        "y = df.price"
      ]
    },
    {
      "cell_type": "code",
      "source": [
        "# Precisaremos normalizar  X para que os dados sejam comparáveis e estejam em um mesmo padrão.\n",
        "# Muitos modelos de aprendizado de máquina obtem um melhor desempenho quando o dado esta padronizado.\n",
        "\n",
        "from sklearn.preprocessing import StandardScaler\n",
        "X_std = StandardScaler().fit_transform(X)"
      ],
      "metadata": {
        "id": "WFeNaH-khYs9"
      },
      "execution_count": 97,
      "outputs": []
    },
    {
      "cell_type": "code",
      "source": [
        "# Vamos separar o conjunto de dados em treino e teste, definindo o tamanho do conjunto de dados em 20%\n",
        "# e para que tenhamos os mesmos resultados, usaremos a semente 10.\n",
        "\n",
        "X_train, X_test, y_train, y_test = train_test_split(X_std, y, test_size = 0.3, random_state = 10)"
      ],
      "metadata": {
        "id": "vGvE0Qwhhwfm"
      },
      "execution_count": 98,
      "outputs": []
    },
    {
      "cell_type": "code",
      "source": [
        "# Construiremos o modelo de regressão usando o subconjunto de treino.\n",
        "\n",
        "lr = LinearRegression()\n",
        "lr.fit(X_train, y_train)"
      ],
      "metadata": {
        "colab": {
          "base_uri": "https://localhost:8080/"
        },
        "id": "sShVZdLcjC3Y",
        "outputId": "92f9a885-5b94-4123-c790-38c48bd0ac2f"
      },
      "execution_count": 99,
      "outputs": [
        {
          "output_type": "execute_result",
          "data": {
            "text/plain": [
              "LinearRegression()"
            ]
          },
          "metadata": {},
          "execution_count": 99
        }
      ]
    },
    {
      "cell_type": "code",
      "source": [
        "# Usaremos o nosso modelo para predizer a variavel y do conjunto de teste usando o conjunto X de teste.\n",
        "\n",
        "y_pred = lr.predict(X_test)"
      ],
      "metadata": {
        "id": "eoiI0h0HlFIV"
      },
      "execution_count": 100,
      "outputs": []
    },
    {
      "cell_type": "markdown",
      "metadata": {
        "id": "HYSza_6bo3d1"
      },
      "source": [
        "Qual o valor de ${R}^{2}$ e $MAE$ obtido?"
      ]
    },
    {
      "cell_type": "code",
      "source": [
        "# Coeficiente de determinacao\n",
        "from sklearn.metrics import r2_score\n",
        "r2_score(y_test, y_pred)"
      ],
      "metadata": {
        "colab": {
          "base_uri": "https://localhost:8080/"
        },
        "id": "VwA_kgukldp0",
        "outputId": "f9d5851c-3028-4e85-c1df-cb395cd9f3ef"
      },
      "execution_count": 101,
      "outputs": [
        {
          "output_type": "execute_result",
          "data": {
            "text/plain": [
              "0.7097475175973715"
            ]
          },
          "metadata": {},
          "execution_count": 101
        }
      ]
    },
    {
      "cell_type": "code",
      "source": [
        "# Erro medio absoluto\n",
        "from sklearn.metrics import mean_absolute_error\n",
        "mean_absolute_error(y_test, y_pred)"
      ],
      "metadata": {
        "colab": {
          "base_uri": "https://localhost:8080/"
        },
        "id": "cZNEP8KKlguC",
        "outputId": "68f30ed6-3dbc-40f8-935f-5316a4299f24"
      },
      "execution_count": 102,
      "outputs": [
        {
          "output_type": "execute_result",
          "data": {
            "text/plain": [
              "122934.82129205314"
            ]
          },
          "metadata": {},
          "execution_count": 102
        }
      ]
    },
    {
      "cell_type": "markdown",
      "metadata": {
        "id": "7kOqM3I7o3d1"
      },
      "source": [
        "**RESPOSTA** (VALE 0.5 pontos): R1² = 0,710 e MAE1 = 122934,821"
      ]
    },
    {
      "cell_type": "markdown",
      "metadata": {
        "id": "kTk8EiGOo3d2"
      },
      "source": [
        "Faça novamente um novo modelo utilizando a seleção de caracteristicas, selecionando as 5 variaveis mais importantes."
      ]
    },
    {
      "cell_type": "code",
      "execution_count": 103,
      "metadata": {
        "id": "10kMTlnSo3d3"
      },
      "outputs": [],
      "source": [
        "#### (VALE 0.625 pontos)\n",
        "#### EXECUTE OS COMANDOS ABAIXO, USE MAIS CELULAS SE NECESSARIO\n",
        "\n",
        "# Executando o RFE com objetivo de obter as 5 variáveis mais importantes\n",
        "\n",
        "# Importanto a função RFE: Eliminação de Características Recursiva\n",
        "from sklearn.feature_selection import RFE"
      ]
    },
    {
      "cell_type": "code",
      "source": [
        "# Separando o conjunto de dados em X e y:\n",
        "newX = df.drop(['price', 'id', 'date'], axis=1)\n",
        "newy = df.price\n",
        "newX_std = StandardScaler().fit_transform(newX)"
      ],
      "metadata": {
        "id": "4SmK1BDpLFp9"
      },
      "execution_count": 104,
      "outputs": []
    },
    {
      "cell_type": "code",
      "source": [
        "# Estimador criado recebendo o modelo a ser aplicado\n",
        "estimator = LinearRegression()"
      ],
      "metadata": {
        "id": "MuVt85PdLjER"
      },
      "execution_count": 105,
      "outputs": []
    },
    {
      "cell_type": "code",
      "source": [
        "# Função RFE parametrizada com o modelo, o número de variáveis a ser encontradas e o número de recursos a serem removidos a cada interação\n",
        "selector = RFE(estimator, n_features_to_select=5, step=1)\n",
        "selector = selector.fit(newX, newy)"
      ],
      "metadata": {
        "id": "w5ldbOADLrx2"
      },
      "execution_count": 106,
      "outputs": []
    },
    {
      "cell_type": "code",
      "source": [
        "# Recuperando as variáveis mais importantes selecionadas pela função RFE\n",
        "selector.get_feature_names_out()"
      ],
      "metadata": {
        "colab": {
          "base_uri": "https://localhost:8080/"
        },
        "id": "35qmSUTvMi8N",
        "outputId": "e4960302-453c-4954-abbc-694580f0ce46"
      },
      "execution_count": 107,
      "outputs": [
        {
          "output_type": "execute_result",
          "data": {
            "text/plain": [
              "array(['waterfront', 'view', 'grade', 'lat', 'long'], dtype=object)"
            ]
          },
          "metadata": {},
          "execution_count": 107
        }
      ]
    },
    {
      "cell_type": "code",
      "source": [
        "# Sabendo o ranking das variáveis mais importantes\n",
        "selector.ranking_"
      ],
      "metadata": {
        "colab": {
          "base_uri": "https://localhost:8080/"
        },
        "id": "8BlpshyXNCMV",
        "outputId": "73c97172-6971-49b5-87e6-9c426e706b12"
      },
      "execution_count": 108,
      "outputs": [
        {
          "output_type": "execute_result",
          "data": {
            "text/plain": [
              "array([ 4,  2,  8, 14,  6,  1,  1,  3,  1,  9, 10,  5, 12,  7,  1,  1, 11,\n",
              "       13])"
            ]
          },
          "metadata": {},
          "execution_count": 108
        }
      ]
    },
    {
      "cell_type": "markdown",
      "metadata": {
        "id": "v8eQV_Rso3d4"
      },
      "source": [
        "Quais são as 5 variaveis mais importantes deste conjunto de dados?"
      ]
    },
    {
      "cell_type": "markdown",
      "metadata": {
        "id": "N-0HLdrJo3d4"
      },
      "source": [
        "**RESPOSTA** (VALE 0.5 pontos): Segundo a função RFE parametrizada pelo modelo de Regressão Linear, obtemos que as 5 variáveis mais importantes são:\\\n",
        "1 - waterfront\\\n",
        "2 - view\\\n",
        "3 - grade\\\n",
        "4 - lat\\\n",
        "5 - long"
      ]
    },
    {
      "cell_type": "code",
      "source": [
        "# Determinando os novos X e Y\n",
        "newX2 = df.drop(['price', 'sqft_living', 'bathrooms', 'sqft_living15', 'sqft_above', 'id', 'date', 'bedrooms', 'sqft_lot', 'floors', 'condition', 'sqft_basement', 'yr_built', 'yr_renovated', 'zipcode', 'sqft_lot15'], axis=1)\n",
        "newy2 = df.price"
      ],
      "metadata": {
        "id": "FmbkYHSlq4Cd"
      },
      "execution_count": 109,
      "outputs": []
    },
    {
      "cell_type": "code",
      "source": [
        "# Normazilando o novo X\n",
        "newX2_std = StandardScaler().fit_transform(newX2)"
      ],
      "metadata": {
        "id": "_QMw_qxQsEtv"
      },
      "execution_count": 110,
      "outputs": []
    },
    {
      "cell_type": "code",
      "source": [
        "# Vamos separar o conjunto de dados em treino e teste, definindo o tamanho do conjunto de dados em 20%\n",
        "# e para que tenhamos os mesmos resultados, usaremos a semente 10.\n",
        "\n",
        "newX2_train, newX2_test, newy2_train, newy2_test = train_test_split(newX2_std, newy, test_size = 0.2, random_state = 10)"
      ],
      "metadata": {
        "id": "-gVV3-pisQ-7"
      },
      "execution_count": 111,
      "outputs": []
    },
    {
      "cell_type": "code",
      "source": [
        "# Construiremos o modelo de regressão usando o subconjunto de treino.\n",
        "\n",
        "newlr = LinearRegression()\n",
        "newlr.fit(newX2_train, newy2_train)"
      ],
      "metadata": {
        "colab": {
          "base_uri": "https://localhost:8080/"
        },
        "id": "0546VBETsalO",
        "outputId": "ac112238-e077-4995-c49e-5dc98d44425a"
      },
      "execution_count": 112,
      "outputs": [
        {
          "output_type": "execute_result",
          "data": {
            "text/plain": [
              "LinearRegression()"
            ]
          },
          "metadata": {},
          "execution_count": 112
        }
      ]
    },
    {
      "cell_type": "code",
      "source": [
        "# Usaremos o nosso modelo para predizer a variavel y do conjunto de teste usando o conjunto X de teste.\n",
        "\n",
        "newy2_pred = newlr.predict(newX2_test)"
      ],
      "metadata": {
        "id": "cmTpbZautEa4"
      },
      "execution_count": 113,
      "outputs": []
    },
    {
      "cell_type": "markdown",
      "metadata": {
        "id": "j1oicqCBo3d5"
      },
      "source": [
        "Qual o valor de ${R}^{2}$ e $MAE$ deste novo modelo? Este modelo é melhor do que o anterior?"
      ]
    },
    {
      "cell_type": "code",
      "source": [
        "# Coeficiente de determinacao\n",
        "\n",
        "r2_score(newy2_test, newy2_pred)"
      ],
      "metadata": {
        "colab": {
          "base_uri": "https://localhost:8080/"
        },
        "id": "-QKsnvlrtQ_X",
        "outputId": "f10d1a76-740e-40a7-ef4d-db7ddd417f9f"
      },
      "execution_count": 114,
      "outputs": [
        {
          "output_type": "execute_result",
          "data": {
            "text/plain": [
              "0.5496128871163206"
            ]
          },
          "metadata": {},
          "execution_count": 114
        }
      ]
    },
    {
      "cell_type": "code",
      "source": [
        "# Erro medio absoluto\n",
        "\n",
        "mean_absolute_error(newy2_test, newy2_pred)"
      ],
      "metadata": {
        "colab": {
          "base_uri": "https://localhost:8080/"
        },
        "id": "CiW1t2-ftZqT",
        "outputId": "ef2fd211-9b79-4887-9d63-9981f9603815"
      },
      "execution_count": 115,
      "outputs": [
        {
          "output_type": "execute_result",
          "data": {
            "text/plain": [
              "149639.7468423416"
            ]
          },
          "metadata": {},
          "execution_count": 115
        }
      ]
    },
    {
      "cell_type": "markdown",
      "metadata": {
        "id": "gqlW3S1Lo3d5"
      },
      "source": [
        "**RESPOSTA** (VALE 0.5 pontos): Utilizando a função RFE parametrizada com o modelo de Regressão Linear, obtivemos as variáveis mais importantes correlacionadas ao preço dos imóveis.\\\n",
        "Mediante estas variáveis, calculou-se novamente, utilizando as funções da biblioteca Sklearn os parâmetros de R² e MAE.\\\n",
        "Neste caso obtivemos os seguintes resultados:\\\n",
        "R2² - 0,550\\\n",
        "MAE2 - 149639,747"
      ]
    },
    {
      "cell_type": "markdown",
      "source": [
        "**RESPOSTA CONTINUAÇÃO:**\\\n",
        "Comparando-se os modelos aplicados obtivemos os seguintes resultados:\n",
        "\n",
        "R1² = 0,710 / MAE1 = 122934,821\\\n",
        "R2² = 0,550 / MAE2 = 149639,747\n",
        "\n",
        "Observa-se então, que o primeiro modelo aplicado, sem o ajuste das melhores variáveis, obteve resultados melhores que o segundo modelo. Uma possível explicação para isso, é que as variáveis escolhidas como sendo as melhores, podem ser dependentes de outras variáveis, e quando estas são removidas pela função RFE, pode causar um decréssimo na qualidade dos cálculos realizados pelo segundo modelo."
      ],
      "metadata": {
        "id": "3kJi4LnpUjkB"
      }
    }
  ],
  "metadata": {
    "kernelspec": {
      "display_name": "Python 3",
      "language": "python",
      "name": "python3"
    },
    "language_info": {
      "codemirror_mode": {
        "name": "ipython",
        "version": 3
      },
      "file_extension": ".py",
      "mimetype": "text/x-python",
      "name": "python",
      "nbconvert_exporter": "python",
      "pygments_lexer": "ipython3",
      "version": "3.8.3"
    },
    "colab": {
      "name": "projeto_1.ipynb",
      "provenance": [],
      "collapsed_sections": []
    }
  },
  "nbformat": 4,
  "nbformat_minor": 0
}