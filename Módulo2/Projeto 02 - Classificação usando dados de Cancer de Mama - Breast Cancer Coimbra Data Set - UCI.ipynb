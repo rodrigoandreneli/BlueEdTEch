{
  "cells": [
    {
      "cell_type": "markdown",
      "metadata": {
        "id": "JiuzX9-V_PFY"
      },
      "source": [
        "# Projeto 2 - Classificação usando dados de Cancer de Mama\n",
        "## Breast Cancer Coimbra Data Set - UCI"
      ]
    },
    {
      "cell_type": "markdown",
      "metadata": {
        "id": "LNPk3JUx_PFo"
      },
      "source": [
        "## Introdução"
      ]
    },
    {
      "cell_type": "markdown",
      "metadata": {
        "id": "JAv9H3hu_PFq"
      },
      "source": [
        "O conjunto de dados de Cancer Mama esta localizado na plataforma UCI no seguinte link - https://archive.ics.uci.edu/ml/datasets/Breast+Cancer+Coimbra. O objetivo deste conjunto de dados é classificar se um individuo possui ou não cancer de mama a partir destas variaveis obtidas através do exame de sangue.\n",
        "\n",
        "\n",
        "Segue a descrição das variaveis:\n",
        "- Age: idade em anos\n",
        "- BMI: indice de massa corporal (kg/m2)\n",
        "- Glucose: nivel de glicose no sangue (mg/dL)\n",
        "- Insulin: nivel de insulina no sangue (µU/mL)\n",
        "- HOMA: nivel de resistencia a insulina\n",
        "- Leptin: leptina (ng/mL)\n",
        "- Adiponectin: Adiponectina (µg/mL)\n",
        "- Resistin: Resistina (ng/mL)\n",
        "- MCP-1: nivel de proteina MCP-1 (pg/dL)\n",
        "- Classification: é classificado como 1 sem cancer (grupo controle) e 2 com cancer (grupo paciente)\n",
        "\n",
        "Para mais informações, segue o link do artigo: https://bmccancer.biomedcentral.com/articles/10.1186/s12885-017-3877-1\n",
        "\n",
        "#### referencia: \n",
        "Patrício, M., Pereira, J., Crisóstomo, J., Matafome, P., Gomes, M., Seiça, R., & Caramelo, F. (2018). Using Resistin, glucose, age and BMI to predict the presence of breast cancer. BMC Cancer, 18(1)."
      ]
    },
    {
      "cell_type": "markdown",
      "metadata": {
        "id": "F8HDRstn_PFs"
      },
      "source": [
        "# Sobre este projeto\n",
        "\n",
        "Neste projeto treine os conhecimentos aprendidos até o momento e que entenda algumas das dificuldades que pode ter quando for aplicar os mesmos. \n",
        "\n",
        "Os principais pontos que serão avaliados:\n",
        "\n",
        "- Levantamento de hipoteses\n",
        "- Manipulação de dados e criação de gráficos simples com o `Pandas`\n",
        "- Criar um modelo usando regressão logistica e justificar"
      ]
    },
    {
      "cell_type": "markdown",
      "metadata": {
        "id": "gVaspnD0_PFt"
      },
      "source": [
        "# Preparação do ambiente\n",
        "\n",
        "- Acessem o link - https://archive.ics.uci.edu/ml/machine-learning-databases/00451/dataR2.csv e faça o download do conjunto de dados."
      ]
    },
    {
      "cell_type": "code",
      "source": [
        "import pandas as pd\n",
        "import numpy as np"
      ],
      "metadata": {
        "id": "HlGmv-JqwBCp"
      },
      "execution_count": 1,
      "outputs": []
    },
    {
      "cell_type": "code",
      "source": [
        "df = pd.read_csv('/content/dataR2.csv')"
      ],
      "metadata": {
        "id": "YeZncatCwMy4"
      },
      "execution_count": 2,
      "outputs": []
    },
    {
      "cell_type": "code",
      "source": [
        "df"
      ],
      "metadata": {
        "colab": {
          "base_uri": "https://localhost:8080/",
          "height": 423
        },
        "id": "n3wMm-lHzws1",
        "outputId": "58327a87-aa43-4f30-b5e4-2d003e51d8df"
      },
      "execution_count": 3,
      "outputs": [
        {
          "output_type": "execute_result",
          "data": {
            "text/plain": [
              "     Age        BMI  Glucose  Insulin      HOMA   Leptin  Adiponectin  \\\n",
              "0     48  23.500000       70    2.707  0.467409   8.8071     9.702400   \n",
              "1     83  20.690495       92    3.115  0.706897   8.8438     5.429285   \n",
              "2     82  23.124670       91    4.498  1.009651  17.9393    22.432040   \n",
              "3     68  21.367521       77    3.226  0.612725   9.8827     7.169560   \n",
              "4     86  21.111111       92    3.549  0.805386   6.6994     4.819240   \n",
              "..   ...        ...      ...      ...       ...      ...          ...   \n",
              "111   45  26.850000       92    3.330  0.755688  54.6800    12.100000   \n",
              "112   62  26.840000      100    4.530  1.117400  12.4500    21.420000   \n",
              "113   65  32.050000       97    5.730  1.370998  61.4800    22.540000   \n",
              "114   72  25.590000       82    2.820  0.570392  24.9600    33.750000   \n",
              "115   86  27.180000      138   19.910  6.777364  90.2800    14.110000   \n",
              "\n",
              "     Resistin    MCP.1  Classification  \n",
              "0     7.99585  417.114               1  \n",
              "1     4.06405  468.786               1  \n",
              "2     9.27715  554.697               1  \n",
              "3    12.76600  928.220               1  \n",
              "4    10.57635  773.920               1  \n",
              "..        ...      ...             ...  \n",
              "111  10.96000  268.230               2  \n",
              "112   7.32000  330.160               2  \n",
              "113  10.33000  314.050               2  \n",
              "114   3.27000  392.460               2  \n",
              "115   4.35000   90.090               2  \n",
              "\n",
              "[116 rows x 10 columns]"
            ],
            "text/html": [
              "\n",
              "  <div id=\"df-b7e9a291-bba5-4f57-97f3-3429f5f91620\">\n",
              "    <div class=\"colab-df-container\">\n",
              "      <div>\n",
              "<style scoped>\n",
              "    .dataframe tbody tr th:only-of-type {\n",
              "        vertical-align: middle;\n",
              "    }\n",
              "\n",
              "    .dataframe tbody tr th {\n",
              "        vertical-align: top;\n",
              "    }\n",
              "\n",
              "    .dataframe thead th {\n",
              "        text-align: right;\n",
              "    }\n",
              "</style>\n",
              "<table border=\"1\" class=\"dataframe\">\n",
              "  <thead>\n",
              "    <tr style=\"text-align: right;\">\n",
              "      <th></th>\n",
              "      <th>Age</th>\n",
              "      <th>BMI</th>\n",
              "      <th>Glucose</th>\n",
              "      <th>Insulin</th>\n",
              "      <th>HOMA</th>\n",
              "      <th>Leptin</th>\n",
              "      <th>Adiponectin</th>\n",
              "      <th>Resistin</th>\n",
              "      <th>MCP.1</th>\n",
              "      <th>Classification</th>\n",
              "    </tr>\n",
              "  </thead>\n",
              "  <tbody>\n",
              "    <tr>\n",
              "      <th>0</th>\n",
              "      <td>48</td>\n",
              "      <td>23.500000</td>\n",
              "      <td>70</td>\n",
              "      <td>2.707</td>\n",
              "      <td>0.467409</td>\n",
              "      <td>8.8071</td>\n",
              "      <td>9.702400</td>\n",
              "      <td>7.99585</td>\n",
              "      <td>417.114</td>\n",
              "      <td>1</td>\n",
              "    </tr>\n",
              "    <tr>\n",
              "      <th>1</th>\n",
              "      <td>83</td>\n",
              "      <td>20.690495</td>\n",
              "      <td>92</td>\n",
              "      <td>3.115</td>\n",
              "      <td>0.706897</td>\n",
              "      <td>8.8438</td>\n",
              "      <td>5.429285</td>\n",
              "      <td>4.06405</td>\n",
              "      <td>468.786</td>\n",
              "      <td>1</td>\n",
              "    </tr>\n",
              "    <tr>\n",
              "      <th>2</th>\n",
              "      <td>82</td>\n",
              "      <td>23.124670</td>\n",
              "      <td>91</td>\n",
              "      <td>4.498</td>\n",
              "      <td>1.009651</td>\n",
              "      <td>17.9393</td>\n",
              "      <td>22.432040</td>\n",
              "      <td>9.27715</td>\n",
              "      <td>554.697</td>\n",
              "      <td>1</td>\n",
              "    </tr>\n",
              "    <tr>\n",
              "      <th>3</th>\n",
              "      <td>68</td>\n",
              "      <td>21.367521</td>\n",
              "      <td>77</td>\n",
              "      <td>3.226</td>\n",
              "      <td>0.612725</td>\n",
              "      <td>9.8827</td>\n",
              "      <td>7.169560</td>\n",
              "      <td>12.76600</td>\n",
              "      <td>928.220</td>\n",
              "      <td>1</td>\n",
              "    </tr>\n",
              "    <tr>\n",
              "      <th>4</th>\n",
              "      <td>86</td>\n",
              "      <td>21.111111</td>\n",
              "      <td>92</td>\n",
              "      <td>3.549</td>\n",
              "      <td>0.805386</td>\n",
              "      <td>6.6994</td>\n",
              "      <td>4.819240</td>\n",
              "      <td>10.57635</td>\n",
              "      <td>773.920</td>\n",
              "      <td>1</td>\n",
              "    </tr>\n",
              "    <tr>\n",
              "      <th>...</th>\n",
              "      <td>...</td>\n",
              "      <td>...</td>\n",
              "      <td>...</td>\n",
              "      <td>...</td>\n",
              "      <td>...</td>\n",
              "      <td>...</td>\n",
              "      <td>...</td>\n",
              "      <td>...</td>\n",
              "      <td>...</td>\n",
              "      <td>...</td>\n",
              "    </tr>\n",
              "    <tr>\n",
              "      <th>111</th>\n",
              "      <td>45</td>\n",
              "      <td>26.850000</td>\n",
              "      <td>92</td>\n",
              "      <td>3.330</td>\n",
              "      <td>0.755688</td>\n",
              "      <td>54.6800</td>\n",
              "      <td>12.100000</td>\n",
              "      <td>10.96000</td>\n",
              "      <td>268.230</td>\n",
              "      <td>2</td>\n",
              "    </tr>\n",
              "    <tr>\n",
              "      <th>112</th>\n",
              "      <td>62</td>\n",
              "      <td>26.840000</td>\n",
              "      <td>100</td>\n",
              "      <td>4.530</td>\n",
              "      <td>1.117400</td>\n",
              "      <td>12.4500</td>\n",
              "      <td>21.420000</td>\n",
              "      <td>7.32000</td>\n",
              "      <td>330.160</td>\n",
              "      <td>2</td>\n",
              "    </tr>\n",
              "    <tr>\n",
              "      <th>113</th>\n",
              "      <td>65</td>\n",
              "      <td>32.050000</td>\n",
              "      <td>97</td>\n",
              "      <td>5.730</td>\n",
              "      <td>1.370998</td>\n",
              "      <td>61.4800</td>\n",
              "      <td>22.540000</td>\n",
              "      <td>10.33000</td>\n",
              "      <td>314.050</td>\n",
              "      <td>2</td>\n",
              "    </tr>\n",
              "    <tr>\n",
              "      <th>114</th>\n",
              "      <td>72</td>\n",
              "      <td>25.590000</td>\n",
              "      <td>82</td>\n",
              "      <td>2.820</td>\n",
              "      <td>0.570392</td>\n",
              "      <td>24.9600</td>\n",
              "      <td>33.750000</td>\n",
              "      <td>3.27000</td>\n",
              "      <td>392.460</td>\n",
              "      <td>2</td>\n",
              "    </tr>\n",
              "    <tr>\n",
              "      <th>115</th>\n",
              "      <td>86</td>\n",
              "      <td>27.180000</td>\n",
              "      <td>138</td>\n",
              "      <td>19.910</td>\n",
              "      <td>6.777364</td>\n",
              "      <td>90.2800</td>\n",
              "      <td>14.110000</td>\n",
              "      <td>4.35000</td>\n",
              "      <td>90.090</td>\n",
              "      <td>2</td>\n",
              "    </tr>\n",
              "  </tbody>\n",
              "</table>\n",
              "<p>116 rows × 10 columns</p>\n",
              "</div>\n",
              "      <button class=\"colab-df-convert\" onclick=\"convertToInteractive('df-b7e9a291-bba5-4f57-97f3-3429f5f91620')\"\n",
              "              title=\"Convert this dataframe to an interactive table.\"\n",
              "              style=\"display:none;\">\n",
              "        \n",
              "  <svg xmlns=\"http://www.w3.org/2000/svg\" height=\"24px\"viewBox=\"0 0 24 24\"\n",
              "       width=\"24px\">\n",
              "    <path d=\"M0 0h24v24H0V0z\" fill=\"none\"/>\n",
              "    <path d=\"M18.56 5.44l.94 2.06.94-2.06 2.06-.94-2.06-.94-.94-2.06-.94 2.06-2.06.94zm-11 1L8.5 8.5l.94-2.06 2.06-.94-2.06-.94L8.5 2.5l-.94 2.06-2.06.94zm10 10l.94 2.06.94-2.06 2.06-.94-2.06-.94-.94-2.06-.94 2.06-2.06.94z\"/><path d=\"M17.41 7.96l-1.37-1.37c-.4-.4-.92-.59-1.43-.59-.52 0-1.04.2-1.43.59L10.3 9.45l-7.72 7.72c-.78.78-.78 2.05 0 2.83L4 21.41c.39.39.9.59 1.41.59.51 0 1.02-.2 1.41-.59l7.78-7.78 2.81-2.81c.8-.78.8-2.07 0-2.86zM5.41 20L4 18.59l7.72-7.72 1.47 1.35L5.41 20z\"/>\n",
              "  </svg>\n",
              "      </button>\n",
              "      \n",
              "  <style>\n",
              "    .colab-df-container {\n",
              "      display:flex;\n",
              "      flex-wrap:wrap;\n",
              "      gap: 12px;\n",
              "    }\n",
              "\n",
              "    .colab-df-convert {\n",
              "      background-color: #E8F0FE;\n",
              "      border: none;\n",
              "      border-radius: 50%;\n",
              "      cursor: pointer;\n",
              "      display: none;\n",
              "      fill: #1967D2;\n",
              "      height: 32px;\n",
              "      padding: 0 0 0 0;\n",
              "      width: 32px;\n",
              "    }\n",
              "\n",
              "    .colab-df-convert:hover {\n",
              "      background-color: #E2EBFA;\n",
              "      box-shadow: 0px 1px 2px rgba(60, 64, 67, 0.3), 0px 1px 3px 1px rgba(60, 64, 67, 0.15);\n",
              "      fill: #174EA6;\n",
              "    }\n",
              "\n",
              "    [theme=dark] .colab-df-convert {\n",
              "      background-color: #3B4455;\n",
              "      fill: #D2E3FC;\n",
              "    }\n",
              "\n",
              "    [theme=dark] .colab-df-convert:hover {\n",
              "      background-color: #434B5C;\n",
              "      box-shadow: 0px 1px 3px 1px rgba(0, 0, 0, 0.15);\n",
              "      filter: drop-shadow(0px 1px 2px rgba(0, 0, 0, 0.3));\n",
              "      fill: #FFFFFF;\n",
              "    }\n",
              "  </style>\n",
              "\n",
              "      <script>\n",
              "        const buttonEl =\n",
              "          document.querySelector('#df-b7e9a291-bba5-4f57-97f3-3429f5f91620 button.colab-df-convert');\n",
              "        buttonEl.style.display =\n",
              "          google.colab.kernel.accessAllowed ? 'block' : 'none';\n",
              "\n",
              "        async function convertToInteractive(key) {\n",
              "          const element = document.querySelector('#df-b7e9a291-bba5-4f57-97f3-3429f5f91620');\n",
              "          const dataTable =\n",
              "            await google.colab.kernel.invokeFunction('convertToInteractive',\n",
              "                                                     [key], {});\n",
              "          if (!dataTable) return;\n",
              "\n",
              "          const docLinkHtml = 'Like what you see? Visit the ' +\n",
              "            '<a target=\"_blank\" href=https://colab.research.google.com/notebooks/data_table.ipynb>data table notebook</a>'\n",
              "            + ' to learn more about interactive tables.';\n",
              "          element.innerHTML = '';\n",
              "          dataTable['output_type'] = 'display_data';\n",
              "          await google.colab.output.renderOutput(dataTable, element);\n",
              "          const docLink = document.createElement('div');\n",
              "          docLink.innerHTML = docLinkHtml;\n",
              "          element.appendChild(docLink);\n",
              "        }\n",
              "      </script>\n",
              "    </div>\n",
              "  </div>\n",
              "  "
            ]
          },
          "metadata": {},
          "execution_count": 3
        }
      ]
    },
    {
      "cell_type": "markdown",
      "metadata": {
        "id": "GiesSdWU_PFu"
      },
      "source": [
        "# Exercicio 1. (2.0 pontos)\n",
        "\n",
        "Escreva em até quatro frases, uma breve apresentação sobre suas ideias do conjunto de dados e adicione qualquer contexto que possa ajudar os leitores a entendê-la."
      ]
    },
    {
      "cell_type": "markdown",
      "metadata": {
        "id": "R17uOuw__PFv"
      },
      "source": [
        "**RESPOSTA** (VALE 2.0 pontos): O objetivo deste estudo foi desenvolver e avaliar um modelo de predição de câncer de mama, baseado em dados antropométricos e parâmetros que podem ser coletados em análises sanguíneas de rotina.\\\n",
        "  Os parâmetros utilizados são idade (Age), índice de massa corpórea (BMI), glicose (Glucose), insulina (Insulin), índice de resistência à insulina (HOMA), além dos hormônios leptina (Leptin) e adiponectina (Adiponectin) e as proteínas resistina (Resistin) e MCP-1.\\\n",
        "  O estudo em questão traz em sua conclusão que baseando-se em resistina, glicose, idade e IMC obteve-se bons resultados de sensibilidade e especificidade, podendo assim, estes índices serem considerados bons biomarcadores em testes de triagem.\\\n",
        "  A proposta deste projeto é agora avaliar a correlação dos demais índices com a classificação e o grau de sensibilidade e especificidade utilizando o modelo de regressão logística."
      ]
    },
    {
      "cell_type": "markdown",
      "metadata": {
        "id": "IrHgALKM_PFx"
      },
      "source": [
        "# Exercicio 2. (3.0 pontos)\n",
        "\n",
        "Explore seu conjunto de dados e crie uma história em torno deles! Pense sobre o objetivo que deseja transmitir para seus leitores."
      ]
    },
    {
      "cell_type": "markdown",
      "metadata": {
        "id": "mCCG2LHO_PFy"
      },
      "source": [
        "**RESPOSTA** (VALE 0.6 pontos): A princípio iremos avaliar graficamente qual a correlação entre os índices de Insulina, HOMA, Leptina, Adiponectina e MCP-1 e a classificação.\\\n",
        "Após a análise gráfica, iremos implementar o modelo de regressão logística utilizando estes índices a fim de obter as métricas de  sensibilidade e especificidade.\\\n",
        "Analisando as métricas, poderemos inferir se os índices retornados são ou não bons biomarcadores para os testes de triagem."
      ]
    },
    {
      "cell_type": "markdown",
      "metadata": {
        "id": "0SdXmx8B_PF0"
      },
      "source": [
        "Você precisa criar uma visualização explicativa, ajudando o leitor a identificar uma ou mais ideias-chave no conjunto de dados. Assim, qual visualização você acha interessante destacar?"
      ]
    },
    {
      "cell_type": "code",
      "execution_count": 4,
      "metadata": {
        "id": "XZie8OPq_PF1"
      },
      "outputs": [],
      "source": [
        "#### VALE 0.6 pontos\n",
        "#### CONSTRUA OS SEUS GRAFICOS ABAIXO, USE MAIS CELULAS SE NECESSARIO\n",
        "import seaborn as sns"
      ]
    },
    {
      "cell_type": "code",
      "source": [
        "i = sns.barplot(y=\"Insulin\", x=\"Classification\", data=df)"
      ],
      "metadata": {
        "colab": {
          "base_uri": "https://localhost:8080/",
          "height": 279
        },
        "id": "Xnk1jJmh5a8H",
        "outputId": "d48cf5f7-a564-4e9c-eacc-cbcd27549a42"
      },
      "execution_count": 26,
      "outputs": [
        {
          "output_type": "display_data",
          "data": {
            "text/plain": [
              "<Figure size 432x288 with 1 Axes>"
            ],
            "image/png": "[encoded data removed]"
          },
          "metadata": {
            "needs_background": "light"
          }
        }
      ]
    },
    {
      "cell_type": "code",
      "source": [
        "h = sns.barplot(y=\"HOMA\", x=\"Classification\", data=df)"
      ],
      "metadata": {
        "colab": {
          "base_uri": "https://localhost:8080/",
          "height": 281
        },
        "id": "ys9CrLM0Pp2Y",
        "outputId": "002050dd-da3b-41e2-f806-74954767de7e"
      },
      "execution_count": 27,
      "outputs": [
        {
          "output_type": "display_data",
          "data": {
            "text/plain": [
              "<Figure size 432x288 with 1 Axes>"
            ],
            "image/png": "[encoded data removed]"
          },
          "metadata": {
            "needs_background": "light"
          }
        }
      ]
    },
    {
      "cell_type": "code",
      "source": [
        "l = sns.barplot(y=\"Leptin\", x=\"Classification\", data=df)"
      ],
      "metadata": {
        "colab": {
          "base_uri": "https://localhost:8080/",
          "height": 279
        },
        "id": "j-v_QbDJuXDL",
        "outputId": "cf6da818-f717-4746-9396-36368301ec4b"
      },
      "execution_count": 28,
      "outputs": [
        {
          "output_type": "display_data",
          "data": {
            "text/plain": [
              "<Figure size 432x288 with 1 Axes>"
            ],
            "image/png": "[encoded data removed]"
          },
          "metadata": {
            "needs_background": "light"
          }
        }
      ]
    },
    {
      "cell_type": "code",
      "source": [
        "a = sns.barplot(y=\"Adiponectin\", x=\"Classification\", data=df)"
      ],
      "metadata": {
        "colab": {
          "base_uri": "https://localhost:8080/",
          "height": 279
        },
        "id": "BVkUw_erudd4",
        "outputId": "0a722b40-6904-47cb-80aa-15c847a90ba2"
      },
      "execution_count": 29,
      "outputs": [
        {
          "output_type": "display_data",
          "data": {
            "text/plain": [
              "<Figure size 432x288 with 1 Axes>"
            ],
            "image/png": "[encoded data removed]"
          },
          "metadata": {
            "needs_background": "light"
          }
        }
      ]
    },
    {
      "cell_type": "code",
      "source": [
        "m = sns.barplot(y=\"MCP.1\", x=\"Classification\", data=df)"
      ],
      "metadata": {
        "colab": {
          "base_uri": "https://localhost:8080/",
          "height": 279
        },
        "id": "lfnB4ScPulJE",
        "outputId": "dd86c6be-0a39-417a-ce31-353b02320fa6"
      },
      "execution_count": 30,
      "outputs": [
        {
          "output_type": "display_data",
          "data": {
            "text/plain": [
              "<Figure size 432x288 with 1 Axes>"
            ],
            "image/png": "[encoded data removed]"
          },
          "metadata": {
            "needs_background": "light"
          }
        }
      ]
    },
    {
      "cell_type": "markdown",
      "metadata": {
        "id": "pXSOQs6V_PF3"
      },
      "source": [
        "Obtenha o feedback de suas ideias e de sua(s) visualização(ões), se possivel apresente esse grafico com pelo menos uma outra pessoa e questione:"
      ]
    },
    {
      "cell_type": "markdown",
      "metadata": {
        "id": "3EMr9_6I_PF4"
      },
      "source": [
        "1. O que você percebe na visualização?\n",
        "2. Quais perguntas você tem sobre o conjunto de dados?\n",
        "3. Há algo que você não entende nas visualizações?"
      ]
    },
    {
      "cell_type": "markdown",
      "metadata": {
        "id": "NPLk8r9C_PF5"
      },
      "source": [
        "**RESPOSTA** (VALE 0.6 pontos):\\\n",
        "1 - Observando os gráficos podemos ver que tanto o grupo controle quanto o de pacientes apresentam índices semelhantes de MCP-1, Adiponectina e Leptina. Já para os índices de Insulina e HOMA existe uma diferença.\\\n",
        "2 - Existirá diferença signifcativa de correlação com a classificação entre os índices de Insulina e HOMA, que apresentaram diferenças entre os grupos, para os demais índices, que não apresentaram tal diferença?.\\\n",
        "A quantidade de dados, os quais representam esta diferença nos índices de Insulina e HOMA, são suficientes para torna-los bons biomarcadores?\\\n",
        "3 - Graficamente falando não consigo interpretar se os índices analisados são bons parâmetros para implementar o modelo de regressão logística."
      ]
    },
    {
      "cell_type": "markdown",
      "metadata": {
        "id": "fVjVdcMQ_PF6"
      },
      "source": [
        "Após o feedback, o que você mudaria?"
      ]
    },
    {
      "cell_type": "markdown",
      "metadata": {
        "id": "Ta5aXXdF_PF6"
      },
      "source": [
        "**RESPOSTA** (VALE 0.6 pontos):\\\n",
        "Após a avaliação gráfica provavelmente eu seguiria apenas com os índices de Insulina e HOMA para serem os parâmetros do modelo, pois estes índices apresentaram diferenças de valores entre os grupos, porém não sei se as diferenças apresentadas serão significativas."
      ]
    },
    {
      "cell_type": "markdown",
      "metadata": {
        "id": "-6_p02ZW_PF7"
      },
      "source": [
        "Apresente suas nova(s) visualização(ões) a partir do feedback:"
      ]
    },
    {
      "cell_type": "code",
      "execution_count": 31,
      "metadata": {
        "id": "-4wP0RkW_PF7",
        "colab": {
          "base_uri": "https://localhost:8080/",
          "height": 279
        },
        "outputId": "ae444783-28e5-40e7-d68a-e001d38abc41"
      },
      "outputs": [
        {
          "output_type": "display_data",
          "data": {
            "text/plain": [
              "<Figure size 432x288 with 1 Axes>"
            ],
            "image/png": "[encoded data removed]"
          },
          "metadata": {
            "needs_background": "light"
          }
        }
      ],
      "source": [
        "#### VALE 0.6 pontos\n",
        "#### CONSTRUA O SEU GRAFICO ABAIXO, USE MAIS CELULAS SE NECESSARIO\n",
        "iS = sns.scatterplot(y=\"Insulin\", x=\"Classification\", data=df)"
      ]
    },
    {
      "cell_type": "code",
      "source": [
        "hS = sns.scatterplot(y=\"HOMA\", x=\"Classification\", data=df)"
      ],
      "metadata": {
        "colab": {
          "base_uri": "https://localhost:8080/",
          "height": 279
        },
        "id": "_ShkmP6I2IVS",
        "outputId": "c821e2df-e744-4409-8942-56c07c954b57"
      },
      "execution_count": 32,
      "outputs": [
        {
          "output_type": "display_data",
          "data": {
            "text/plain": [
              "<Figure size 432x288 with 1 Axes>"
            ],
            "image/png": "[encoded data removed]"
          },
          "metadata": {
            "needs_background": "light"
          }
        }
      ]
    },
    {
      "cell_type": "code",
      "source": [
        "lS = sns.scatterplot(y=\"Leptin\", x=\"Classification\", data=df)"
      ],
      "metadata": {
        "colab": {
          "base_uri": "https://localhost:8080/",
          "height": 279
        },
        "id": "_C8m9qgF2SEG",
        "outputId": "ae11ab1c-78e6-4ffb-a06d-cc527786a7fb"
      },
      "execution_count": 33,
      "outputs": [
        {
          "output_type": "display_data",
          "data": {
            "text/plain": [
              "<Figure size 432x288 with 1 Axes>"
            ],
            "image/png": "[encoded data removed]"
          },
          "metadata": {
            "needs_background": "light"
          }
        }
      ]
    },
    {
      "cell_type": "code",
      "source": [
        "aS = sns.scatterplot(y=\"Adiponectin\", x=\"Classification\", data=df)"
      ],
      "metadata": {
        "colab": {
          "base_uri": "https://localhost:8080/",
          "height": 279
        },
        "id": "o7HvktW62Wi4",
        "outputId": "5496db7c-0f1f-4c84-c422-098970accfa5"
      },
      "execution_count": 34,
      "outputs": [
        {
          "output_type": "display_data",
          "data": {
            "text/plain": [
              "<Figure size 432x288 with 1 Axes>"
            ],
            "image/png": "[encoded data removed]"
          },
          "metadata": {
            "needs_background": "light"
          }
        }
      ]
    },
    {
      "cell_type": "code",
      "source": [
        "mS = sns.scatterplot(y=\"MCP.1\", x=\"Classification\", data=df)"
      ],
      "metadata": {
        "colab": {
          "base_uri": "https://localhost:8080/",
          "height": 280
        },
        "id": "pIwkZ2cw2alN",
        "outputId": "8d19185d-3ccc-4be4-9f7d-6810b7468ed6"
      },
      "execution_count": 35,
      "outputs": [
        {
          "output_type": "display_data",
          "data": {
            "text/plain": [
              "<Figure size 432x288 with 1 Axes>"
            ],
            "image/png": "[encoded data removed]"
          },
          "metadata": {
            "needs_background": "light"
          }
        }
      ]
    },
    {
      "cell_type": "markdown",
      "metadata": {
        "id": "G4oa7Za9_PF8"
      },
      "source": [
        "# Exercicio 3. (5.0 pontos)\n",
        "\n",
        "Construa um modelo de regressão logistica para predizer a variável **Classification** com **statsmodels.api**."
      ]
    },
    {
      "cell_type": "code",
      "execution_count": 37,
      "metadata": {
        "id": "0WJta6TK_PF8"
      },
      "outputs": [],
      "source": [
        "#### VALE 0.8 pontos\n",
        "#### EXECUTE OS COMANDOS ABAIXO, USE MAIS CELULAS SE NECESSARIO\n",
        "import statsmodels.api as sm"
      ]
    },
    {
      "cell_type": "code",
      "source": [
        "df.info()"
      ],
      "metadata": {
        "colab": {
          "base_uri": "https://localhost:8080/"
        },
        "id": "AXMFJvgH21il",
        "outputId": "fc2ece1b-4925-42ab-d701-d246957edcec"
      },
      "execution_count": 40,
      "outputs": [
        {
          "output_type": "stream",
          "name": "stdout",
          "text": [
            "<class 'pandas.core.frame.DataFrame'>\n",
            "RangeIndex: 116 entries, 0 to 115\n",
            "Data columns (total 10 columns):\n",
            " #   Column          Non-Null Count  Dtype  \n",
            "---  ------          --------------  -----  \n",
            " 0   Age             116 non-null    int64  \n",
            " 1   BMI             116 non-null    float64\n",
            " 2   Glucose         116 non-null    int64  \n",
            " 3   Insulin         116 non-null    float64\n",
            " 4   HOMA            116 non-null    float64\n",
            " 5   Leptin          116 non-null    float64\n",
            " 6   Adiponectin     116 non-null    float64\n",
            " 7   Resistin        116 non-null    float64\n",
            " 8   MCP.1           116 non-null    float64\n",
            " 9   Classification  116 non-null    int64  \n",
            "dtypes: float64(7), int64(3)\n",
            "memory usage: 9.2 KB\n"
          ]
        }
      ]
    },
    {
      "cell_type": "code",
      "source": [
        "# Como o dataframe não apresenta dados nulos, não é necessário excluir linhas com dados faltantes."
      ],
      "metadata": {
        "id": "puHcp92N7cmy"
      },
      "execution_count": null,
      "outputs": []
    },
    {
      "cell_type": "code",
      "source": [
        "# Separando os dados em X e Y\n",
        "X = df.drop(['Classification', 'Age', 'BMI', 'Glucose', 'Resistin'], axis = 1)\n",
        "y = np.array(df['Classification'])"
      ],
      "metadata": {
        "id": "tyTQIMnQ7wum"
      },
      "execution_count": 41,
      "outputs": []
    },
    {
      "cell_type": "code",
      "source": [
        "# Conferindo os parâmetros utilizados em X\n",
        "X.info()"
      ],
      "metadata": {
        "colab": {
          "base_uri": "https://localhost:8080/"
        },
        "id": "cbCdvLyO-8k1",
        "outputId": "782f4122-6f2d-4a8f-839f-4e6a1cc17f84"
      },
      "execution_count": 46,
      "outputs": [
        {
          "output_type": "stream",
          "name": "stdout",
          "text": [
            "<class 'pandas.core.frame.DataFrame'>\n",
            "RangeIndex: 116 entries, 0 to 115\n",
            "Data columns (total 5 columns):\n",
            " #   Column       Non-Null Count  Dtype  \n",
            "---  ------       --------------  -----  \n",
            " 0   Insulin      116 non-null    float64\n",
            " 1   HOMA         116 non-null    float64\n",
            " 2   Leptin       116 non-null    float64\n",
            " 3   Adiponectin  116 non-null    float64\n",
            " 4   MCP.1        116 non-null    float64\n",
            "dtypes: float64(5)\n",
            "memory usage: 4.7 KB\n"
          ]
        }
      ]
    },
    {
      "cell_type": "code",
      "source": [
        "# Conferindo y \n",
        "y.shape"
      ],
      "metadata": {
        "colab": {
          "base_uri": "https://localhost:8080/"
        },
        "id": "-NqEjiotCr09",
        "outputId": "08f57d79-40fd-4e0c-c905-3297a7247777"
      },
      "execution_count": 47,
      "outputs": [
        {
          "output_type": "execute_result",
          "data": {
            "text/plain": [
              "(116,)"
            ]
          },
          "metadata": {},
          "execution_count": 47
        }
      ]
    },
    {
      "cell_type": "code",
      "source": [
        "# Tratando os dados\n",
        "X = sm.add_constant(X[['Insulin','HOMA', 'Leptin', 'Adiponectin', 'MCP.1']])\n",
        "y = np.array(y)\n",
        "y[y == 1 ] = 0\n",
        "y[y == 2 ] = 1"
      ],
      "metadata": {
        "colab": {
          "base_uri": "https://localhost:8080/"
        },
        "id": "-BmAYSkl8S7h",
        "outputId": "fd61d0c9-1f14-4874-ea0e-35d361541f81"
      },
      "execution_count": 48,
      "outputs": [
        {
          "output_type": "stream",
          "name": "stderr",
          "text": [
            "/usr/local/lib/python3.7/dist-packages/statsmodels/tsa/tsatools.py:117: FutureWarning: In a future version of pandas all arguments of concat except for the argument 'objs' will be keyword-only\n",
            "  x = pd.concat(x[::order], 1)\n"
          ]
        }
      ]
    },
    {
      "cell_type": "code",
      "source": [
        "# Obtendo os coeficientes para o modelo de regressão logística\n",
        "logit_model = sm.Logit(y,X)\n",
        "result=logit_model.fit()"
      ],
      "metadata": {
        "colab": {
          "base_uri": "https://localhost:8080/"
        },
        "id": "LYA70jcSATsm",
        "outputId": "7fb211ad-d632-4395-cb27-5f1086313b10"
      },
      "execution_count": 49,
      "outputs": [
        {
          "output_type": "stream",
          "name": "stdout",
          "text": [
            "Optimization terminated successfully.\n",
            "         Current function value: 0.574250\n",
            "         Iterations 9\n"
          ]
        }
      ]
    },
    {
      "cell_type": "markdown",
      "metadata": {
        "id": "5o4Tu9cg_PF9"
      },
      "source": [
        "Coloque abaixo a saida do seu modelo usando **seu_modelo.summary()**."
      ]
    },
    {
      "cell_type": "code",
      "execution_count": 50,
      "metadata": {
        "id": "WUPkM6np_PF9",
        "colab": {
          "base_uri": "https://localhost:8080/"
        },
        "outputId": "538247c3-93b5-42b6-ae1a-fb91900da40f"
      },
      "outputs": [
        {
          "output_type": "stream",
          "name": "stdout",
          "text": [
            "                           Logit Regression Results                           \n",
            "==============================================================================\n",
            "Dep. Variable:                      y   No. Observations:                  116\n",
            "Model:                          Logit   Df Residuals:                      110\n",
            "Method:                           MLE   Df Model:                            5\n",
            "Date:                Mon, 09 May 2022   Pseudo R-squ.:                  0.1651\n",
            "Time:                        13:48:09   Log-Likelihood:                -66.613\n",
            "converged:                       True   LL-Null:                       -79.783\n",
            "Covariance Type:            nonrobust   LLR p-value:                 7.664e-05\n",
            "===============================================================================\n",
            "                  coef    std err          z      P>|z|      [0.025      0.975]\n",
            "-------------------------------------------------------------------------------\n",
            "const          -0.1626      0.652     -0.249      0.803      -1.441       1.116\n",
            "Insulin        -0.5839      0.227     -2.570      0.010      -1.029      -0.139\n",
            "HOMA            2.8717      1.005      2.856      0.004       0.901       4.842\n",
            "Leptin         -0.0244      0.013     -1.868      0.062      -0.050       0.001\n",
            "Adiponectin    -0.0010      0.030     -0.033      0.973      -0.061       0.059\n",
            "MCP.1           0.0004      0.001      0.573      0.567      -0.001       0.002\n",
            "===============================================================================\n"
          ]
        }
      ],
      "source": [
        "#### VALE 0.8 pontos\n",
        "#### EXECUTE O COMANDO ABAIXO\n",
        "\n",
        "print(result.summary())"
      ]
    },
    {
      "cell_type": "markdown",
      "metadata": {
        "id": "CKmZ1cm4_PF-"
      },
      "source": [
        "Faça outro modelo usando a biblioteca **sklearn** e usem o parametro **random_state** com valor 10."
      ]
    },
    {
      "cell_type": "code",
      "execution_count": 53,
      "metadata": {
        "id": "mHILxe_j_PF_"
      },
      "outputs": [],
      "source": [
        "#### VALE 0.8 pontos\n",
        "#### EXECUTE OS COMANDOS ABAIXO, USE MAIS CELULAS SE NECESSARIO\n",
        "from sklearn.preprocessing import StandardScaler\n",
        "\n",
        "from sklearn.model_selection import train_test_split\n",
        "from sklearn.linear_model import LogisticRegression\n",
        "\n",
        "# Metricas usadas para classificacao\n",
        "from sklearn.metrics import confusion_matrix"
      ]
    },
    {
      "cell_type": "code",
      "source": [
        "# Separando os dados\n",
        "X = df.drop(['Classification', 'Age', 'BMI', 'Glucose', 'Resistin'], axis = 1)\n",
        "y = np.array(df['Classification'])\n",
        "X_std = StandardScaler().fit_transform(X)"
      ],
      "metadata": {
        "id": "kIxCdptLCt6s"
      },
      "execution_count": 54,
      "outputs": []
    },
    {
      "cell_type": "code",
      "source": [
        "# Separando bases de teste e treino\n",
        "X_train, X_test, y_train, y_test = train_test_split(X_std, y, test_size = 0.2, random_state=10)\n",
        "\n",
        "lr = LogisticRegression(random_state=42)\n",
        "lr.fit(X_train, y_train)\n",
        "y_pred = lr.predict(X_test)"
      ],
      "metadata": {
        "id": "dnAKiqFzDC0m"
      },
      "execution_count": 55,
      "outputs": []
    },
    {
      "cell_type": "markdown",
      "metadata": {
        "id": "wpYdqxOp_PF_"
      },
      "source": [
        "Coloque abaixo a matriz de confusão do modelo feito:"
      ]
    },
    {
      "cell_type": "code",
      "execution_count": 56,
      "metadata": {
        "id": "x5vBChi1_PF_",
        "colab": {
          "base_uri": "https://localhost:8080/",
          "height": 112
        },
        "outputId": "8410bce8-5040-4126-f113-5e6a75a51cc4"
      },
      "outputs": [
        {
          "output_type": "execute_result",
          "data": {
            "text/plain": [
              "                   Predito positivo  Predito negativo\n",
              "Original positivo                 6                 6\n",
              "Original negativo                 6                 6"
            ],
            "text/html": [
              "\n",
              "  <div id=\"df-41047920-d9ea-4204-8bef-807af1f75fdb\">\n",
              "    <div class=\"colab-df-container\">\n",
              "      <div>\n",
              "<style scoped>\n",
              "    .dataframe tbody tr th:only-of-type {\n",
              "        vertical-align: middle;\n",
              "    }\n",
              "\n",
              "    .dataframe tbody tr th {\n",
              "        vertical-align: top;\n",
              "    }\n",
              "\n",
              "    .dataframe thead th {\n",
              "        text-align: right;\n",
              "    }\n",
              "</style>\n",
              "<table border=\"1\" class=\"dataframe\">\n",
              "  <thead>\n",
              "    <tr style=\"text-align: right;\">\n",
              "      <th></th>\n",
              "      <th>Predito positivo</th>\n",
              "      <th>Predito negativo</th>\n",
              "    </tr>\n",
              "  </thead>\n",
              "  <tbody>\n",
              "    <tr>\n",
              "      <th>Original positivo</th>\n",
              "      <td>6</td>\n",
              "      <td>6</td>\n",
              "    </tr>\n",
              "    <tr>\n",
              "      <th>Original negativo</th>\n",
              "      <td>6</td>\n",
              "      <td>6</td>\n",
              "    </tr>\n",
              "  </tbody>\n",
              "</table>\n",
              "</div>\n",
              "      <button class=\"colab-df-convert\" onclick=\"convertToInteractive('df-41047920-d9ea-4204-8bef-807af1f75fdb')\"\n",
              "              title=\"Convert this dataframe to an interactive table.\"\n",
              "              style=\"display:none;\">\n",
              "        \n",
              "  <svg xmlns=\"http://www.w3.org/2000/svg\" height=\"24px\"viewBox=\"0 0 24 24\"\n",
              "       width=\"24px\">\n",
              "    <path d=\"M0 0h24v24H0V0z\" fill=\"none\"/>\n",
              "    <path d=\"M18.56 5.44l.94 2.06.94-2.06 2.06-.94-2.06-.94-.94-2.06-.94 2.06-2.06.94zm-11 1L8.5 8.5l.94-2.06 2.06-.94-2.06-.94L8.5 2.5l-.94 2.06-2.06.94zm10 10l.94 2.06.94-2.06 2.06-.94-2.06-.94-.94-2.06-.94 2.06-2.06.94z\"/><path d=\"M17.41 7.96l-1.37-1.37c-.4-.4-.92-.59-1.43-.59-.52 0-1.04.2-1.43.59L10.3 9.45l-7.72 7.72c-.78.78-.78 2.05 0 2.83L4 21.41c.39.39.9.59 1.41.59.51 0 1.02-.2 1.41-.59l7.78-7.78 2.81-2.81c.8-.78.8-2.07 0-2.86zM5.41 20L4 18.59l7.72-7.72 1.47 1.35L5.41 20z\"/>\n",
              "  </svg>\n",
              "      </button>\n",
              "      \n",
              "  <style>\n",
              "    .colab-df-container {\n",
              "      display:flex;\n",
              "      flex-wrap:wrap;\n",
              "      gap: 12px;\n",
              "    }\n",
              "\n",
              "    .colab-df-convert {\n",
              "      background-color: #E8F0FE;\n",
              "      border: none;\n",
              "      border-radius: 50%;\n",
              "      cursor: pointer;\n",
              "      display: none;\n",
              "      fill: #1967D2;\n",
              "      height: 32px;\n",
              "      padding: 0 0 0 0;\n",
              "      width: 32px;\n",
              "    }\n",
              "\n",
              "    .colab-df-convert:hover {\n",
              "      background-color: #E2EBFA;\n",
              "      box-shadow: 0px 1px 2px rgba(60, 64, 67, 0.3), 0px 1px 3px 1px rgba(60, 64, 67, 0.15);\n",
              "      fill: #174EA6;\n",
              "    }\n",
              "\n",
              "    [theme=dark] .colab-df-convert {\n",
              "      background-color: #3B4455;\n",
              "      fill: #D2E3FC;\n",
              "    }\n",
              "\n",
              "    [theme=dark] .colab-df-convert:hover {\n",
              "      background-color: #434B5C;\n",
              "      box-shadow: 0px 1px 3px 1px rgba(0, 0, 0, 0.15);\n",
              "      filter: drop-shadow(0px 1px 2px rgba(0, 0, 0, 0.3));\n",
              "      fill: #FFFFFF;\n",
              "    }\n",
              "  </style>\n",
              "\n",
              "      <script>\n",
              "        const buttonEl =\n",
              "          document.querySelector('#df-41047920-d9ea-4204-8bef-807af1f75fdb button.colab-df-convert');\n",
              "        buttonEl.style.display =\n",
              "          google.colab.kernel.accessAllowed ? 'block' : 'none';\n",
              "\n",
              "        async function convertToInteractive(key) {\n",
              "          const element = document.querySelector('#df-41047920-d9ea-4204-8bef-807af1f75fdb');\n",
              "          const dataTable =\n",
              "            await google.colab.kernel.invokeFunction('convertToInteractive',\n",
              "                                                     [key], {});\n",
              "          if (!dataTable) return;\n",
              "\n",
              "          const docLinkHtml = 'Like what you see? Visit the ' +\n",
              "            '<a target=\"_blank\" href=https://colab.research.google.com/notebooks/data_table.ipynb>data table notebook</a>'\n",
              "            + ' to learn more about interactive tables.';\n",
              "          element.innerHTML = '';\n",
              "          dataTable['output_type'] = 'display_data';\n",
              "          await google.colab.output.renderOutput(dataTable, element);\n",
              "          const docLink = document.createElement('div');\n",
              "          docLink.innerHTML = docLinkHtml;\n",
              "          element.appendChild(docLink);\n",
              "        }\n",
              "      </script>\n",
              "    </div>\n",
              "  </div>\n",
              "  "
            ]
          },
          "metadata": {},
          "execution_count": 56
        }
      ],
      "source": [
        "#### VALE 0.8 pontos\n",
        "#### EXECUTE O COMANDO ABAIXO\n",
        "# Usamos a estrutura dataframe da biblioteca pandas para melhor apresentar a matriz de confusao\n",
        "pd.DataFrame(confusion_matrix(y_test, y_pred), \n",
        "             columns=[\"Predito positivo\",\"Predito negativo\",],\n",
        "             index  =[\"Original positivo\", \"Original negativo\"])"
      ]
    },
    {
      "cell_type": "markdown",
      "source": [
        "Calculando as métricas"
      ],
      "metadata": {
        "id": "xtcsg_pULq0w"
      }
    },
    {
      "cell_type": "code",
      "source": [
        "# Acurácia\n",
        "ac = (6+6)/(6+6+6+6)\n",
        "ac"
      ],
      "metadata": {
        "colab": {
          "base_uri": "https://localhost:8080/"
        },
        "id": "9cYvLUBXKP0U",
        "outputId": "f715c57b-9256-4379-9807-779bab0ebe45"
      },
      "execution_count": 57,
      "outputs": [
        {
          "output_type": "execute_result",
          "data": {
            "text/plain": [
              "0.5"
            ]
          },
          "metadata": {},
          "execution_count": 57
        }
      ]
    },
    {
      "cell_type": "code",
      "source": [
        "# Sensibilidade\n",
        "ss = (6)/(6+6)\n",
        "ss"
      ],
      "metadata": {
        "colab": {
          "base_uri": "https://localhost:8080/"
        },
        "id": "dj4fsaDuKcxt",
        "outputId": "8b810df0-15f8-4220-f322-0f832975b88d"
      },
      "execution_count": 58,
      "outputs": [
        {
          "output_type": "execute_result",
          "data": {
            "text/plain": [
              "0.5"
            ]
          },
          "metadata": {},
          "execution_count": 58
        }
      ]
    },
    {
      "cell_type": "code",
      "source": [
        "# Especificidade\n",
        "es = (6)/(6+6)\n",
        "es"
      ],
      "metadata": {
        "colab": {
          "base_uri": "https://localhost:8080/"
        },
        "id": "mlVMzlDKKsi6",
        "outputId": "9b445241-152f-43a8-a5a1-2b6c72591edb"
      },
      "execution_count": 59,
      "outputs": [
        {
          "output_type": "execute_result",
          "data": {
            "text/plain": [
              "0.5"
            ]
          },
          "metadata": {},
          "execution_count": 59
        }
      ]
    },
    {
      "cell_type": "code",
      "source": [
        "# Precisão\n",
        "pr = (6)/(6+6)\n",
        "pr"
      ],
      "metadata": {
        "colab": {
          "base_uri": "https://localhost:8080/"
        },
        "id": "2uquh1WDK3-2",
        "outputId": "e32b99d5-cfee-4931-ab03-a631bcabb50c"
      },
      "execution_count": 60,
      "outputs": [
        {
          "output_type": "execute_result",
          "data": {
            "text/plain": [
              "0.5"
            ]
          },
          "metadata": {},
          "execution_count": 60
        }
      ]
    },
    {
      "cell_type": "code",
      "source": [
        "# Importanto biblioteca para conferência dos cáculos das métricas\n",
        "from sklearn.metrics import classification_report"
      ],
      "metadata": {
        "id": "7T4pWeKgJ5l7"
      },
      "execution_count": 61,
      "outputs": []
    },
    {
      "cell_type": "code",
      "source": [
        "print(classification_report(y_test, y_pred))"
      ],
      "metadata": {
        "colab": {
          "base_uri": "https://localhost:8080/"
        },
        "id": "_U8FitGUJ6Ou",
        "outputId": "0453b5a3-ecd5-4524-a6c1-3145e15a72fb"
      },
      "execution_count": 62,
      "outputs": [
        {
          "output_type": "stream",
          "name": "stdout",
          "text": [
            "              precision    recall  f1-score   support\n",
            "\n",
            "           1       0.50      0.50      0.50        12\n",
            "           2       0.50      0.50      0.50        12\n",
            "\n",
            "    accuracy                           0.50        24\n",
            "   macro avg       0.50      0.50      0.50        24\n",
            "weighted avg       0.50      0.50      0.50        24\n",
            "\n"
          ]
        }
      ]
    },
    {
      "cell_type": "markdown",
      "metadata": {
        "id": "TJ5TtJC9_PGA"
      },
      "source": [
        "Prencha as métricas a partir da matriz de confusão obtida (lembrando que a classe negativa é 1 - sem cancer e a classe positiva é 2 - com cancer)"
      ]
    },
    {
      "cell_type": "code",
      "execution_count": 64,
      "metadata": {
        "id": "AqRRupfi_PGB",
        "outputId": "f6094a75-6764-4daf-d0f2-cb0f2aa5ae45",
        "colab": {
          "base_uri": "https://localhost:8080/"
        }
      },
      "outputs": [
        {
          "output_type": "stream",
          "name": "stdout",
          "text": [
            "acurácia: 0.50\n",
            "precisão: 0.50\n",
            "especificidade: 0.50\n",
            "sensibilidade: 0.50\n"
          ]
        }
      ],
      "source": [
        "# VALE 0.8 pontos\n",
        "# Substitua __ pelos valores solicitados\n",
        "print('acurácia: {:.2f}'.format(ac))\n",
        "print('precisão: {:.2f}'.format(pr))\n",
        "print('especificidade: {:.2f}'.format(es))\n",
        "print('sensibilidade: {:.2f}'.format(ss))"
      ]
    },
    {
      "cell_type": "markdown",
      "metadata": {
        "id": "1It5nMom_PGG"
      },
      "source": [
        "Observando a matriz de confusão, o seu modelo tende a obter mais erros do tipo I ou do tipo II?"
      ]
    },
    {
      "cell_type": "markdown",
      "metadata": {
        "id": "lIyWEuxw_PGH"
      },
      "source": [
        "**RESPOSTA** (VALE 1.0 ponto):\\\n",
        "Os tipos de erros obtidos pelo modelo foram iguais tanto para os do tipo I quanto os do tipo II."
      ]
    }
  ],
  "metadata": {
    "kernelspec": {
      "display_name": "Python 3",
      "language": "python",
      "name": "python3"
    },
    "language_info": {
      "codemirror_mode": {
        "name": "ipython",
        "version": 3
      },
      "file_extension": ".py",
      "mimetype": "text/x-python",
      "name": "python",
      "nbconvert_exporter": "python",
      "pygments_lexer": "ipython3",
      "version": "3.8.3"
    },
    "colab": {
      "name": "projeto_2.ipynb",
      "provenance": [],
      "collapsed_sections": []
    }
  },
  "nbformat": 4,
  "nbformat_minor": 0
}