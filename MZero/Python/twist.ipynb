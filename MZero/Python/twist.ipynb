{
 "cells": [
  {
   "cell_type": "code",
   "execution_count": 120,
   "metadata": {},
   "outputs": [],
   "source": [
    "def converteInt2Char(k): # k deve ser inteiro\n",
    "    if k == 0:\n",
    "        k = -1\n",
    "    return chr(k + 96) # devolve o caractere associado a k\n",
    "\n",
    "def converteChar2Int(c): # c deve ser caracter\n",
    "    if ord(c) == 95:\n",
    "        return 0\n",
    "    elif ord(c) == 46:\n",
    "        return 27\n",
    "    else:\n",
    "        return ord(c) - 96 # devolve o código inteiro associado ao caracter\n"
   ]
  },
  {
   "cell_type": "code",
   "execution_count": 109,
   "metadata": {},
   "outputs": [],
   "source": [
    "def decodifica(textocifrado, k):\n",
    "    cifracodigo = [converteChar2Int(x) for x in textocifrado]\n",
    "    n = len(cifracodigo)\n",
    "    codigoplano = list(range(n))\n",
    "    for i in range(len(codigoplano)):\n",
    "        codigoplano[(k*i) % n] = (cifracodigo[i] + i ) % 28\n",
    "    textoplano = [converteInt2Char(x) for x in codigoplano]\n",
    "    return ''.join(textoplano)"
   ]
  },
  {
   "cell_type": "code",
   "execution_count": 113,
   "metadata": {},
   "outputs": [],
   "source": [
    "def codifica(textoplano, k):\n",
    "    n = len(textoplano)\n",
    "    codigoplano = [converteChar2Int(x) for x in textoplano]\n",
    "    cifracodigo = [(codigoplano[(k*i) % n ] - i ) % 28 for i in range(len(codigoplano))]\n",
    "    textocifrado = [converteInt2Char(x) for x in cifracodigo]\n",
    "    return ''.join(textocifrado)"
   ]
  },
  {
   "cell_type": "code",
   "execution_count": 116,
   "metadata": {},
   "outputs": [
    {
     "data": {
      "text/plain": [
       "46"
      ]
     },
     "execution_count": 116,
     "metadata": {},
     "output_type": "execute_result"
    }
   ],
   "source": [
    "ord('.')"
   ]
  },
  {
   "cell_type": "code",
   "execution_count": 118,
   "metadata": {},
   "outputs": [
    {
     "data": {
      "text/plain": [
       "95"
      ]
     },
     "execution_count": 118,
     "metadata": {},
     "output_type": "execute_result"
    }
   ],
   "source": [
    "ord('_')\n"
   ]
  },
  {
   "cell_type": "code",
   "execution_count": 119,
   "metadata": {},
   "outputs": [
    {
     "data": {
      "text/plain": [
       "46"
      ]
     },
     "execution_count": 119,
     "metadata": {},
     "output_type": "execute_result"
    }
   ],
   "source": [
    "ord('.')"
   ]
  },
  {
   "cell_type": "code",
   "execution_count": 95,
   "metadata": {},
   "outputs": [
    {
     "name": "stdout",
     "output_type": "stream",
     "text": [
      "o 111\n",
      "_ 95\n",
      "j 106\n"
     ]
    },
    {
     "data": {
      "text/plain": [
       "'o_l'"
      ]
     },
     "execution_count": 95,
     "metadata": {},
     "output_type": "execute_result"
    }
   ],
   "source": [
    "decodifica('o_j', 5)"
   ]
  },
  {
   "cell_type": "code",
   "execution_count": null,
   "metadata": {},
   "outputs": [],
   "source": []
  }
 ],
 "metadata": {
  "interpreter": {
   "hash": "3957804924f6e35133d4645d7f4c93892f921bef57541f34f62085f77264cc99"
  },
  "kernelspec": {
   "display_name": "Python 3.8.10 64-bit ('base': conda)",
   "language": "python",
   "name": "python3"
  },
  "language_info": {
   "codemirror_mode": {
    "name": "ipython",
    "version": 3
   },
   "file_extension": ".py",
   "mimetype": "text/x-python",
   "name": "python",
   "nbconvert_exporter": "python",
   "pygments_lexer": "ipython3",
   "version": "3.8.10"
  },
  "orig_nbformat": 4
 },
 "nbformat": 4,
 "nbformat_minor": 2
}
